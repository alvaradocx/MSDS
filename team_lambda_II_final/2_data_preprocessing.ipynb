{
 "cells": [
  {
   "cell_type": "markdown",
   "metadata": {},
   "source": [
    "# 2. Data Preprocessing"
   ]
  },
  {
   "cell_type": "markdown",
   "metadata": {},
   "source": [
    "## Data Load In"
   ]
  },
  {
   "cell_type": "code",
   "execution_count": null,
   "metadata": {},
   "outputs": [],
   "source": [
    "import pandas as pd\n",
    "import numpy as np\n",
    "import glob\n",
    "import os"
   ]
  },
  {
   "cell_type": "code",
   "execution_count": null,
   "metadata": {},
   "outputs": [],
   "source": [
    "# obtain paths for all images\n",
    "images_paths_f_case = glob.glob('/project/ds6050-soa2wg/team_lambda_II/Outputs/ccs/filt_global/func_mean/female_asd/*')\n",
    "images_paths_f_control = glob.glob('/project/ds6050-soa2wg/team_lambda_II/Outputs/ccs/filt_global/func_mean/female_control/*')\n",
    "images_paths_m_case = glob.glob('/project/ds6050-soa2wg/team_lambda_II/Outputs/ccs/filt_global/func_mean/male_asd/*')\n",
    "images_paths_m_control = glob.glob('/project/ds6050-soa2wg/team_lambda_II/Outputs/ccs/filt_global/func_mean/male_control/*')\n",
    "\n",
    "total_cases = len(images_paths_f_case) + len(images_paths_m_case)\n",
    "total_controls = len(images_paths_f_control ) + len(images_paths_m_control)\n",
    "# print out number of participants per category\n",
    "print('There are {} female cases'.format(str(len(images_paths_f_case))))\n",
    "print('---------------------------------------')\n",
    "print('There are {} female controls'.format(str(len(images_paths_f_control))))\n",
    "print('---------------------------------------')\n",
    "print('There are {} male cases'.format(str(len(images_paths_m_case))))\n",
    "print('---------------------------------------')\n",
    "print('There are {} male controls'.format(str(len(images_paths_m_control))))\n",
    "print('---------------------------------------')\n",
    "print(f'There are {total_cases} total cases and {total_controls} total controls! {total_controls + total_cases} participants in total')"
   ]
  },
  {
   "cell_type": "markdown",
   "metadata": {},
   "source": [
    "### Data Prep"
   ]
  },
  {
   "cell_type": "code",
   "execution_count": null,
   "metadata": {},
   "outputs": [],
   "source": [
    "# make one giant list\n",
    "images_paths = images_paths_f_case  + images_paths_f_control + images_paths_m_case + images_paths_m_control\n",
    "images_paths[0]"
   ]
  },
  {
   "cell_type": "code",
   "execution_count": null,
   "metadata": {},
   "outputs": [],
   "source": [
    "# extract patient identifier from input files\n",
    "subjects_df = pd.DataFrame(columns = ['FILE_ID', 'PATH'])\n",
    "subjects = []\n",
    "for path in images_paths:\n",
    "    sub = path.split('/')[-1].split('_func')[0]\n",
    "    subjects.append(sub)\n",
    "subjects_df['FILE_ID'] = subjects\n",
    "subjects_df['PATH'] = images_paths"
   ]
  },
  {
   "cell_type": "code",
   "execution_count": null,
   "metadata": {},
   "outputs": [],
   "source": [
    "# load in phenotype file from ABIDE \n",
    "pheno = pd.read_csv('/project/ds6050-soa2wg/team_lambda_II/Phenotypic_V1_0b_preprocessed1.csv', sep = ',')\n",
    "pheno = pheno[['FILE_ID','DX_GROUP','DSM_IV_TR','SEX']]"
   ]
  },
  {
   "cell_type": "code",
   "execution_count": null,
   "metadata": {},
   "outputs": [],
   "source": [
    "# map string variable names for ease of human interpretation only\n",
    "pheno['DX_Control'] = pheno['DX_GROUP'].map({1:'Autism',2:'Control'}) # column with diagnosis from numerical category\n",
    "pheno['DX_DSM'] = pheno['DSM_IV_TR'].map({1:'Autism',0:'Control',2:'Aspergers',3:'PDD-NOS',4:'Aspergers or PDD-NOS'})\n",
    "pheno['SEX_'] = pheno['SEX'].map({1:'Male',2:'Female'})"
   ]
  },
  {
   "cell_type": "code",
   "execution_count": null,
   "metadata": {},
   "outputs": [],
   "source": [
    "pheno['DX_Control'].value_counts()"
   ]
  },
  {
   "cell_type": "code",
   "execution_count": null,
   "metadata": {},
   "outputs": [],
   "source": [
    "pheno['DX_DSM'].value_counts()"
   ]
  },
  {
   "cell_type": "code",
   "execution_count": null,
   "metadata": {},
   "outputs": [],
   "source": [
    "# merge our used sjubjects with ABIDE phenotype list to match up between lists\n",
    "our_data = pheno.merge(subjects_df, on = 'FILE_ID')"
   ]
  },
  {
   "cell_type": "code",
   "execution_count": null,
   "metadata": {},
   "outputs": [],
   "source": [
    "### Export out\n",
    "our_data.to_csv('All_CasesvsControls.csv', index = None)"
   ]
  },
  {
   "cell_type": "markdown",
   "metadata": {},
   "source": [
    "### Only cases where DSM_IV_TR/DX_DSM is Autism"
   ]
  },
  {
   "cell_type": "code",
   "execution_count": null,
   "metadata": {},
   "outputs": [],
   "source": [
    "asd_dsm = our_data.query(\"DSM_IV_TR == 0 or DSM_IV_TR == 1\")\n",
    "asd_dsm"
   ]
  },
  {
   "cell_type": "markdown",
   "metadata": {},
   "source": [
    " asd_dsm.to_csv('ASD_DSM_CasesvsControls.csv', index = None)"
   ]
  }
 ],
 "metadata": {
  "kernelspec": {
   "display_name": "Python 3.8",
   "language": "python",
   "name": "python-3.8"
  },
  "language_info": {
   "codemirror_mode": {
    "name": "ipython",
    "version": 3
   },
   "file_extension": ".py",
   "mimetype": "text/x-python",
   "name": "python",
   "nbconvert_exporter": "python",
   "pygments_lexer": "ipython3",
   "version": "3.8.8"
  }
 },
 "nbformat": 4,
 "nbformat_minor": 4
}
