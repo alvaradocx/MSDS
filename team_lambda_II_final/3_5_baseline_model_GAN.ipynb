{
 "cells": [
  {
   "cell_type": "markdown",
   "metadata": {},
   "source": [
    "# 3.5 Baseline Model w GAN"
   ]
  },
  {
   "cell_type": "markdown",
   "metadata": {},
   "source": [
    "## 1. Data Load In"
   ]
  },
  {
   "cell_type": "code",
   "execution_count": 1,
   "metadata": {},
   "outputs": [],
   "source": [
    "#!pip install nibabel\n",
    "import nibabel as nib\n",
    "import numpy as np\n",
    "import glob\n",
    "import sys\n",
    "import sklearn\n",
    "import os\n",
    "import numpy as np\n",
    "import matplotlib as mpl\n",
    "import matplotlib.pyplot as plt\n",
    "from functools import partial\n",
    "import PIL\n",
    "import PIL.Image\n",
    "import pandas as pd\n",
    "\n",
    "import tensorflow as tf\n",
    "from tensorflow import keras\n",
    "from tensorflow.keras import layers\n",
    "from sklearn.model_selection import train_test_split\n",
    "\n",
    "np.random.seed(42) # note that you must use the same seed to ensure consistentcy in your training/validation/testing\n",
    "tf.random.set_seed(42)"
   ]
  },
  {
   "cell_type": "code",
   "execution_count": 2,
   "metadata": {},
   "outputs": [],
   "source": [
    "# cases + conrols df\n",
    "df = pd.read_csv('/project/ds6050-soa2wg/team_lambda_II/ASD_DSM_CasesvsControls.csv', sep = ',')\n",
    "\n",
    "# obtain paths for all images\n",
    "images_paths_f_case = list(df.query(\"SEX_ == 'Female' & DX_Control == 'Autism'\")['PATH'])\n",
    "images_paths_f_control = list(df.query(\"SEX_ == 'Female' & DX_Control == 'Control'\")['PATH'])\n",
    "images_paths_m_case = list(df.query(\"SEX_ == 'Male' & DX_Control == 'Autism'\")['PATH'])\n",
    "images_paths_m_control = list(df.query(\"SEX_ == 'Male' & DX_Control == 'Control'\")['PATH'])\n",
    "\n",
    "# GAN\n",
    "gan_data_m = np.load('Ellen Exploratory (Will Delete When Done)/gan_pos_female_ep500_cs3000_si50.npy')\n",
    "gan_data_f = np.load('gan_pos_male_ep500_cs3000_si50.npy')"
   ]
  },
  {
   "cell_type": "code",
   "execution_count": 3,
   "metadata": {},
   "outputs": [
    {
     "data": {
      "text/plain": [
       "(50, 61, 73, 61)"
      ]
     },
     "execution_count": 3,
     "metadata": {},
     "output_type": "execute_result"
    }
   ],
   "source": [
    "gan_data_m.shape"
   ]
  },
  {
   "cell_type": "code",
   "execution_count": 4,
   "metadata": {},
   "outputs": [
    {
     "data": {
      "text/plain": [
       "(50, 61, 73, 61)"
      ]
     },
     "execution_count": 4,
     "metadata": {},
     "output_type": "execute_result"
    }
   ],
   "source": [
    "gan_data_f.shape"
   ]
  },
  {
   "cell_type": "code",
   "execution_count": 5,
   "metadata": {},
   "outputs": [],
   "source": [
    "gan_data_cases = np.concatenate((gan_data_f, gan_data_m))"
   ]
  },
  {
   "cell_type": "code",
   "execution_count": 6,
   "metadata": {},
   "outputs": [
    {
     "data": {
      "text/plain": [
       "(100, 61, 73, 61)"
      ]
     },
     "execution_count": 6,
     "metadata": {},
     "output_type": "execute_result"
    }
   ],
   "source": [
    "gan_data_cases.shape"
   ]
  },
  {
   "cell_type": "code",
   "execution_count": 7,
   "metadata": {},
   "outputs": [
    {
     "name": "stdout",
     "output_type": "stream",
     "text": [
      "There are 72 female cases\n",
      "---------------------------------------\n",
      "There are 61 female controls\n",
      "---------------------------------------\n",
      "There are 174 male cases\n",
      "---------------------------------------\n",
      "There are 184 male controls\n",
      "---------------------------------------\n",
      "There are 246 total cases and 245 total controls! 491 participants in total\n"
     ]
    }
   ],
   "source": [
    "total_cases = len(images_paths_f_case) + len(images_paths_m_case) + gan_data_m.shape[0] + gan_data_f.shape[0]\n",
    "total_controls = len(images_paths_f_control ) + len(images_paths_m_control) #+ gan_control_f.shape[0]\n",
    "# print out number of participants per category\n",
    "print('There are {} female cases'.format(str(len(images_paths_f_case) + gan_data_f.shape[0])))\n",
    "print('---------------------------------------')\n",
    "print('There are {} female controls'.format(str(len(images_paths_f_control))))\n",
    "print('---------------------------------------')\n",
    "print('There are {} male cases'.format(str(len(images_paths_m_case) + gan_data_m.shape[0])))\n",
    "print('---------------------------------------')\n",
    "print('There are {} male controls'.format(str(len(images_paths_m_control))))\n",
    "print('---------------------------------------')\n",
    "print(f'There are {total_cases} total cases and {total_controls} total controls! {total_controls + total_cases} participants in total')\n",
    "# make one giant list\n",
    "images_paths = images_paths_f_case  + images_paths_f_control + images_paths_m_case + images_paths_m_control\n",
    "\n",
    "num_im = len(images_paths)\n",
    "image_array = []"
   ]
  },
  {
   "cell_type": "code",
   "execution_count": 8,
   "metadata": {},
   "outputs": [],
   "source": [
    "final_list = [] # create image array from paths\n",
    "for path in images_paths:\n",
    "    try: \n",
    "        img = nib.load(path)\n",
    "        image_data = img.get_fdata()\n",
    "        image_array.append(image_data)\n",
    "        final_list.append(path)\n",
    "    except:\n",
    "        continue\n",
    "\n",
    "image_array = np.asarray(image_array).astype('float32')\n",
    "image_array = np.vstack((image_array,gan_data_cases))  "
   ]
  },
  {
   "cell_type": "code",
   "execution_count": 9,
   "metadata": {},
   "outputs": [
    {
     "data": {
      "text/plain": [
       "(491, 61, 73, 61)"
      ]
     },
     "execution_count": 9,
     "metadata": {},
     "output_type": "execute_result"
    }
   ],
   "source": [
    "image_array.shape"
   ]
  },
  {
   "cell_type": "code",
   "execution_count": 10,
   "metadata": {},
   "outputs": [
    {
     "data": {
      "text/plain": [
       "2    245\n",
       "1    146\n",
       "Name: DX_GROUP, dtype: int64"
      ]
     },
     "execution_count": 10,
     "metadata": {},
     "output_type": "execute_result"
    }
   ],
   "source": [
    "pheno = df[['FILE_ID', 'DX_GROUP']]\n",
    "pheno_array = np.array(pheno['DX_GROUP'])\n",
    "pheno_array = np.where(pheno_array == 2, 0, pheno_array) # 0 = control, 1 = dx\n",
    "# distribution\n",
    "df['DX_GROUP'].value_counts()"
   ]
  },
  {
   "cell_type": "code",
   "execution_count": 11,
   "metadata": {},
   "outputs": [],
   "source": [
    "# gan_pheno\n",
    "gan_pheno_cases = np.ones((gan_data_cases.shape[0],), dtype=int)\n",
    "#gan_pheno_control = np.zeros((123,), dtype=int)\n",
    "\n",
    "# merge cases + control pheno\n",
    "#gan_pheno = np.concatenate((gan_pheno_cases,gan_pheno_control))\n",
    "# append to pheno_array\n",
    "all_pheno = np.concatenate((pheno_array, gan_pheno_cases))"
   ]
  },
  {
   "cell_type": "code",
   "execution_count": 12,
   "metadata": {},
   "outputs": [],
   "source": [
    "#training and holdout split\n",
    "x_train, x_val, y_train, y_val = train_test_split(image_array, all_pheno, test_size = 0.15, random_state = 654)\n",
    "\n",
    "#training and testing split\n",
    "x_train, x_test, y_train, y_test = train_test_split(x_train, y_train, test_size = 0.25, random_state = 654)"
   ]
  },
  {
   "cell_type": "code",
   "execution_count": 13,
   "metadata": {},
   "outputs": [
    {
     "data": {
      "text/plain": [
       "<matplotlib.image.AxesImage at 0x7f318c75a8e0>"
      ]
     },
     "execution_count": 13,
     "metadata": {},
     "output_type": "execute_result"
    },
    {
     "data": {
      "image/png": "[encoded data removed]",
      "text/plain": [
       "<Figure size 432x288 with 1 Axes>"
      ]
     },
     "metadata": {
      "needs_background": "light"
     },
     "output_type": "display_data"
    }
   ],
   "source": [
    "plt.imshow(x_train[15][48].T)"
   ]
  },
  {
   "cell_type": "code",
   "execution_count": 14,
   "metadata": {},
   "outputs": [
    {
     "name": "stderr",
     "output_type": "stream",
     "text": [
      "2022-05-03 18:32:06.465241: I tensorflow/core/platform/cpu_feature_guard.cc:151] This TensorFlow binary is optimized with oneAPI Deep Neural Network Library (oneDNN) to use the following CPU instructions in performance-critical operations:  AVX2 AVX512F FMA\n",
      "To enable them in other operations, rebuild TensorFlow with the appropriate compiler flags.\n",
      "2022-05-03 18:32:08.550359: I tensorflow/core/common_runtime/gpu/gpu_device.cc:1525] Created device /job:localhost/replica:0/task:0/device:GPU:0 with 30904 MB memory:  -> device: 0, name: Tesla V100-SXM2-32GB, pci bus id: 0000:18:00.0, compute capability: 7.0\n",
      "2022-05-03 18:32:08.554690: I tensorflow/core/common_runtime/gpu/gpu_device.cc:1525] Created device /job:localhost/replica:0/task:0/device:GPU:1 with 30967 MB memory:  -> device: 1, name: Tesla V100-SXM2-32GB, pci bus id: 0000:86:00.0, compute capability: 7.0\n"
     ]
    }
   ],
   "source": [
    "# Define data loaders.\n",
    "train_loader = tf.data.Dataset.from_tensor_slices((x_train, y_train))\n",
    "validation_loader = tf.data.Dataset.from_tensor_slices((x_test, y_test))\n",
    "\n",
    "batch_size = 16\n",
    "# Augment the on the fly during training.\n",
    "train_dataset = (\n",
    "    train_loader.shuffle(len(x_train))\n",
    "#     .map(train_preprocessing)\n",
    "    .batch(batch_size)\n",
    "    .prefetch(tf.data.AUTOTUNE)\n",
    ")\n",
    "# Only rescale.\n",
    "validation_dataset = (\n",
    "    validation_loader.shuffle(len(x_test))\n",
    "#    .map(validation_preprocessing)\n",
    "    .batch(batch_size)\n",
    "    .prefetch(tf.data.AUTOTUNE)\n",
    ")"
   ]
  },
  {
   "cell_type": "markdown",
   "metadata": {},
   "source": [
    "Architecture \n",
    "\n",
    "Define a 3D convolutional neural network\n",
    "To make the model easier to understand, we structure it into blocks. The architecture of the 3D CNN used in this example is based on this paper."
   ]
  },
  {
   "cell_type": "code",
   "execution_count": 15,
   "metadata": {},
   "outputs": [
    {
     "name": "stdout",
     "output_type": "stream",
     "text": [
      "Model: \"3dcnn\"\n",
      "_________________________________________________________________\n",
      " Layer (type)                Output Shape              Param #   \n",
      "=================================================================\n",
      " input_1 (InputLayer)        [(None, 61, 73, 61, 1)]   0         \n",
      "                                                                 \n",
      " normalization (Normalizatio  (None, 61, 73, 61, 1)    3         \n",
      " n)                                                              \n",
      "                                                                 \n",
      " conv3d (Conv3D)             (None, 61, 73, 61, 64)    1792      \n",
      "                                                                 \n",
      " max_pooling3d (MaxPooling3D  (None, 30, 36, 30, 64)   0         \n",
      " )                                                               \n",
      "                                                                 \n",
      " batch_normalization (BatchN  (None, 30, 36, 30, 64)   256       \n",
      " ormalization)                                                   \n",
      "                                                                 \n",
      " conv3d_1 (Conv3D)           (None, 30, 36, 30, 64)    110656    \n",
      "                                                                 \n",
      " max_pooling3d_1 (MaxPooling  (None, 15, 18, 15, 64)   0         \n",
      " 3D)                                                             \n",
      "                                                                 \n",
      " batch_normalization_1 (Batc  (None, 15, 18, 15, 64)   256       \n",
      " hNormalization)                                                 \n",
      "                                                                 \n",
      " conv3d_2 (Conv3D)           (None, 15, 18, 15, 128)   221312    \n",
      "                                                                 \n",
      " max_pooling3d_2 (MaxPooling  (None, 7, 9, 7, 128)     0         \n",
      " 3D)                                                             \n",
      "                                                                 \n",
      " batch_normalization_2 (Batc  (None, 7, 9, 7, 128)     512       \n",
      " hNormalization)                                                 \n",
      "                                                                 \n",
      " conv3d_3 (Conv3D)           (None, 7, 9, 7, 128)      442496    \n",
      "                                                                 \n",
      " max_pooling3d_3 (MaxPooling  (None, 3, 4, 3, 128)     0         \n",
      " 3D)                                                             \n",
      "                                                                 \n",
      " batch_normalization_3 (Batc  (None, 3, 4, 3, 128)     512       \n",
      " hNormalization)                                                 \n",
      "                                                                 \n",
      " global_average_pooling3d (G  (None, 128)              0         \n",
      " lobalAveragePooling3D)                                          \n",
      "                                                                 \n",
      " dense (Dense)               (None, 16)                2064      \n",
      "                                                                 \n",
      " dropout (Dropout)           (None, 16)                0         \n",
      "                                                                 \n",
      " dense_1 (Dense)             (None, 1)                 17        \n",
      "                                                                 \n",
      "=================================================================\n",
      "Total params: 779,876\n",
      "Trainable params: 779,105\n",
      "Non-trainable params: 771\n",
      "_________________________________________________________________\n"
     ]
    }
   ],
   "source": [
    "def get_model(width=61, height=73, depth=61):\n",
    "    \"\"\"Build a 3D convolutional neural network model.\"\"\"\n",
    "\n",
    "    inputs = keras.Input((width, height, depth, 1))\n",
    "    \n",
    "    x = layers.Normalization(axis=None)(inputs) #ADDED NORMALIZATION LAYER\n",
    "\n",
    "    x = layers.Conv3D(filters=64, kernel_size=3, activation=\"relu\", padding=\"same\")(x)\n",
    "    x = layers.MaxPool3D(pool_size=2)(x)\n",
    "    x = layers.BatchNormalization()(x)\n",
    "\n",
    "    x = layers.Conv3D(filters=64, kernel_size=3, activation=\"relu\", padding=\"same\")(x)\n",
    "    x = layers.MaxPool3D(pool_size=2)(x)\n",
    "    x = layers.BatchNormalization()(x)\n",
    "\n",
    "    x = layers.Conv3D(filters=128, kernel_size=3, activation=\"relu\", padding=\"same\")(x)\n",
    "    x = layers.MaxPool3D(pool_size=2)(x)\n",
    "    x = layers.BatchNormalization()(x)\n",
    "\n",
    "    x = layers.Conv3D(filters=128, kernel_size=3, activation=\"relu\", padding=\"same\")(x)\n",
    "    x = layers.MaxPool3D(pool_size=2)(x)\n",
    "    x = layers.BatchNormalization()(x)\n",
    "\n",
    "    x = layers.GlobalAveragePooling3D()(x)\n",
    "    x = layers.Dense(units=16, activation=\"relu\")(x)\n",
    "    x = layers.Dropout(0.3)(x)\n",
    "\n",
    "    outputs = layers.Dense(units=1, activation=\"sigmoid\")(x)\n",
    "\n",
    "    # Define the model.\n",
    "    model = keras.Model(inputs, outputs, name=\"3dcnn\")\n",
    "    return model\n",
    "\n",
    "\n",
    "# Build model.\n",
    "model = get_model(width=61, height=73, depth=61)\n",
    "model.summary()"
   ]
  },
  {
   "cell_type": "code",
   "execution_count": 16,
   "metadata": {},
   "outputs": [
    {
     "name": "stdout",
     "output_type": "stream",
     "text": [
      "Epoch 1/50\n"
     ]
    },
    {
     "name": "stderr",
     "output_type": "stream",
     "text": [
      "2022-05-03 18:32:12.367270: I tensorflow/stream_executor/cuda/cuda_dnn.cc:368] Loaded cuDNN version 8101\n"
     ]
    },
    {
     "name": "stdout",
     "output_type": "stream",
     "text": [
      "20/20 [==============================] - 10s 171ms/step - loss: 0.5343 - binary_accuracy: 0.6987 - auc: 0.7642 - val_loss: 1.2024 - val_binary_accuracy: 0.6476 - val_auc: 0.8352\n",
      "Epoch 2/50\n",
      "20/20 [==============================] - 3s 134ms/step - loss: 0.4545 - binary_accuracy: 0.8077 - auc: 0.8514 - val_loss: 0.6900 - val_binary_accuracy: 0.5524 - val_auc: 0.7728\n",
      "Epoch 3/50\n",
      "20/20 [==============================] - 3s 134ms/step - loss: 0.4086 - binary_accuracy: 0.8141 - auc: 0.8952 - val_loss: 1.0652 - val_binary_accuracy: 0.6476 - val_auc: 0.8357\n",
      "Epoch 4/50\n",
      "20/20 [==============================] - 3s 133ms/step - loss: 0.3895 - binary_accuracy: 0.8141 - auc: 0.8954 - val_loss: 0.5194 - val_binary_accuracy: 0.7429 - val_auc: 0.8549\n",
      "Epoch 5/50\n",
      "20/20 [==============================] - 3s 134ms/step - loss: 0.3608 - binary_accuracy: 0.8558 - auc: 0.9273 - val_loss: 0.7336 - val_binary_accuracy: 0.6476 - val_auc: 0.8500\n",
      "Epoch 6/50\n",
      "20/20 [==============================] - 3s 133ms/step - loss: 0.3582 - binary_accuracy: 0.8462 - auc: 0.9278 - val_loss: 0.7099 - val_binary_accuracy: 0.6476 - val_auc: 0.8501\n",
      "Epoch 7/50\n",
      "20/20 [==============================] - 3s 134ms/step - loss: 0.3905 - binary_accuracy: 0.8301 - auc: 0.8976 - val_loss: 0.4719 - val_binary_accuracy: 0.7905 - val_auc: 0.8631\n",
      "Epoch 8/50\n",
      "20/20 [==============================] - 3s 135ms/step - loss: 0.3117 - binary_accuracy: 0.8846 - auc: 0.9505 - val_loss: 0.4481 - val_binary_accuracy: 0.7905 - val_auc: 0.8671\n",
      "Epoch 9/50\n",
      "20/20 [==============================] - 3s 134ms/step - loss: 0.2879 - binary_accuracy: 0.9167 - auc: 0.9655 - val_loss: 0.4782 - val_binary_accuracy: 0.7524 - val_auc: 0.8777\n",
      "Epoch 10/50\n",
      "20/20 [==============================] - 3s 134ms/step - loss: 0.2781 - binary_accuracy: 0.8942 - auc: 0.9623 - val_loss: 0.5879 - val_binary_accuracy: 0.5905 - val_auc: 0.8602\n",
      "Epoch 11/50\n",
      "20/20 [==============================] - 3s 134ms/step - loss: 0.2494 - binary_accuracy: 0.9135 - auc: 0.9771 - val_loss: 0.4606 - val_binary_accuracy: 0.7810 - val_auc: 0.8704\n",
      "Epoch 12/50\n",
      "20/20 [==============================] - 3s 134ms/step - loss: 0.3039 - binary_accuracy: 0.8686 - auc: 0.9489 - val_loss: 0.5486 - val_binary_accuracy: 0.6286 - val_auc: 0.8730\n",
      "Epoch 13/50\n",
      "20/20 [==============================] - 3s 134ms/step - loss: 0.2634 - binary_accuracy: 0.9263 - auc: 0.9702 - val_loss: 0.5686 - val_binary_accuracy: 0.7333 - val_auc: 0.8688\n",
      "Epoch 14/50\n",
      "20/20 [==============================] - 3s 134ms/step - loss: 0.2159 - binary_accuracy: 0.9551 - auc: 0.9895 - val_loss: 0.5258 - val_binary_accuracy: 0.7143 - val_auc: 0.8715\n",
      "Epoch 15/50\n",
      "20/20 [==============================] - 3s 134ms/step - loss: 0.1761 - binary_accuracy: 0.9647 - auc: 0.9903 - val_loss: 0.4560 - val_binary_accuracy: 0.7905 - val_auc: 0.8702\n",
      "Epoch 16/50\n",
      "20/20 [==============================] - 3s 135ms/step - loss: 0.1608 - binary_accuracy: 0.9615 - auc: 0.9956 - val_loss: 0.4797 - val_binary_accuracy: 0.7524 - val_auc: 0.8849\n",
      "Epoch 17/50\n",
      "20/20 [==============================] - 3s 135ms/step - loss: 0.1592 - binary_accuracy: 0.9583 - auc: 0.9978 - val_loss: 0.4911 - val_binary_accuracy: 0.7619 - val_auc: 0.8640\n",
      "Epoch 18/50\n",
      "20/20 [==============================] - 3s 135ms/step - loss: 0.2233 - binary_accuracy: 0.9423 - auc: 0.9753 - val_loss: 0.5266 - val_binary_accuracy: 0.7238 - val_auc: 0.8538\n",
      "Epoch 19/50\n",
      "20/20 [==============================] - 3s 135ms/step - loss: 0.1584 - binary_accuracy: 0.9679 - auc: 0.9934 - val_loss: 0.4827 - val_binary_accuracy: 0.7905 - val_auc: 0.8655\n",
      "Epoch 20/50\n",
      "20/20 [==============================] - 3s 135ms/step - loss: 0.1420 - binary_accuracy: 0.9776 - auc: 0.9973 - val_loss: 0.5045 - val_binary_accuracy: 0.7333 - val_auc: 0.8825\n",
      "Epoch 21/50\n",
      "20/20 [==============================] - 3s 135ms/step - loss: 0.1064 - binary_accuracy: 0.9808 - auc: 0.9993 - val_loss: 0.8602 - val_binary_accuracy: 0.5333 - val_auc: 0.8849\n",
      "Epoch 22/50\n",
      "20/20 [==============================] - 3s 134ms/step - loss: 0.1027 - binary_accuracy: 0.9872 - auc: 0.9997 - val_loss: 0.4721 - val_binary_accuracy: 0.8000 - val_auc: 0.8695\n",
      "Epoch 23/50\n",
      "20/20 [==============================] - 3s 134ms/step - loss: 0.0779 - binary_accuracy: 0.9936 - auc: 0.9998 - val_loss: 0.8191 - val_binary_accuracy: 0.6762 - val_auc: 0.8723\n",
      "Epoch 24/50\n",
      "20/20 [==============================] - 3s 134ms/step - loss: 0.1041 - binary_accuracy: 0.9840 - auc: 0.9981 - val_loss: 0.4373 - val_binary_accuracy: 0.8286 - val_auc: 0.8739\n",
      "Epoch 25/50\n",
      "20/20 [==============================] - 3s 135ms/step - loss: 0.1160 - binary_accuracy: 0.9744 - auc: 0.9907 - val_loss: 1.1224 - val_binary_accuracy: 0.5429 - val_auc: 0.8600\n",
      "Epoch 26/50\n",
      "20/20 [==============================] - 3s 134ms/step - loss: 0.1990 - binary_accuracy: 0.9423 - auc: 0.9852 - val_loss: 2.3248 - val_binary_accuracy: 0.6476 - val_auc: 0.6899\n",
      "Epoch 27/50\n",
      "20/20 [==============================] - 3s 134ms/step - loss: 0.1276 - binary_accuracy: 0.9744 - auc: 0.9965 - val_loss: 0.6304 - val_binary_accuracy: 0.7714 - val_auc: 0.8787\n",
      "Epoch 28/50\n",
      "20/20 [==============================] - 3s 134ms/step - loss: 0.0923 - binary_accuracy: 0.9904 - auc: 0.9997 - val_loss: 0.5551 - val_binary_accuracy: 0.7429 - val_auc: 0.8849\n",
      "Epoch 29/50\n",
      "20/20 [==============================] - 3s 134ms/step - loss: 0.0674 - binary_accuracy: 0.9936 - auc: 1.0000 - val_loss: 0.4369 - val_binary_accuracy: 0.8381 - val_auc: 0.8832\n",
      "Epoch 30/50\n",
      "20/20 [==============================] - 3s 134ms/step - loss: 0.0861 - binary_accuracy: 0.9904 - auc: 0.9988 - val_loss: 0.4705 - val_binary_accuracy: 0.8286 - val_auc: 0.8863\n",
      "Epoch 31/50\n",
      "20/20 [==============================] - 3s 135ms/step - loss: 0.0894 - binary_accuracy: 0.9744 - auc: 0.9980 - val_loss: 0.7448 - val_binary_accuracy: 0.5905 - val_auc: 0.8914\n",
      "Epoch 32/50\n",
      "20/20 [==============================] - 3s 134ms/step - loss: 0.0660 - binary_accuracy: 0.9904 - auc: 0.9994 - val_loss: 0.5847 - val_binary_accuracy: 0.7524 - val_auc: 0.8898\n",
      "Epoch 33/50\n",
      "20/20 [==============================] - 3s 134ms/step - loss: 0.0651 - binary_accuracy: 0.9872 - auc: 0.9991 - val_loss: 0.7344 - val_binary_accuracy: 0.7429 - val_auc: 0.8478\n",
      "Epoch 34/50\n",
      "20/20 [==============================] - 3s 134ms/step - loss: 0.0639 - binary_accuracy: 0.9904 - auc: 0.9996 - val_loss: 0.5055 - val_binary_accuracy: 0.8095 - val_auc: 0.8681\n",
      "Epoch 35/50\n",
      "20/20 [==============================] - 3s 134ms/step - loss: 0.0682 - binary_accuracy: 0.9904 - auc: 0.9989 - val_loss: 0.5426 - val_binary_accuracy: 0.7905 - val_auc: 0.8867\n",
      "Epoch 36/50\n",
      "20/20 [==============================] - 3s 134ms/step - loss: 0.0403 - binary_accuracy: 0.9968 - auc: 1.0000 - val_loss: 0.4980 - val_binary_accuracy: 0.8381 - val_auc: 0.8818\n",
      "Epoch 37/50\n",
      "20/20 [==============================] - 3s 133ms/step - loss: 0.0413 - binary_accuracy: 0.9968 - auc: 1.0000 - val_loss: 0.5206 - val_binary_accuracy: 0.7905 - val_auc: 0.8801\n",
      "Epoch 38/50\n",
      "20/20 [==============================] - 3s 134ms/step - loss: 0.0412 - binary_accuracy: 0.9872 - auc: 1.0000 - val_loss: 0.9318 - val_binary_accuracy: 0.7333 - val_auc: 0.8816\n",
      "Epoch 39/50\n",
      "20/20 [==============================] - 3s 135ms/step - loss: 0.0421 - binary_accuracy: 0.9968 - auc: 0.9998 - val_loss: 0.6277 - val_binary_accuracy: 0.7524 - val_auc: 0.8712\n",
      "Epoch 40/50\n",
      "20/20 [==============================] - 3s 136ms/step - loss: 0.0798 - binary_accuracy: 0.9776 - auc: 0.9943 - val_loss: 0.7124 - val_binary_accuracy: 0.6667 - val_auc: 0.8918\n",
      "Epoch 41/50\n",
      "20/20 [==============================] - 3s 134ms/step - loss: 0.1029 - binary_accuracy: 0.9712 - auc: 0.9977 - val_loss: 0.6427 - val_binary_accuracy: 0.7429 - val_auc: 0.8542\n",
      "Epoch 42/50\n",
      "20/20 [==============================] - 3s 134ms/step - loss: 0.0719 - binary_accuracy: 0.9904 - auc: 1.0000 - val_loss: 1.0737 - val_binary_accuracy: 0.5429 - val_auc: 0.8807\n",
      "Epoch 43/50\n",
      "20/20 [==============================] - 3s 134ms/step - loss: 0.0524 - binary_accuracy: 0.9936 - auc: 1.0000 - val_loss: 0.7885 - val_binary_accuracy: 0.6190 - val_auc: 0.8894\n",
      "Epoch 44/50\n",
      "20/20 [==============================] - 3s 134ms/step - loss: 0.0360 - binary_accuracy: 1.0000 - auc: 1.0000 - val_loss: 0.5456 - val_binary_accuracy: 0.8095 - val_auc: 0.8816\n"
     ]
    },
    {
     "data": {
      "text/plain": [
       "<keras.callbacks.History at 0x7f318bb87700>"
      ]
     },
     "execution_count": 16,
     "metadata": {},
     "output_type": "execute_result"
    }
   ],
   "source": [
    "# Compile model.\n",
    "initial_learning_rate = 0.0001\n",
    "\n",
    "lr_schedule = keras.optimizers.schedules.ExponentialDecay(\n",
    "    initial_learning_rate, decay_steps=10000, decay_rate=0.96, staircase=True\n",
    ")\n",
    "\n",
    "# Compile model.\n",
    "model.compile(\n",
    "    loss=\"binary_crossentropy\",\n",
    "    optimizer=keras.optimizers.Adam(learning_rate=lr_schedule),\n",
    "    metrics=[tf.keras.metrics.BinaryAccuracy(),tf.keras.metrics.AUC()],\n",
    ")\n",
    "\n",
    "# Define callbacks.\n",
    "#checkpoint_cb = keras.callbacks.ModelCheckpoint(\n",
    " #   \"3d_image_classification_Cxa_DFNN.h5\", save_best_only=True\n",
    "#)\n",
    "early_stopping_cb = keras.callbacks.EarlyStopping(monitor=\"val_binary_accuracy\", patience=15)\n",
    "\n",
    "# Train the model, doing validation at the end of each epoch\n",
    "epochs = 50\n",
    "model.fit(\n",
    "    train_dataset,\n",
    "    validation_data=validation_dataset,\n",
    "    epochs=epochs,\n",
    "    shuffle=True,\n",
    "    callbacks=early_stopping_cb,\n",
    ")"
   ]
  },
  {
   "cell_type": "code",
   "execution_count": 17,
   "metadata": {},
   "outputs": [
    {
     "data": {
      "image/png": "[encoded data removed]",
      "text/plain": [
       "<Figure size 1440x216 with 2 Axes>"
      ]
     },
     "metadata": {
      "needs_background": "light"
     },
     "output_type": "display_data"
    }
   ],
   "source": [
    "fig, ax = plt.subplots(1, 2, figsize=(20, 3))\n",
    "ax = ax.ravel()\n",
    "\n",
    "for i, metric in enumerate([\"binary_accuracy\", \"loss\"]):\n",
    "    ax[i].plot(model.history.history[metric])\n",
    "    ax[i].plot(model.history.history[\"val_\" + metric])\n",
    "    ax[i].set_title(\"Model {}\".format(metric))\n",
    "    ax[i].set_xlabel(\"epochs\")\n",
    "    ax[i].set_ylabel(metric)\n",
    "    ax[i].legend([\"train\", \"val\"])"
   ]
  },
  {
   "cell_type": "code",
   "execution_count": 18,
   "metadata": {},
   "outputs": [],
   "source": [
    "# # Load best weights.\n",
    "# model.load_weights(\"3d_image_classification_Cxa.h5\")\n",
    "# prediction = model.predict(np.expand_dims(x_test[0], axis=0))[0]\n",
    "# print(prediction)\n",
    "# scores = [1 - prediction[0], prediction[0]]\n",
    "\n",
    "# class_names = [\"normal\", \"abnormal\"]\n",
    "# for score, name in zip(scores, class_names):\n",
    "#     print(\n",
    "#         \"This model is %.2f percent confident that CT scan is %s\"\n",
    "#         % ((100 * score), name)\n",
    "#     )\n",
    "# print(y_test[0])"
   ]
  },
  {
   "cell_type": "code",
   "execution_count": 19,
   "metadata": {},
   "outputs": [
    {
     "name": "stdout",
     "output_type": "stream",
     "text": [
      "3/3 [==============================] - 1s 120ms/step - loss: 0.3860 - binary_accuracy: 0.8649 - auc: 0.9051\n"
     ]
    },
    {
     "data": {
      "text/plain": [
       "[0.38600966334342957, 0.8648648858070374, 0.9051281809806824]"
      ]
     },
     "execution_count": 19,
     "metadata": {},
     "output_type": "execute_result"
    }
   ],
   "source": [
    "#proportion of training data that's positive\n",
    "sum(y_train) / len(y_train)\n",
    "\n",
    "#proportion of holdout data that's positive\n",
    "(sum(y_val) / len(y_val))\n",
    "\n",
    "#evaluate on the holdout data\n",
    "model.evaluate(x_val, y_val)"
   ]
  },
  {
   "cell_type": "code",
   "execution_count": 20,
   "metadata": {},
   "outputs": [
    {
     "name": "stdout",
     "output_type": "stream",
     "text": [
      "              precision    recall  f1-score   support\n",
      "\n",
      "           0       0.84      0.89      0.86        35\n",
      "           1       0.89      0.85      0.87        39\n",
      "\n",
      "    accuracy                           0.86        74\n",
      "   macro avg       0.86      0.87      0.86        74\n",
      "weighted avg       0.87      0.86      0.86        74\n",
      "\n"
     ]
    }
   ],
   "source": [
    "from sklearn.metrics import classification_report, confusion_matrix\n",
    "\n",
    "preds = model.predict(x_val)\n",
    "\n",
    "preds = np.where(preds > .5, 1,0)\n",
    "\n",
    "\n",
    "\n",
    "print(classification_report(y_val, preds))\n",
    "cm = confusion_matrix(y_val, preds)"
   ]
  },
  {
   "cell_type": "code",
   "execution_count": 21,
   "metadata": {},
   "outputs": [
    {
     "data": {
      "image/png": "[encoded data removed]",
      "text/plain": [
       "<Figure size 432x288 with 2 Axes>"
      ]
     },
     "metadata": {
      "needs_background": "light"
     },
     "output_type": "display_data"
    }
   ],
   "source": [
    "import seaborn as sns\n",
    "\n",
    "ax = sns.heatmap(cm, annot=True, cmap='Blues')\n",
    "\n",
    "ax.set_title('Confusion Matrix');\n",
    "ax.set_xlabel('\\nPredicted Values')\n",
    "ax.set_ylabel('Actual Values ');\n",
    "\n",
    "## Ticket labels - List must be in alphabetical order\n",
    "ax.xaxis.set_ticklabels(['False','True'])\n",
    "ax.yaxis.set_ticklabels(['False','True'])\n",
    "\n",
    "## Display the visualization of the Confusion Matrix.\n",
    "plt.show()"
   ]
  },
  {
   "cell_type": "code",
   "execution_count": 22,
   "metadata": {},
   "outputs": [],
   "source": [
    "from sklearn.metrics import roc_curve\n",
    "y_pred_keras = model.predict(x_val).ravel()\n",
    "fpr_keras, tpr_keras, thresholds_keras = roc_curve(y_val, y_pred_keras)"
   ]
  },
  {
   "cell_type": "code",
   "execution_count": 23,
   "metadata": {},
   "outputs": [],
   "source": [
    "from sklearn.metrics import auc\n",
    "auc_keras = auc(fpr_keras, tpr_keras)"
   ]
  },
  {
   "cell_type": "code",
   "execution_count": 24,
   "metadata": {},
   "outputs": [
    {
     "data": {
      "text/plain": [
       "0.9054945054945055"
      ]
     },
     "execution_count": 24,
     "metadata": {},
     "output_type": "execute_result"
    }
   ],
   "source": [
    "auc_keras"
   ]
  },
  {
   "cell_type": "code",
   "execution_count": 27,
   "metadata": {},
   "outputs": [
    {
     "data": {
      "image/png": "[encoded data removed]",
      "text/plain": [
       "<Figure size 432x288 with 1 Axes>"
      ]
     },
     "metadata": {
      "needs_background": "light"
     },
     "output_type": "display_data"
    }
   ],
   "source": [
    "plt.figure(1)\n",
    "plt.plot([0, 1], [0, 1], 'k--')\n",
    "plt.plot(fpr_keras, tpr_keras, label='Model (area = {:.3f})'.format(auc_keras))\n",
    "plt.xlabel('False positive rate')\n",
    "plt.ylabel('True positive rate')\n",
    "plt.title('ROC curve')\n",
    "plt.legend(loc='best')\n",
    "plt.show()"
   ]
  },
  {
   "cell_type": "code",
   "execution_count": null,
   "metadata": {},
   "outputs": [],
   "source": []
  }
 ],
 "metadata": {
  "kernelspec": {
   "display_name": "Tensorflow 2.8.0/Keras Py3.9",
   "language": "python",
   "name": "tensorflow-2.8.0"
  },
  "language_info": {
   "codemirror_mode": {
    "name": "ipython",
    "version": 3
   },
   "file_extension": ".py",
   "mimetype": "text/x-python",
   "name": "python",
   "nbconvert_exporter": "python",
   "pygments_lexer": "ipython3",
   "version": "3.9.10"
  }
 },
 "nbformat": 4,
 "nbformat_minor": 4
}
