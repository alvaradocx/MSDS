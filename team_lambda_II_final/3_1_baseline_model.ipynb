{
 "cells": [
  {
   "cell_type": "markdown",
   "metadata": {},
   "source": [
    "# 3.1 Baseline Model"
   ]
  },
  {
   "cell_type": "code",
   "execution_count": 1,
   "metadata": {},
   "outputs": [],
   "source": [
    "#!pip install nibabel\n",
    "import nibabel as nib\n",
    "import numpy as np\n",
    "import glob\n",
    "import sys\n",
    "import sklearn\n",
    "import os\n",
    "import numpy as np\n",
    "import matplotlib as mpl\n",
    "import matplotlib.pyplot as plt\n",
    "from functools import partial\n",
    "import PIL\n",
    "import PIL.Image\n",
    "import pandas as pd\n",
    "\n",
    "import tensorflow as tf\n",
    "from tensorflow import keras\n",
    "from tensorflow.keras import layers\n",
    "from sklearn.model_selection import train_test_split\n",
    "\n",
    "np.random.seed(42) # note that you must use the same seed to ensure consistentcy in your training/validation/testing\n",
    "tf.random.set_seed(42)"
   ]
  },
  {
   "cell_type": "code",
   "execution_count": 2,
   "metadata": {},
   "outputs": [],
   "source": [
    "# cases + conrols df\n",
    "df = pd.read_csv('/project/ds6050-soa2wg/team_lambda_II/ASD_DSM_CasesvsControls.csv', sep = ',')\n",
    "\n",
    "# obtain paths for all images\n",
    "images_paths_f_case = list(df.query(\"SEX_ == 'Female' & DX_Control == 'Autism'\")['PATH'])\n",
    "images_paths_f_control = list(df.query(\"SEX_ == 'Female' & DX_Control == 'Control'\")['PATH'])\n",
    "images_paths_m_case = list(df.query(\"SEX_ == 'Male' & DX_Control == 'Autism'\")['PATH'])\n",
    "images_paths_m_control = list(df.query(\"SEX_ == 'Male' & DX_Control == 'Control'\")['PATH'])\n"
   ]
  },
  {
   "cell_type": "code",
   "execution_count": 3,
   "metadata": {},
   "outputs": [
    {
     "name": "stdout",
     "output_type": "stream",
     "text": [
      "There are 22 female cases\n",
      "---------------------------------------\n",
      "There are 61 female controls\n",
      "---------------------------------------\n",
      "There are 124 male cases\n",
      "---------------------------------------\n",
      "There are 184 male controls\n",
      "---------------------------------------\n",
      "There are 146 total cases and 245 total controls! 391 participants in total\n"
     ]
    }
   ],
   "source": [
    "total_cases = len(images_paths_f_case) + len(images_paths_m_case)\n",
    "total_controls = len(images_paths_f_control ) + len(images_paths_m_control) #+ gan_control_f.shape[0]\n",
    "# print out number of participants per category\n",
    "print('There are {} female cases'.format(str(len(images_paths_f_case))))\n",
    "print('---------------------------------------')\n",
    "print('There are {} female controls'.format(str(len(images_paths_f_control))))\n",
    "print('---------------------------------------')\n",
    "print('There are {} male cases'.format(str(len(images_paths_m_case))))\n",
    "print('---------------------------------------')\n",
    "print('There are {} male controls'.format(str(len(images_paths_m_control))))\n",
    "print('---------------------------------------')\n",
    "print(f'There are {total_cases} total cases and {total_controls} total controls! {total_controls + total_cases} participants in total')\n",
    "# make one giant list\n",
    "images_paths = images_paths_f_case  + images_paths_f_control + images_paths_m_case + images_paths_m_control\n",
    "\n",
    "num_im = len(images_paths)\n",
    "image_array = []"
   ]
  },
  {
   "cell_type": "code",
   "execution_count": 4,
   "metadata": {},
   "outputs": [],
   "source": [
    "final_list = [] # create image array from paths\n",
    "for path in images_paths:\n",
    "    try: \n",
    "        img = nib.load(path)\n",
    "        image_data = img.get_fdata()\n",
    "        image_array.append(image_data)\n",
    "        final_list.append(path)\n",
    "    except:\n",
    "        continue\n",
    "\n",
    "image_array = np.asarray(image_array).astype('float32')"
   ]
  },
  {
   "cell_type": "code",
   "execution_count": 5,
   "metadata": {},
   "outputs": [
    {
     "data": {
      "text/plain": [
       "(391, 61, 73, 61)"
      ]
     },
     "execution_count": 5,
     "metadata": {},
     "output_type": "execute_result"
    }
   ],
   "source": [
    "image_array.shape"
   ]
  },
  {
   "cell_type": "code",
   "execution_count": 6,
   "metadata": {},
   "outputs": [
    {
     "data": {
      "text/plain": [
       "2    245\n",
       "1    146\n",
       "Name: DX_GROUP, dtype: int64"
      ]
     },
     "execution_count": 6,
     "metadata": {},
     "output_type": "execute_result"
    }
   ],
   "source": [
    "pheno = df[['FILE_ID', 'DX_GROUP']]\n",
    "pheno_array = np.array(pheno['DX_GROUP'])\n",
    "pheno_array = np.where(pheno_array == 2, 0, pheno_array) # 0 = control, 1 = dx\n",
    "# distribution\n",
    "df['DX_GROUP'].value_counts()"
   ]
  },
  {
   "cell_type": "code",
   "execution_count": 7,
   "metadata": {},
   "outputs": [],
   "source": [
    "#training and holdout split\n",
    "x_train, x_val, y_train, y_val = train_test_split(image_array, pheno_array, test_size = 0.15, random_state = 654)\n",
    "\n",
    "#training and testing split\n",
    "x_train, x_test, y_train, y_test = train_test_split(x_train, y_train, test_size = 0.25, random_state = 654)"
   ]
  },
  {
   "cell_type": "code",
   "execution_count": 8,
   "metadata": {},
   "outputs": [
    {
     "data": {
      "text/plain": [
       "<matplotlib.image.AxesImage at 0x7f9af50f7fd0>"
      ]
     },
     "execution_count": 8,
     "metadata": {},
     "output_type": "execute_result"
    },
    {
     "data": {
      "image/png": "[encoded data removed]",
      "text/plain": [
       "<Figure size 432x288 with 1 Axes>"
      ]
     },
     "metadata": {
      "needs_background": "light"
     },
     "output_type": "display_data"
    }
   ],
   "source": [
    "plt.imshow(x_train[15][48].T)"
   ]
  },
  {
   "cell_type": "code",
   "execution_count": 9,
   "metadata": {},
   "outputs": [
    {
     "name": "stderr",
     "output_type": "stream",
     "text": [
      "2022-05-03 19:05:50.185374: I tensorflow/core/platform/cpu_feature_guard.cc:151] This TensorFlow binary is optimized with oneAPI Deep Neural Network Library (oneDNN) to use the following CPU instructions in performance-critical operations:  AVX2 AVX512F FMA\n",
      "To enable them in other operations, rebuild TensorFlow with the appropriate compiler flags.\n",
      "2022-05-03 19:05:52.183105: I tensorflow/core/common_runtime/gpu/gpu_device.cc:1525] Created device /job:localhost/replica:0/task:0/device:GPU:0 with 30904 MB memory:  -> device: 0, name: Tesla V100-SXM2-32GB, pci bus id: 0000:18:00.0, compute capability: 7.0\n",
      "2022-05-03 19:05:52.187888: I tensorflow/core/common_runtime/gpu/gpu_device.cc:1525] Created device /job:localhost/replica:0/task:0/device:GPU:1 with 30967 MB memory:  -> device: 1, name: Tesla V100-SXM2-32GB, pci bus id: 0000:86:00.0, compute capability: 7.0\n"
     ]
    }
   ],
   "source": [
    "# Define data loaders.\n",
    "train_loader = tf.data.Dataset.from_tensor_slices((x_train, y_train))\n",
    "validation_loader = tf.data.Dataset.from_tensor_slices((x_test, y_test))\n",
    "\n",
    "batch_size = 16\n",
    "# Augment the on the fly during training.\n",
    "train_dataset = (\n",
    "    train_loader.shuffle(len(x_train))\n",
    "#     .map(train_preprocessing)\n",
    "    .batch(batch_size)\n",
    "    .prefetch(tf.data.AUTOTUNE)\n",
    ")\n",
    "# Only rescale.\n",
    "validation_dataset = (\n",
    "    validation_loader.shuffle(len(x_test))\n",
    "#    .map(validation_preprocessing)\n",
    "    .batch(batch_size)\n",
    "    .prefetch(tf.data.AUTOTUNE)\n",
    ")"
   ]
  },
  {
   "cell_type": "markdown",
   "metadata": {},
   "source": [
    "Architecture \n",
    "\n",
    "Define a 3D convolutional neural network\n",
    "To make the model easier to understand, we structure it into blocks. The architecture of the 3D CNN used in this example is based on this paper."
   ]
  },
  {
   "cell_type": "code",
   "execution_count": 10,
   "metadata": {},
   "outputs": [
    {
     "name": "stdout",
     "output_type": "stream",
     "text": [
      "Model: \"3dcnn\"\n",
      "_________________________________________________________________\n",
      " Layer (type)                Output Shape              Param #   \n",
      "=================================================================\n",
      " input_1 (InputLayer)        [(None, 61, 73, 61, 1)]   0         \n",
      "                                                                 \n",
      " normalization (Normalizatio  (None, 61, 73, 61, 1)    3         \n",
      " n)                                                              \n",
      "                                                                 \n",
      " conv3d (Conv3D)             (None, 61, 73, 61, 64)    1792      \n",
      "                                                                 \n",
      " max_pooling3d (MaxPooling3D  (None, 30, 36, 30, 64)   0         \n",
      " )                                                               \n",
      "                                                                 \n",
      " batch_normalization (BatchN  (None, 30, 36, 30, 64)   256       \n",
      " ormalization)                                                   \n",
      "                                                                 \n",
      " conv3d_1 (Conv3D)           (None, 30, 36, 30, 64)    110656    \n",
      "                                                                 \n",
      " max_pooling3d_1 (MaxPooling  (None, 15, 18, 15, 64)   0         \n",
      " 3D)                                                             \n",
      "                                                                 \n",
      " batch_normalization_1 (Batc  (None, 15, 18, 15, 64)   256       \n",
      " hNormalization)                                                 \n",
      "                                                                 \n",
      " conv3d_2 (Conv3D)           (None, 15, 18, 15, 128)   221312    \n",
      "                                                                 \n",
      " max_pooling3d_2 (MaxPooling  (None, 7, 9, 7, 128)     0         \n",
      " 3D)                                                             \n",
      "                                                                 \n",
      " batch_normalization_2 (Batc  (None, 7, 9, 7, 128)     512       \n",
      " hNormalization)                                                 \n",
      "                                                                 \n",
      " conv3d_3 (Conv3D)           (None, 7, 9, 7, 128)      442496    \n",
      "                                                                 \n",
      " max_pooling3d_3 (MaxPooling  (None, 3, 4, 3, 128)     0         \n",
      " 3D)                                                             \n",
      "                                                                 \n",
      " batch_normalization_3 (Batc  (None, 3, 4, 3, 128)     512       \n",
      " hNormalization)                                                 \n",
      "                                                                 \n",
      " global_average_pooling3d (G  (None, 128)              0         \n",
      " lobalAveragePooling3D)                                          \n",
      "                                                                 \n",
      " dense (Dense)               (None, 16)                2064      \n",
      "                                                                 \n",
      " dropout (Dropout)           (None, 16)                0         \n",
      "                                                                 \n",
      " dense_1 (Dense)             (None, 1)                 17        \n",
      "                                                                 \n",
      "=================================================================\n",
      "Total params: 779,876\n",
      "Trainable params: 779,105\n",
      "Non-trainable params: 771\n",
      "_________________________________________________________________\n"
     ]
    }
   ],
   "source": [
    "def get_model(width=61, height=73, depth=61):\n",
    "    \"\"\"Build a 3D convolutional neural network model.\"\"\"\n",
    "\n",
    "    inputs = keras.Input((width, height, depth, 1))\n",
    "    \n",
    "    x = layers.Normalization(axis=None)(inputs) #ADDED NORMALIZATION LAYER\n",
    "\n",
    "    x = layers.Conv3D(filters=64, kernel_size=3, activation=\"relu\", padding=\"same\")(x)\n",
    "    x = layers.MaxPool3D(pool_size=2)(x)\n",
    "    x = layers.BatchNormalization()(x)\n",
    "\n",
    "    x = layers.Conv3D(filters=64, kernel_size=3, activation=\"relu\", padding=\"same\")(x)\n",
    "    x = layers.MaxPool3D(pool_size=2)(x)\n",
    "    x = layers.BatchNormalization()(x)\n",
    "\n",
    "    x = layers.Conv3D(filters=128, kernel_size=3, activation=\"relu\", padding=\"same\")(x)\n",
    "    x = layers.MaxPool3D(pool_size=2)(x)\n",
    "    x = layers.BatchNormalization()(x)\n",
    "\n",
    "    x = layers.Conv3D(filters=128, kernel_size=3, activation=\"relu\", padding=\"same\")(x)\n",
    "    x = layers.MaxPool3D(pool_size=2)(x)\n",
    "    x = layers.BatchNormalization()(x)\n",
    "\n",
    "    x = layers.GlobalAveragePooling3D()(x)\n",
    "    x = layers.Dense(units=16, activation=\"relu\")(x)\n",
    "    x = layers.Dropout(0.3)(x)\n",
    "\n",
    "    outputs = layers.Dense(units=1, activation=\"sigmoid\")(x)\n",
    "\n",
    "    # Define the model.\n",
    "    model = keras.Model(inputs, outputs, name=\"3dcnn\")\n",
    "    return model\n",
    "\n",
    "\n",
    "# Build model.\n",
    "model = get_model(width=61, height=73, depth=61)\n",
    "model.summary()"
   ]
  },
  {
   "cell_type": "code",
   "execution_count": 14,
   "metadata": {},
   "outputs": [
    {
     "name": "stdout",
     "output_type": "stream",
     "text": [
      "Epoch 1/50\n",
      "16/16 [==============================] - 3s 151ms/step - loss: 0.0682 - binary_accuracy: 0.9960 - auc_1: 1.0000 - val_loss: 0.5748 - val_binary_accuracy: 0.7711 - val_auc_1: 0.8563\n",
      "Epoch 2/50\n",
      "16/16 [==============================] - 2s 135ms/step - loss: 0.0811 - binary_accuracy: 0.9880 - auc_1: 0.9996 - val_loss: 0.9736 - val_binary_accuracy: 0.6386 - val_auc_1: 0.8569\n",
      "Epoch 3/50\n",
      "16/16 [==============================] - 2s 135ms/step - loss: 0.0630 - binary_accuracy: 0.9960 - auc_1: 0.9999 - val_loss: 0.5143 - val_binary_accuracy: 0.7831 - val_auc_1: 0.8503\n",
      "Epoch 4/50\n",
      "16/16 [==============================] - 2s 134ms/step - loss: 0.0639 - binary_accuracy: 0.9960 - auc_1: 0.9998 - val_loss: 0.7599 - val_binary_accuracy: 0.6747 - val_auc_1: 0.8818\n",
      "Epoch 5/50\n",
      "16/16 [==============================] - 2s 134ms/step - loss: 0.0614 - binary_accuracy: 0.9960 - auc_1: 0.9999 - val_loss: 0.5508 - val_binary_accuracy: 0.7831 - val_auc_1: 0.8824\n",
      "Epoch 6/50\n",
      "16/16 [==============================] - 2s 134ms/step - loss: 0.0294 - binary_accuracy: 1.0000 - auc_1: 1.0000 - val_loss: 0.5092 - val_binary_accuracy: 0.7952 - val_auc_1: 0.8871\n",
      "Epoch 7/50\n",
      "16/16 [==============================] - 2s 137ms/step - loss: 0.0284 - binary_accuracy: 1.0000 - auc_1: 1.0000 - val_loss: 0.4930 - val_binary_accuracy: 0.7952 - val_auc_1: 0.8912\n",
      "Epoch 8/50\n",
      "16/16 [==============================] - 2s 134ms/step - loss: 0.0364 - binary_accuracy: 1.0000 - auc_1: 1.0000 - val_loss: 1.5281 - val_binary_accuracy: 0.5422 - val_auc_1: 0.8953\n",
      "Epoch 9/50\n",
      "16/16 [==============================] - 2s 134ms/step - loss: 0.0262 - binary_accuracy: 1.0000 - auc_1: 1.0000 - val_loss: 0.9170 - val_binary_accuracy: 0.7108 - val_auc_1: 0.8616\n",
      "Epoch 10/50\n",
      "16/16 [==============================] - 2s 135ms/step - loss: 0.0178 - binary_accuracy: 1.0000 - auc_1: 1.0000 - val_loss: 0.5353 - val_binary_accuracy: 0.7831 - val_auc_1: 0.8874\n",
      "Epoch 11/50\n",
      "16/16 [==============================] - 2s 134ms/step - loss: 0.0304 - binary_accuracy: 1.0000 - auc_1: 1.0000 - val_loss: 0.7036 - val_binary_accuracy: 0.7711 - val_auc_1: 0.8638\n",
      "Epoch 12/50\n",
      "16/16 [==============================] - 2s 133ms/step - loss: 0.0422 - binary_accuracy: 0.9839 - auc_1: 0.9998 - val_loss: 3.0348 - val_binary_accuracy: 0.4096 - val_auc_1: 0.7085\n",
      "Epoch 13/50\n",
      "16/16 [==============================] - 2s 134ms/step - loss: 0.0771 - binary_accuracy: 0.9679 - auc_1: 0.9981 - val_loss: 1.9234 - val_binary_accuracy: 0.6386 - val_auc_1: 0.7142\n",
      "Epoch 14/50\n",
      "16/16 [==============================] - 2s 134ms/step - loss: 0.1053 - binary_accuracy: 0.9839 - auc_1: 0.9980 - val_loss: 1.8324 - val_binary_accuracy: 0.4699 - val_auc_1: 0.8277\n",
      "Epoch 15/50\n",
      "16/16 [==============================] - 2s 135ms/step - loss: 0.0504 - binary_accuracy: 1.0000 - auc_1: 1.0000 - val_loss: 0.6545 - val_binary_accuracy: 0.7831 - val_auc_1: 0.8513\n",
      "Epoch 16/50\n",
      "16/16 [==============================] - 2s 135ms/step - loss: 0.0516 - binary_accuracy: 0.9880 - auc_1: 0.9994 - val_loss: 0.4504 - val_binary_accuracy: 0.7831 - val_auc_1: 0.8893\n"
     ]
    },
    {
     "data": {
      "text/plain": [
       "<keras.callbacks.History at 0x7f9af41ea9d0>"
      ]
     },
     "execution_count": 14,
     "metadata": {},
     "output_type": "execute_result"
    }
   ],
   "source": [
    "# Compile model.\n",
    "initial_learning_rate = 0.0001\n",
    "\n",
    "lr_schedule = keras.optimizers.schedules.ExponentialDecay(\n",
    "    initial_learning_rate, decay_steps=10000, decay_rate=0.96, staircase=True\n",
    ")\n",
    "\n",
    "# Compile model.\n",
    "model.compile(\n",
    "    loss=\"binary_crossentropy\",\n",
    "    optimizer=keras.optimizers.Adam(learning_rate=lr_schedule),\n",
    "    metrics=[tf.keras.metrics.BinaryAccuracy(),tf.keras.metrics.AUC()],\n",
    ")\n",
    "\n",
    "# Define callbacks.\n",
    "#checkpoint_cb = keras.callbacks.ModelCheckpoint(\n",
    " #   \"3d_image_classification_Cxa_DFNN.h5\", save_best_only=True\n",
    "#)\n",
    "early_stopping_cb = keras.callbacks.EarlyStopping(monitor=\"val_binary_accuracy\", patience=10)\n",
    "\n",
    "# Train the model, doing validation at the end of each epoch\n",
    "epochs = 50\n",
    "model.fit(\n",
    "    train_dataset,\n",
    "    validation_data=validation_dataset,\n",
    "    epochs=epochs,\n",
    "    shuffle=True,\n",
    "    callbacks=early_stopping_cb,\n",
    ")"
   ]
  },
  {
   "cell_type": "code",
   "execution_count": 15,
   "metadata": {},
   "outputs": [
    {
     "data": {
      "image/png": "[encoded data removed]",
      "text/plain": [
       "<Figure size 1440x216 with 2 Axes>"
      ]
     },
     "metadata": {
      "needs_background": "light"
     },
     "output_type": "display_data"
    }
   ],
   "source": [
    "fig, ax = plt.subplots(1, 2, figsize=(20, 3))\n",
    "ax = ax.ravel()\n",
    "\n",
    "for i, metric in enumerate([\"binary_accuracy\", \"loss\"]):\n",
    "    ax[i].plot(model.history.history[metric])\n",
    "    ax[i].plot(model.history.history[\"val_\" + metric])\n",
    "    ax[i].set_title(\"Model {}\".format(metric))\n",
    "    ax[i].set_xlabel(\"epochs\")\n",
    "    ax[i].set_ylabel(metric)\n",
    "    ax[i].legend([\"train\", \"val\"])"
   ]
  },
  {
   "cell_type": "code",
   "execution_count": 16,
   "metadata": {},
   "outputs": [],
   "source": [
    "# # Load best weights.\n",
    "# model.load_weights(\"3d_image_classification_Cxa.h5\")\n",
    "# prediction = model.predict(np.expand_dims(x_test[0], axis=0))[0]\n",
    "# print(prediction)\n",
    "# scores = [1 - prediction[0], prediction[0]]\n",
    "\n",
    "# class_names = [\"normal\", \"abnormal\"]\n",
    "# for score, name in zip(scores, class_names):\n",
    "#     print(\n",
    "#         \"This model is %.2f percent confident that CT scan is %s\"\n",
    "#         % ((100 * score), name)\n",
    "#     )\n",
    "# print(y_test[0])"
   ]
  },
  {
   "cell_type": "code",
   "execution_count": 17,
   "metadata": {},
   "outputs": [
    {
     "name": "stdout",
     "output_type": "stream",
     "text": [
      "2/2 [==============================] - 1s 369ms/step - loss: 0.6717 - binary_accuracy: 0.8644 - auc_1: 0.8004\n"
     ]
    },
    {
     "data": {
      "text/plain": [
       "[0.6716809272766113, 0.8644067645072937, 0.80036860704422]"
      ]
     },
     "execution_count": 17,
     "metadata": {},
     "output_type": "execute_result"
    }
   ],
   "source": [
    "#proportion of training data that's positive\n",
    "sum(y_train) / len(y_train)\n",
    "\n",
    "#proportion of holdout data that's positive\n",
    "(sum(y_val) / len(y_val))\n",
    "\n",
    "#evaluate on the holdout data\n",
    "model.evaluate(x_val, y_val)"
   ]
  },
  {
   "cell_type": "code",
   "execution_count": 18,
   "metadata": {},
   "outputs": [
    {
     "name": "stdout",
     "output_type": "stream",
     "text": [
      "              precision    recall  f1-score   support\n",
      "\n",
      "           0       0.87      0.92      0.89        37\n",
      "           1       0.85      0.77      0.81        22\n",
      "\n",
      "    accuracy                           0.86        59\n",
      "   macro avg       0.86      0.85      0.85        59\n",
      "weighted avg       0.86      0.86      0.86        59\n",
      "\n"
     ]
    }
   ],
   "source": [
    "from sklearn.metrics import classification_report, confusion_matrix\n",
    "\n",
    "preds = model.predict(x_val)\n",
    "\n",
    "preds = np.where(preds > .5, 1,0)\n",
    "\n",
    "\n",
    "\n",
    "print(classification_report(y_val, preds))\n",
    "cm = confusion_matrix(y_val, preds)"
   ]
  },
  {
   "cell_type": "code",
   "execution_count": 19,
   "metadata": {},
   "outputs": [
    {
     "data": {
      "image/png": "[encoded data removed]",
      "text/plain": [
       "<Figure size 432x288 with 2 Axes>"
      ]
     },
     "metadata": {
      "needs_background": "light"
     },
     "output_type": "display_data"
    }
   ],
   "source": [
    "import seaborn as sns\n",
    "\n",
    "ax = sns.heatmap(cm, annot=True, cmap='Blues')\n",
    "\n",
    "ax.set_title('Confusion Matrix');\n",
    "ax.set_xlabel('\\nPredicted Values')\n",
    "ax.set_ylabel('Actual Values ');\n",
    "\n",
    "## Ticket labels - List must be in alphabetical order\n",
    "ax.xaxis.set_ticklabels(['False','True'])\n",
    "ax.yaxis.set_ticklabels(['False','True'])\n",
    "\n",
    "## Display the visualization of the Confusion Matrix.\n",
    "plt.show()"
   ]
  },
  {
   "cell_type": "code",
   "execution_count": null,
   "metadata": {},
   "outputs": [],
   "source": []
  },
  {
   "cell_type": "code",
   "execution_count": 20,
   "metadata": {},
   "outputs": [
    {
     "name": "stdout",
     "output_type": "stream",
     "text": [
      "Defaulting to user installation because normal site-packages is not writeable\n",
      "Collecting visualkeras\n",
      "  Downloading visualkeras-0.0.2-py3-none-any.whl (12 kB)\n",
      "Requirement already satisfied: numpy>=1.18.1 in /usr/local/lib/python3.9/site-packages (from visualkeras) (1.22.2)\n",
      "Collecting aggdraw>=1.3.11\n",
      "  Downloading aggdraw-1.3.14-cp39-cp39-manylinux_2_17_x86_64.manylinux2014_x86_64.whl (992 kB)\n",
      "\u001b[2K     \u001b[90m━━━━━━━━━━━━━━━━━━━━━━━━━━━━━━━━━━━━━━\u001b[0m \u001b[32m992.1/992.1 KB\u001b[0m \u001b[31m13.8 MB/s\u001b[0m eta \u001b[36m0:00:00\u001b[0m00:01\u001b[0m00:01\u001b[0m\n",
      "\u001b[?25hRequirement already satisfied: pillow>=6.2.0 in /usr/local/lib/python3.9/site-packages (from visualkeras) (9.0.1)\n",
      "Installing collected packages: aggdraw, visualkeras\n",
      "Successfully installed aggdraw-1.3.14 visualkeras-0.0.2\n",
      "\u001b[33mWARNING: You are using pip version 22.0.3; however, version 22.0.4 is available.\n",
      "You should consider upgrading via the '/usr/local/bin/python -m pip install --upgrade pip' command.\u001b[0m\u001b[33m\n",
      "\u001b[0m"
     ]
    },
    {
     "data": {
      "image/png": "[encoded data removed]",
      "text/plain": [
       "<PIL.Image.Image image mode=RGBA size=2050x421 at 0x7F9BDBBA1AC0>"
      ]
     },
     "execution_count": 20,
     "metadata": {},
     "output_type": "execute_result"
    }
   ],
   "source": [
    "!pip install visualkeras\n",
    "from PIL import ImageFont\n",
    "import visualkeras\n",
    "\n",
    "font = ImageFont.truetype(\"Arial.ttf\", 16)\n",
    "visualkeras.layered_view(model, legend=True,font = font, to_file='Baseline_arch.png')"
   ]
  },
  {
   "cell_type": "code",
   "execution_count": null,
   "metadata": {},
   "outputs": [],
   "source": []
  }
 ],
 "metadata": {
  "kernelspec": {
   "display_name": "Tensorflow 2.8.0/Keras Py3.9",
   "language": "python",
   "name": "tensorflow-2.8.0"
  },
  "language_info": {
   "codemirror_mode": {
    "name": "ipython",
    "version": 3
   },
   "file_extension": ".py",
   "mimetype": "text/x-python",
   "name": "python",
   "nbconvert_exporter": "python",
   "pygments_lexer": "ipython3",
   "version": "3.9.10"
  }
 },
 "nbformat": 4,
 "nbformat_minor": 4
}
