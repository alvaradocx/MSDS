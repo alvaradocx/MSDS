{
 "cells": [
  {
   "cell_type": "markdown",
   "metadata": {},
   "source": [
    "# 3.4 Deep Feedforward Neural Network (w/ GAN data)"
   ]
  },
  {
   "cell_type": "markdown",
   "metadata": {},
   "source": [
    "## 1. Data Load In"
   ]
  },
  {
   "cell_type": "code",
   "execution_count": 1,
   "metadata": {},
   "outputs": [],
   "source": [
    "import nibabel as nib\n",
    "import numpy as np\n",
    "import glob\n",
    "import sys\n",
    "import sklearn\n",
    "import os\n",
    "import numpy as np\n",
    "import matplotlib as mpl\n",
    "import matplotlib.pyplot as plt\n",
    "from functools import partial\n",
    "import PIL\n",
    "import PIL.Image\n",
    "import pandas as pd\n",
    "\n",
    "import tensorflow as tf\n",
    "from tensorflow import keras\n",
    "from tensorflow.keras import layers\n",
    "from sklearn.model_selection import train_test_split\n",
    "\n",
    "np.random.seed(42) # note that you must use the same seed to ensure consistentcy in your training/validation/testing\n",
    "tf.random.set_seed(42)\n",
    "\n",
    "import visualkeras"
   ]
  },
  {
   "cell_type": "code",
   "execution_count": 2,
   "metadata": {},
   "outputs": [],
   "source": [
    "# cases + conrols df\n",
    "df = pd.read_csv('/project/ds6050-soa2wg/team_lambda_II/ASD_DSM_CasesvsControls.csv', sep = ',')\n",
    "\n",
    "# obtain paths for all images\n",
    "images_paths_f_case = list(df.query(\"SEX_ == 'Female' & DX_Control == 'Autism'\")['PATH'])\n",
    "images_paths_f_control = list(df.query(\"SEX_ == 'Female' & DX_Control == 'Control'\")['PATH'])\n",
    "images_paths_m_case = list(df.query(\"SEX_ == 'Male' & DX_Control == 'Autism'\")['PATH'])\n",
    "images_paths_m_control = list(df.query(\"SEX_ == 'Male' & DX_Control == 'Control'\")['PATH'])\n",
    "\n",
    "# GAN\n",
    "gan_data_m = np.load('Ellen Exploratory (Will Delete When Done)/gan_pos_female_ep500_cs3000_si50.npy')\n",
    "gan_data_f = np.load('gan_pos_male_ep500_cs3000_si50.npy')"
   ]
  },
  {
   "cell_type": "code",
   "execution_count": 3,
   "metadata": {},
   "outputs": [
    {
     "data": {
      "text/plain": [
       "(50, 61, 73, 61)"
      ]
     },
     "execution_count": 3,
     "metadata": {},
     "output_type": "execute_result"
    }
   ],
   "source": [
    "gan_data_m.shape"
   ]
  },
  {
   "cell_type": "code",
   "execution_count": 4,
   "metadata": {},
   "outputs": [
    {
     "data": {
      "text/plain": [
       "(50, 61, 73, 61)"
      ]
     },
     "execution_count": 4,
     "metadata": {},
     "output_type": "execute_result"
    }
   ],
   "source": [
    "gan_data_f.shape"
   ]
  },
  {
   "cell_type": "code",
   "execution_count": 5,
   "metadata": {},
   "outputs": [],
   "source": [
    "gan_data_cases = np.concatenate((gan_data_f, gan_data_m))"
   ]
  },
  {
   "cell_type": "code",
   "execution_count": 6,
   "metadata": {},
   "outputs": [
    {
     "data": {
      "text/plain": [
       "(100, 61, 73, 61)"
      ]
     },
     "execution_count": 6,
     "metadata": {},
     "output_type": "execute_result"
    }
   ],
   "source": [
    "gan_data_cases.shape"
   ]
  },
  {
   "cell_type": "code",
   "execution_count": 7,
   "metadata": {},
   "outputs": [
    {
     "name": "stdout",
     "output_type": "stream",
     "text": [
      "There are 72 female cases\n",
      "---------------------------------------\n",
      "There are 61 female controls\n",
      "---------------------------------------\n",
      "There are 174 male cases\n",
      "---------------------------------------\n",
      "There are 184 male controls\n",
      "---------------------------------------\n",
      "There are 246 total cases and 245 total controls! 491 participants in total\n"
     ]
    }
   ],
   "source": [
    "total_cases = len(images_paths_f_case) + len(images_paths_m_case) + gan_data_m.shape[0] + gan_data_f.shape[0]\n",
    "total_controls = len(images_paths_f_control ) + len(images_paths_m_control) #+ gan_control_f.shape[0]\n",
    "# print out number of participants per category\n",
    "print('There are {} female cases'.format(str(len(images_paths_f_case) + gan_data_f.shape[0])))\n",
    "print('---------------------------------------')\n",
    "print('There are {} female controls'.format(str(len(images_paths_f_control))))\n",
    "print('---------------------------------------')\n",
    "print('There are {} male cases'.format(str(len(images_paths_m_case) + gan_data_m.shape[0])))\n",
    "print('---------------------------------------')\n",
    "print('There are {} male controls'.format(str(len(images_paths_m_control))))\n",
    "print('---------------------------------------')\n",
    "print(f'There are {total_cases} total cases and {total_controls} total controls! {total_controls + total_cases} participants in total')\n",
    "# make one giant list\n",
    "images_paths = images_paths_f_case  + images_paths_f_control + images_paths_m_case + images_paths_m_control\n",
    "\n",
    "num_im = len(images_paths)\n",
    "image_array = []"
   ]
  },
  {
   "cell_type": "code",
   "execution_count": 8,
   "metadata": {},
   "outputs": [],
   "source": [
    "final_list = [] # create image array from paths\n",
    "for path in images_paths:\n",
    "    try: \n",
    "        img = nib.load(path)\n",
    "        image_data = img.get_fdata()\n",
    "        image_array.append(image_data)\n",
    "        final_list.append(path)\n",
    "    except:\n",
    "        continue\n",
    "\n",
    "image_array = np.asarray(image_array).astype('float32')\n",
    "image_array = np.vstack((image_array,gan_data_cases))  "
   ]
  },
  {
   "cell_type": "code",
   "execution_count": 9,
   "metadata": {},
   "outputs": [
    {
     "data": {
      "text/plain": [
       "(491, 61, 73, 61)"
      ]
     },
     "execution_count": 9,
     "metadata": {},
     "output_type": "execute_result"
    }
   ],
   "source": [
    "image_array.shape"
   ]
  },
  {
   "cell_type": "code",
   "execution_count": 10,
   "metadata": {},
   "outputs": [
    {
     "data": {
      "text/plain": [
       "2    245\n",
       "1    146\n",
       "Name: DX_GROUP, dtype: int64"
      ]
     },
     "execution_count": 10,
     "metadata": {},
     "output_type": "execute_result"
    }
   ],
   "source": [
    "pheno = df[['FILE_ID', 'DX_GROUP']]\n",
    "pheno_array = np.array(pheno['DX_GROUP'])\n",
    "pheno_array = np.where(pheno_array == 2, 0, pheno_array) # 0 = control, 1 = dx\n",
    "# distribution\n",
    "df['DX_GROUP'].value_counts()"
   ]
  },
  {
   "cell_type": "code",
   "execution_count": 11,
   "metadata": {},
   "outputs": [],
   "source": [
    "# gan_pheno\n",
    "gan_pheno_cases = np.ones((gan_data_cases.shape[0],), dtype=int)\n",
    "all_pheno = np.concatenate((pheno_array, gan_pheno_cases))"
   ]
  },
  {
   "cell_type": "code",
   "execution_count": 12,
   "metadata": {},
   "outputs": [],
   "source": [
    "#training and holdout split\n",
    "x_train, x_val, y_train, y_val = train_test_split(image_array, all_pheno, test_size = 0.15, random_state = 654)\n",
    "\n",
    "#training and testing split\n",
    "x_train, x_test, y_train, y_test = train_test_split(x_train, y_train, test_size = 0.25, random_state = 654)"
   ]
  },
  {
   "cell_type": "code",
   "execution_count": 13,
   "metadata": {},
   "outputs": [
    {
     "data": {
      "text/plain": [
       "<matplotlib.image.AxesImage at 0x7efe18dd3100>"
      ]
     },
     "execution_count": 13,
     "metadata": {},
     "output_type": "execute_result"
    },
    {
     "data": {
      "image/png": "[encoded data removed]",
      "text/plain": [
       "<Figure size 432x288 with 1 Axes>"
      ]
     },
     "metadata": {
      "needs_background": "light"
     },
     "output_type": "display_data"
    }
   ],
   "source": [
    "plt.imshow(x_train[15][48].T)"
   ]
  },
  {
   "cell_type": "code",
   "execution_count": 14,
   "metadata": {},
   "outputs": [
    {
     "name": "stderr",
     "output_type": "stream",
     "text": [
      "2022-05-04 17:32:33.343827: I tensorflow/core/platform/cpu_feature_guard.cc:151] This TensorFlow binary is optimized with oneAPI Deep Neural Network Library (oneDNN) to use the following CPU instructions in performance-critical operations:  AVX2 AVX512F FMA\n",
      "To enable them in other operations, rebuild TensorFlow with the appropriate compiler flags.\n",
      "2022-05-04 17:32:35.328597: I tensorflow/core/common_runtime/gpu/gpu_device.cc:1525] Created device /job:localhost/replica:0/task:0/device:GPU:0 with 9644 MB memory:  -> device: 0, name: GeForce RTX 2080 Ti, pci bus id: 0000:62:00.0, compute capability: 7.5\n"
     ]
    }
   ],
   "source": [
    "# Define data loaders.\n",
    "train_loader = tf.data.Dataset.from_tensor_slices((x_train, y_train))\n",
    "validation_loader = tf.data.Dataset.from_tensor_slices((x_test, y_test))\n",
    "\n",
    "batch_size = 16\n",
    "# Augment the on the fly during training.\n",
    "train_dataset = (\n",
    "    train_loader.shuffle(len(x_train))\n",
    "#     .map(train_preprocessing)\n",
    "    .batch(batch_size)\n",
    "    .prefetch(tf.data.AUTOTUNE)\n",
    ")\n",
    "# Only rescale.\n",
    "validation_dataset = (\n",
    "    validation_loader.shuffle(len(x_test))\n",
    "#    .map(validation_preprocessing)\n",
    "    .batch(batch_size)\n",
    "    .prefetch(tf.data.AUTOTUNE)\n",
    ")"
   ]
  },
  {
   "cell_type": "markdown",
   "metadata": {},
   "source": [
    "## 2. Model"
   ]
  },
  {
   "cell_type": "markdown",
   "metadata": {},
   "source": [
    "### 2.1 Highest performing DFNN architecture from Mellema 2022 ** Best Performing with GAN data **"
   ]
  },
  {
   "cell_type": "code",
   "execution_count": 22,
   "metadata": {},
   "outputs": [
    {
     "name": "stdout",
     "output_type": "stream",
     "text": [
      "Model: \"DFNN\"\n",
      "_________________________________________________________________\n",
      " Layer (type)                Output Shape              Param #   \n",
      "=================================================================\n",
      " input_2 (InputLayer)        [(None, 61, 73, 61, 1)]   0         \n",
      "                                                                 \n",
      " dense_4 (Dense)             (None, 61, 73, 61, 6)     12        \n",
      "                                                                 \n",
      " dense_5 (Dense)             (None, 61, 73, 61, 64)    448       \n",
      "                                                                 \n",
      " dropout_1 (Dropout)         (None, 61, 73, 61, 64)    0         \n",
      "                                                                 \n",
      " dense_6 (Dense)             (None, 61, 73, 61, 64)    4160      \n",
      "                                                                 \n",
      " flatten_1 (Flatten)         (None, 17384512)          0         \n",
      "                                                                 \n",
      " dense_7 (Dense)             (None, 1)                 17384513  \n",
      "                                                                 \n",
      "=================================================================\n",
      "Total params: 17,389,133\n",
      "Trainable params: 17,389,133\n",
      "Non-trainable params: 0\n",
      "_________________________________________________________________\n"
     ]
    }
   ],
   "source": [
    "def Dense_model(width=61, height=73, depth=61):\n",
    "    \"\"\"Build a Highest performing Dense FNN neural network model from Mellema 2022.\"\"\"\n",
    "\n",
    "    inputs = keras.Input((width, height, depth, 1))\n",
    "    \n",
    "    x = layers.Dense(6,kernel_regularizer=tf.keras.regularizers.l2(0.0001))(inputs)\n",
    "    x = layers.Dense(units=64, activation=\"relu\")(x)\n",
    "    x = layers.Dropout(0.13)(x)\n",
    "    x = layers.Dense(units=64, activation=\"relu\")(x)\n",
    "    x = layers.Flatten()(x)\n",
    "    \n",
    "\n",
    "    outputs = layers.Dense(units=1, activation=\"sigmoid\")(x)\n",
    "\n",
    "    # Define the model.\n",
    "    model = keras.Model(inputs, outputs, name=\"DFNN\")\n",
    "    return model\n",
    "\n",
    "\n",
    "# Build model.\n",
    "model = Dense_model(width=61, height=73, depth=61)\n",
    "model.summary()"
   ]
  },
  {
   "cell_type": "code",
   "execution_count": 23,
   "metadata": {},
   "outputs": [
    {
     "name": "stdout",
     "output_type": "stream",
     "text": [
      "Epoch 1/50\n",
      "20/20 [==============================] - 4s 188ms/step - loss: 18524.4668 - binary_accuracy: 0.5897 - auc_1: 0.5799 - val_loss: 12698.7002 - val_binary_accuracy: 0.5714 - val_auc_1: 0.6842\n",
      "Epoch 2/50\n",
      "20/20 [==============================] - 4s 182ms/step - loss: 5507.1743 - binary_accuracy: 0.7276 - auc_1: 0.6974 - val_loss: 4978.2476 - val_binary_accuracy: 0.7905 - val_auc_1: 0.7964\n",
      "Epoch 3/50\n",
      "20/20 [==============================] - 4s 180ms/step - loss: 4974.9189 - binary_accuracy: 0.7468 - auc_1: 0.7148 - val_loss: 3003.1848 - val_binary_accuracy: 0.7905 - val_auc_1: 0.7902\n",
      "Epoch 4/50\n",
      "20/20 [==============================] - 4s 181ms/step - loss: 1587.8639 - binary_accuracy: 0.8045 - auc_1: 0.7804 - val_loss: 1428.8259 - val_binary_accuracy: 0.7905 - val_auc_1: 0.7328\n",
      "Epoch 5/50\n",
      "20/20 [==============================] - 4s 182ms/step - loss: 1020.3867 - binary_accuracy: 0.8429 - auc_1: 0.8169 - val_loss: 2121.9277 - val_binary_accuracy: 0.6667 - val_auc_1: 0.5724\n",
      "Epoch 6/50\n",
      "20/20 [==============================] - 4s 182ms/step - loss: 1046.9249 - binary_accuracy: 0.8013 - auc_1: 0.7723 - val_loss: 4470.8203 - val_binary_accuracy: 0.7048 - val_auc_1: 0.7228\n",
      "Epoch 7/50\n",
      "20/20 [==============================] - 4s 182ms/step - loss: 2409.3853 - binary_accuracy: 0.7885 - auc_1: 0.7689 - val_loss: 1659.4427 - val_binary_accuracy: 0.7619 - val_auc_1: 0.7149\n",
      "Epoch 8/50\n",
      "20/20 [==============================] - 4s 181ms/step - loss: 3918.7439 - binary_accuracy: 0.7212 - auc_1: 0.6945 - val_loss: 2798.9197 - val_binary_accuracy: 0.7714 - val_auc_1: 0.7639\n",
      "Epoch 9/50\n",
      "20/20 [==============================] - 4s 182ms/step - loss: 879.9265 - binary_accuracy: 0.8878 - auc_1: 0.8764 - val_loss: 3912.5752 - val_binary_accuracy: 0.6762 - val_auc_1: 0.5885\n",
      "Epoch 10/50\n",
      "20/20 [==============================] - 4s 180ms/step - loss: 1447.7817 - binary_accuracy: 0.8141 - auc_1: 0.7925 - val_loss: 1607.1287 - val_binary_accuracy: 0.7429 - val_auc_1: 0.6901\n",
      "Epoch 11/50\n",
      "20/20 [==============================] - 4s 181ms/step - loss: 597.8946 - binary_accuracy: 0.8974 - auc_1: 0.8872 - val_loss: 4136.8193 - val_binary_accuracy: 0.5714 - val_auc_1: 0.4444\n",
      "Epoch 12/50\n",
      "20/20 [==============================] - 4s 182ms/step - loss: 1980.0709 - binary_accuracy: 0.7821 - auc_1: 0.7570 - val_loss: 2165.4282 - val_binary_accuracy: 0.7905 - val_auc_1: 0.7924\n"
     ]
    },
    {
     "data": {
      "text/plain": [
       "<keras.callbacks.History at 0x7fc6d458c340>"
      ]
     },
     "execution_count": 23,
     "metadata": {},
     "output_type": "execute_result"
    }
   ],
   "source": [
    "# Compile model.\n",
    "initial_learning_rate = 0.0001\n",
    "\n",
    "lr_schedule = keras.optimizers.schedules.ExponentialDecay(\n",
    "    initial_learning_rate, decay_steps=100000, decay_rate=0.96, staircase=True\n",
    ")\n",
    "\n",
    "# Compile model.\n",
    "model.compile(\n",
    "    loss=\"binary_crossentropy\",\n",
    "    optimizer=keras.optimizers.Adam(learning_rate=lr_schedule),\n",
    "    metrics=[tf.keras.metrics.BinaryAccuracy(),tf.keras.metrics.AUC()],\n",
    ")\n",
    "\n",
    "# Define callbacks.\n",
    "#checkpoint_cb = keras.callbacks.ModelCheckpoint(\n",
    " #   \"3d_image_classification_Cxa_DFNN.h5\", save_best_only=True\n",
    "#)\n",
    "early_stopping_cb = keras.callbacks.EarlyStopping(monitor=\"val_binary_accuracy\", patience=10)\n",
    "\n",
    "# Train the model, doing validation at the end of each epoch\n",
    "epochs = 50\n",
    "model.fit(\n",
    "    train_dataset,\n",
    "    validation_data=validation_dataset,\n",
    "    epochs=epochs,\n",
    "    shuffle=True,\n",
    "    callbacks=early_stopping_cb,\n",
    ")"
   ]
  },
  {
   "cell_type": "code",
   "execution_count": 25,
   "metadata": {},
   "outputs": [],
   "source": [
    "# Save the weights\n",
    "model.save_weights('DFNN_GAN_mod1.h5')"
   ]
  },
  {
   "cell_type": "code",
   "execution_count": 18,
   "metadata": {},
   "outputs": [],
   "source": [
    "# # Load best weights.\n",
    "model.load_weights(\"DFNN_GAN_mod1.h5\")\n",
    "prediction = model.predict(np.expand_dims(x_test[0], axis=0))[0]\n",
    "print(prediction)\n",
    "scores = [1 - prediction[0], prediction[0]]\n",
    "\n",
    "class_names = [\"normal\", \"abnormal\"]\n",
    "for score, name in zip(scores, class_names):\n",
    "    print(\n",
    "    \"This model is %.2f percent confident that CT scan is %s\"\n",
    "    % ((100 * score), name))\n",
    "print(y_test[0])"
   ]
  },
  {
   "cell_type": "code",
   "execution_count": 24,
   "metadata": {},
   "outputs": [
    {
     "name": "stdout",
     "output_type": "stream",
     "text": [
      "3/3 [==============================] - 0s 79ms/step - loss: 1348.2887 - binary_accuracy: 0.8243 - auc_1: 0.8172\n"
     ]
    },
    {
     "data": {
      "text/plain": [
       "[1348.2886962890625, 0.8243243098258972, 0.817216157913208]"
      ]
     },
     "execution_count": 24,
     "metadata": {},
     "output_type": "execute_result"
    }
   ],
   "source": [
    "#proportion of training data that's positive\n",
    "sum(y_train) / len(y_train)\n",
    "\n",
    "#proportion of holdout data that's positive\n",
    "(sum(y_val) / len(y_val))\n",
    "\n",
    "#evaluate on the holdout data\n",
    "model.evaluate(x_val, y_val)"
   ]
  },
  {
   "cell_type": "code",
   "execution_count": 29,
   "metadata": {},
   "outputs": [
    {
     "name": "stdout",
     "output_type": "stream",
     "text": [
      "              precision    recall  f1-score   support\n",
      "\n",
      "           0       0.78      0.89      0.83        35\n",
      "           1       0.88      0.77      0.82        39\n",
      "\n",
      "    accuracy                           0.82        74\n",
      "   macro avg       0.83      0.83      0.82        74\n",
      "weighted avg       0.83      0.82      0.82        74\n",
      "\n"
     ]
    }
   ],
   "source": [
    "from sklearn.metrics import classification_report, confusion_matrix\n",
    "\n",
    "preds = model.predict(x_val)\n",
    "\n",
    "preds = np.where(preds > .5, 1,0)\n",
    "\n",
    "\n",
    "\n",
    "print(classification_report(y_val, preds))\n",
    "cm = confusion_matrix(y_val, preds)"
   ]
  },
  {
   "cell_type": "code",
   "execution_count": 30,
   "metadata": {},
   "outputs": [
    {
     "data": {
      "image/png": "[encoded data removed]",
      "text/plain": [
       "<Figure size 432x288 with 2 Axes>"
      ]
     },
     "metadata": {
      "needs_background": "light"
     },
     "output_type": "display_data"
    }
   ],
   "source": [
    "import seaborn as sns\n",
    "\n",
    "ax = sns.heatmap(cm, annot=True, cmap='Blues')\n",
    "\n",
    "ax.set_title('Confusion Matrix');\n",
    "ax.set_xlabel('\\nPredicted Values')\n",
    "ax.set_ylabel('Actual Values ');\n",
    "\n",
    "## Ticket labels - List must be in alphabetical order\n",
    "ax.xaxis.set_ticklabels(['False','True'])\n",
    "ax.yaxis.set_ticklabels(['False','True'])\n",
    "\n",
    "## Display the visualization of the Confusion Matrix.\n",
    "plt.show()"
   ]
  },
  {
   "cell_type": "code",
   "execution_count": 35,
   "metadata": {},
   "outputs": [
    {
     "data": {
      "image/png": "[encoded data removed]",
      "text/plain": [
       "<PIL.Image.Image image mode=RGBA size=1772x421 at 0x7F022B5D1670>"
      ]
     },
     "execution_count": 35,
     "metadata": {},
     "output_type": "execute_result"
    }
   ],
   "source": [
    "from PIL import ImageFont\n",
    "font = ImageFont.truetype(\"Arial.ttf\", 16)\n",
    "visualkeras.layered_view(model, legend=True,font = font, to_file='DFNN1arch_gan.png')  # font is optional!"
   ]
  },
  {
   "cell_type": "markdown",
   "metadata": {},
   "source": [
    "### 2.2 Build a Highest performing Dense FNN neural network model from Mellema 2022 with modifications"
   ]
  },
  {
   "cell_type": "code",
   "execution_count": 18,
   "metadata": {},
   "outputs": [
    {
     "name": "stdout",
     "output_type": "stream",
     "text": [
      "Model: \"DFNN\"\n",
      "_________________________________________________________________\n",
      " Layer (type)                Output Shape              Param #   \n",
      "=================================================================\n",
      " input_3 (InputLayer)        [(None, 61, 73, 61, 1)]   0         \n",
      "                                                                 \n",
      " dense_8 (Dense)             (None, 61, 73, 61, 6)     12        \n",
      "                                                                 \n",
      " batch_normalization_2 (Batc  (None, 61, 73, 61, 6)    24        \n",
      " hNormalization)                                                 \n",
      "                                                                 \n",
      " dense_9 (Dense)             (None, 61, 73, 61, 128)   896       \n",
      "                                                                 \n",
      " dropout_2 (Dropout)         (None, 61, 73, 61, 128)   0         \n",
      "                                                                 \n",
      " dense_10 (Dense)            (None, 61, 73, 61, 64)    8256      \n",
      "                                                                 \n",
      " flatten_2 (Flatten)         (None, 17384512)          0         \n",
      "                                                                 \n",
      " dense_11 (Dense)            (None, 1)                 17384513  \n",
      "                                                                 \n",
      "=================================================================\n",
      "Total params: 17,393,701\n",
      "Trainable params: 17,393,689\n",
      "Non-trainable params: 12\n",
      "_________________________________________________________________\n"
     ]
    }
   ],
   "source": [
    "def Dense_model(width=61, height=73, depth=61):\n",
    "    \"\"\"Build a Highest performing Dense FNN neural network model from Mellema 2022 with modifications.\"\"\"\n",
    "\n",
    "    inputs = keras.Input((width, height, depth, 1))  \n",
    "     \n",
    "    x = layers.Dense(6,kernel_regularizer=tf.keras.regularizers.l2(0.0001))(inputs)\n",
    "    x = layers.BatchNormalization()(x)\n",
    "    x = layers.Dense(units=128, activation=\"relu\")(x)\n",
    "    x = layers.Dropout(0.13)(x)\n",
    "    x = layers.Dense(units=64, activation=\"relu\")(x)\n",
    "    x = layers.Flatten()(x)\n",
    "    outputs = layers.Dense(units=1, activation=\"sigmoid\")(x)\n",
    "\n",
    "    # Define the model.\n",
    "    model = keras.Model(inputs, outputs, name=\"DFNN\")\n",
    "    return model\n",
    "\n",
    "\n",
    "# Build model.\n",
    "model = Dense_model(width=61, height=73, depth=61)\n",
    "model.summary()"
   ]
  },
  {
   "cell_type": "code",
   "execution_count": null,
   "metadata": {},
   "outputs": [],
   "source": [
    "initial_learning_rate = 0.0001\n",
    "lr_schedule = keras.optimizers.schedules.ExponentialDecay(\n",
    "    initial_learning_rate, decay_steps=100000, decay_rate=0.95, staircase=True)\n",
    "\n",
    "# Compile model.\n",
    "model.compile(\n",
    "    loss=\"binary_crossentropy\",\n",
    "    optimizer=keras.optimizers.Adam(learning_rate=lr_schedule),\n",
    "    metrics=[tf.keras.metrics.BinaryAccuracy(),tf.keras.metrics.AUC()],\n",
    ")\n",
    "\n",
    "# Define callbacks.\n",
    "#checkpoint_cb = keras.callbacks.ModelCheckpoint(\n",
    " #   \"3d_image_classification_Cxa_adamDFNN.h5\", save_best_only=True)\n",
    "early_stopping_cb = keras.callbacks.EarlyStopping(monitor=\"val_binary_accuracy\", patience=15)\n",
    "\n",
    "# Train the model, doing validation at the end of each epoch\n",
    "epochs = 50\n",
    "model.fit(\n",
    "    train_dataset,\n",
    "    validation_data=validation_dataset,\n",
    "    epochs=epochs,\n",
    "    shuffle=True,\n",
    "    callbacks=early_stopping_cb,\n",
    ")"
   ]
  },
  {
   "cell_type": "code",
   "execution_count": 24,
   "metadata": {},
   "outputs": [
    {
     "name": "stdout",
     "output_type": "stream",
     "text": [
      "3/3 [==============================] - 0s 6ms/step - loss: 0.5729 - binary_accuracy: 0.6757 - auc_1: 0.6443\n"
     ]
    },
    {
     "data": {
      "text/plain": [
       "[0.5728657245635986, 0.6756756901741028, 0.6443223357200623]"
      ]
     },
     "execution_count": 24,
     "metadata": {},
     "output_type": "execute_result"
    }
   ],
   "source": [
    "#evaluate on the holdout data\n",
    "model.evaluate(x_val, y_val)"
   ]
  },
  {
   "cell_type": "code",
   "execution_count": 25,
   "metadata": {},
   "outputs": [
    {
     "name": "stdout",
     "output_type": "stream",
     "text": [
      "              precision    recall  f1-score   support\n",
      "\n",
      "           0       0.59      1.00      0.74        35\n",
      "           1       1.00      0.38      0.56        39\n",
      "\n",
      "    accuracy                           0.68        74\n",
      "   macro avg       0.80      0.69      0.65        74\n",
      "weighted avg       0.81      0.68      0.65        74\n",
      "\n"
     ]
    }
   ],
   "source": [
    "from sklearn.metrics import classification_report, confusion_matrix\n",
    "\n",
    "preds = model.predict(x_val)\n",
    "\n",
    "preds = np.where(preds > .5, 1,0)\n",
    "\n",
    "\n",
    "\n",
    "print(classification_report(y_val, preds))\n",
    "cm = confusion_matrix(y_val, preds)"
   ]
  },
  {
   "cell_type": "code",
   "execution_count": 26,
   "metadata": {},
   "outputs": [
    {
     "data": {
      "image/png": "[encoded data removed]",
      "text/plain": [
       "<Figure size 432x288 with 2 Axes>"
      ]
     },
     "metadata": {
      "needs_background": "light"
     },
     "output_type": "display_data"
    }
   ],
   "source": [
    "import seaborn as sns\n",
    "\n",
    "ax = sns.heatmap(cm, annot=True, cmap='Blues')\n",
    "\n",
    "ax.set_title('Confusion Matrix');\n",
    "ax.set_xlabel('\\nPredicted Values')\n",
    "ax.set_ylabel('Actual Values ');\n",
    "\n",
    "## Ticket labels - List must be in alphabetical order\n",
    "ax.xaxis.set_ticklabels(['False','True'])\n",
    "ax.yaxis.set_ticklabels(['False','True'])\n",
    "\n",
    "## Display the visualization of the Confusion Matrix.\n",
    "plt.show()"
   ]
  },
  {
   "cell_type": "markdown",
   "metadata": {},
   "source": [
    "### 2.3 Complex Highest performing Dense FNN neural network model from Mellema 2022 with modifications"
   ]
  },
  {
   "cell_type": "code",
   "execution_count": 32,
   "metadata": {},
   "outputs": [
    {
     "name": "stdout",
     "output_type": "stream",
     "text": [
      "Model: \"DFNN_simple\"\n",
      "_________________________________________________________________\n",
      " Layer (type)                Output Shape              Param #   \n",
      "=================================================================\n",
      " input_4 (InputLayer)        [(None, 61, 73, 61, 1)]   0         \n",
      "                                                                 \n",
      " dense_13 (Dense)            (None, 61, 73, 61, 16)    32        \n",
      "                                                                 \n",
      " dropout_5 (Dropout)         (None, 61, 73, 61, 16)    0         \n",
      "                                                                 \n",
      " dense_14 (Dense)            (None, 61, 73, 61, 16)    272       \n",
      "                                                                 \n",
      " flatten_3 (Flatten)         (None, 4346128)           0         \n",
      "                                                                 \n",
      " dense_15 (Dense)            (None, 1)                 4346129   \n",
      "                                                                 \n",
      "=================================================================\n",
      "Total params: 4,346,433\n",
      "Trainable params: 4,346,433\n",
      "Non-trainable params: 0\n",
      "_________________________________________________________________\n"
     ]
    }
   ],
   "source": [
    "def Dense_model(width=61, height=73, depth=61):\n",
    "    \"\"\"Build a complex Highest performing Dense FNN neural network model from Mellema 2022.\"\"\"\n",
    "\n",
    "    inputs = keras.Input((width, height, depth, 1))\n",
    "    \n",
    "    x = layers.Dense(units=128, activation=\"relu\", kernel_regularizer = keras.regularizers.L2(0.00011))(inputs)\n",
    "    \n",
    "    x = layers.BatchNormalization()(x)\n",
    "    \n",
    "    x = layers.Dropout(0.18)(x)\n",
    "    x = layers.Dense(units=128, activation=\"relu\")(x)\n",
    "    x = layers.Dropout(0.18)(x)\n",
    "    x = layers.Dense(units=64, activation=\"relu\")(x)\n",
    "    x = layers.Dropout(0.18)(x)\n",
    "    x = layers.Dense(units=42, activation=\"relu\")(x)\n",
    "    x = layers.Flatten()(x)\n",
    "    \n",
    "    outputs = layers.Dense(units=1, activation=\"sigmoid\")(x)\n",
    "\n",
    "    # Define the model.\n",
    "    model = keras.Model(inputs, outputs, name=\"DFNN_complex\")\n",
    "    return model\n",
    "\n",
    "\n",
    "# Build model.\n",
    "model = Dense_model(width=61, height=73, depth=61)\n",
    "model.summary()"
   ]
  },
  {
   "cell_type": "code",
   "execution_count": 33,
   "metadata": {},
   "outputs": [
    {
     "name": "stdout",
     "output_type": "stream",
     "text": [
      "Epoch 1/50\n",
      "20/20 [==============================] - 2s 55ms/step - loss: 9955.9082 - binary_accuracy: 0.6795 - auc_3: 0.6706 - val_loss: 7681.6768 - val_binary_accuracy: 0.5619 - val_auc_3: 0.6754\n",
      "Epoch 2/50\n",
      "20/20 [==============================] - 1s 45ms/step - loss: 2862.1890 - binary_accuracy: 0.7372 - auc_3: 0.7381 - val_loss: 1085.7069 - val_binary_accuracy: 0.8000 - val_auc_3: 0.7961\n",
      "Epoch 3/50\n",
      "20/20 [==============================] - 1s 45ms/step - loss: 4904.7495 - binary_accuracy: 0.7308 - auc_3: 0.7385 - val_loss: 2590.1101 - val_binary_accuracy: 0.7905 - val_auc_3: 0.8004\n",
      "Epoch 4/50\n",
      "20/20 [==============================] - 1s 45ms/step - loss: 4504.1401 - binary_accuracy: 0.7276 - auc_3: 0.7149 - val_loss: 3547.4009 - val_binary_accuracy: 0.6571 - val_auc_3: 0.7599\n",
      "Epoch 5/50\n",
      "20/20 [==============================] - 1s 45ms/step - loss: 2785.5027 - binary_accuracy: 0.7532 - auc_3: 0.7668 - val_loss: 1749.1803 - val_binary_accuracy: 0.6857 - val_auc_3: 0.7796\n",
      "Epoch 6/50\n",
      "20/20 [==============================] - 1s 44ms/step - loss: 1543.7766 - binary_accuracy: 0.8173 - auc_3: 0.8226 - val_loss: 3847.5554 - val_binary_accuracy: 0.5905 - val_auc_3: 0.6985\n",
      "Epoch 7/50\n",
      "20/20 [==============================] - 1s 44ms/step - loss: 5198.7363 - binary_accuracy: 0.7212 - auc_3: 0.7202 - val_loss: 6539.1694 - val_binary_accuracy: 0.5714 - val_auc_3: 0.6842\n",
      "Epoch 8/50\n",
      "20/20 [==============================] - 1s 45ms/step - loss: 2578.3042 - binary_accuracy: 0.8013 - auc_3: 0.7825 - val_loss: 5039.2793 - val_binary_accuracy: 0.6952 - val_auc_3: 0.7211\n",
      "Epoch 9/50\n",
      "20/20 [==============================] - 1s 45ms/step - loss: 1250.4897 - binary_accuracy: 0.8526 - auc_3: 0.8398 - val_loss: 2356.0881 - val_binary_accuracy: 0.7429 - val_auc_3: 0.7566\n",
      "Epoch 10/50\n",
      "20/20 [==============================] - 1s 45ms/step - loss: 1135.2566 - binary_accuracy: 0.8622 - auc_3: 0.8480 - val_loss: 1353.1750 - val_binary_accuracy: 0.7905 - val_auc_3: 0.7971\n",
      "Epoch 11/50\n",
      "20/20 [==============================] - 1s 45ms/step - loss: 1164.7268 - binary_accuracy: 0.8654 - auc_3: 0.8518 - val_loss: 1513.5381 - val_binary_accuracy: 0.7810 - val_auc_3: 0.7754\n",
      "Epoch 12/50\n",
      "20/20 [==============================] - 1s 45ms/step - loss: 2512.7146 - binary_accuracy: 0.8013 - auc_3: 0.7826 - val_loss: 2366.0002 - val_binary_accuracy: 0.7905 - val_auc_3: 0.7971\n",
      "Epoch 13/50\n",
      "20/20 [==============================] - 1s 45ms/step - loss: 678.7661 - binary_accuracy: 0.8910 - auc_3: 0.8797 - val_loss: 2309.9961 - val_binary_accuracy: 0.7619 - val_auc_3: 0.7741\n",
      "Epoch 14/50\n",
      "20/20 [==============================] - 1s 45ms/step - loss: 1058.5786 - binary_accuracy: 0.8974 - auc_3: 0.8884 - val_loss: 1928.9592 - val_binary_accuracy: 0.7524 - val_auc_3: 0.7654\n",
      "Epoch 15/50\n",
      "20/20 [==============================] - 1s 45ms/step - loss: 853.7844 - binary_accuracy: 0.8846 - auc_3: 0.8730 - val_loss: 963.8941 - val_binary_accuracy: 0.8286 - val_auc_3: 0.8213\n",
      "Epoch 16/50\n",
      "20/20 [==============================] - 1s 45ms/step - loss: 1611.9681 - binary_accuracy: 0.8462 - auc_3: 0.8360 - val_loss: 4180.2861 - val_binary_accuracy: 0.7048 - val_auc_3: 0.7281\n",
      "Epoch 17/50\n",
      "20/20 [==============================] - 1s 45ms/step - loss: 4111.6543 - binary_accuracy: 0.7564 - auc_3: 0.7670 - val_loss: 2629.0916 - val_binary_accuracy: 0.7714 - val_auc_3: 0.7796\n",
      "Epoch 18/50\n",
      "20/20 [==============================] - 1s 45ms/step - loss: 336.4575 - binary_accuracy: 0.9519 - auc_3: 0.9481 - val_loss: 3738.1099 - val_binary_accuracy: 0.7333 - val_auc_3: 0.7511\n",
      "Epoch 19/50\n",
      "20/20 [==============================] - 1s 46ms/step - loss: 1061.4316 - binary_accuracy: 0.8814 - auc_3: 0.8726 - val_loss: 3728.1184 - val_binary_accuracy: 0.7143 - val_auc_3: 0.7336\n",
      "Epoch 20/50\n",
      "20/20 [==============================] - 1s 45ms/step - loss: 1151.8815 - binary_accuracy: 0.8622 - auc_3: 0.8517 - val_loss: 1916.5392 - val_binary_accuracy: 0.7714 - val_auc_3: 0.7796\n",
      "Epoch 21/50\n",
      "20/20 [==============================] - 1s 45ms/step - loss: 126.1631 - binary_accuracy: 0.9679 - auc_3: 0.9653 - val_loss: 2054.5671 - val_binary_accuracy: 0.7810 - val_auc_3: 0.7917\n",
      "Epoch 22/50\n",
      "20/20 [==============================] - 1s 45ms/step - loss: 115.9224 - binary_accuracy: 0.9712 - auc_3: 0.9685 - val_loss: 1982.0298 - val_binary_accuracy: 0.7619 - val_auc_3: 0.7708\n",
      "Epoch 23/50\n",
      "20/20 [==============================] - 1s 45ms/step - loss: 2302.9436 - binary_accuracy: 0.8237 - auc_3: 0.8222 - val_loss: 19897.2578 - val_binary_accuracy: 0.5619 - val_auc_3: 0.6754\n",
      "Epoch 24/50\n",
      "20/20 [==============================] - 1s 45ms/step - loss: 6638.5063 - binary_accuracy: 0.7596 - auc_3: 0.7574 - val_loss: 2133.3291 - val_binary_accuracy: 0.8095 - val_auc_3: 0.8147\n",
      "Epoch 25/50\n",
      "20/20 [==============================] - 1s 45ms/step - loss: 1179.5547 - binary_accuracy: 0.8878 - auc_3: 0.8821 - val_loss: 4215.2808 - val_binary_accuracy: 0.7524 - val_auc_3: 0.7686\n",
      "Epoch 26/50\n",
      "20/20 [==============================] - 1s 43ms/step - loss: 2108.5391 - binary_accuracy: 0.8205 - auc_3: 0.8086 - val_loss: 1355.2899 - val_binary_accuracy: 0.8095 - val_auc_3: 0.7805\n",
      "Epoch 27/50\n",
      "20/20 [==============================] - 1s 44ms/step - loss: 585.8784 - binary_accuracy: 0.9359 - auc_3: 0.9352 - val_loss: 3210.8701 - val_binary_accuracy: 0.7524 - val_auc_3: 0.7686\n",
      "Epoch 28/50\n",
      "20/20 [==============================] - 1s 44ms/step - loss: 196.8470 - binary_accuracy: 0.9551 - auc_3: 0.9538 - val_loss: 4368.4937 - val_binary_accuracy: 0.7143 - val_auc_3: 0.7336\n",
      "Epoch 29/50\n",
      "20/20 [==============================] - 1s 44ms/step - loss: 1307.1760 - binary_accuracy: 0.8750 - auc_3: 0.8665 - val_loss: 2878.7419 - val_binary_accuracy: 0.7429 - val_auc_3: 0.7599\n",
      "Epoch 30/50\n",
      "20/20 [==============================] - 1s 44ms/step - loss: 277.6041 - binary_accuracy: 0.9519 - auc_3: 0.9517 - val_loss: 3067.4221 - val_binary_accuracy: 0.7524 - val_auc_3: 0.7686\n"
     ]
    },
    {
     "data": {
      "text/plain": [
       "<keras.callbacks.History at 0x7f19707803d0>"
      ]
     },
     "execution_count": 33,
     "metadata": {},
     "output_type": "execute_result"
    }
   ],
   "source": [
    "initial_learning_rate = 0.0001\n",
    "lr_schedule = keras.optimizers.schedules.ExponentialDecay(\n",
    "    initial_learning_rate, decay_steps=10000, decay_rate=0.96, staircase=True)\n",
    "\n",
    "# Compile model.\n",
    "model.compile(\n",
    "    loss=\"binary_crossentropy\",\n",
    "    optimizer=keras.optimizers.Adam(learning_rate=lr_schedule),\n",
    "    metrics=[tf.keras.metrics.BinaryAccuracy(),tf.keras.metrics.AUC()],\n",
    ")\n",
    "\n",
    "# Define callbacks.\n",
    "#checkpoint_cb = keras.callbacks.ModelCheckpoint(\n",
    " #   \"3d_image_classification_Cxa_adamDFNN.h5\", save_best_only=True)\n",
    "early_stopping_cb = keras.callbacks.EarlyStopping(monitor=\"val_binary_accuracy\", patience=15)\n",
    "\n",
    "# Train the model, doing validation at the end of each epoch\n",
    "epochs = 50\n",
    "model.fit(\n",
    "    train_dataset,\n",
    "    validation_data=validation_dataset,\n",
    "    epochs=epochs,\n",
    "    shuffle=True,\n",
    "    callbacks=[checkpoint_cb, early_stopping_cb],\n",
    ")"
   ]
  },
  {
   "cell_type": "code",
   "execution_count": 34,
   "metadata": {},
   "outputs": [
    {
     "name": "stdout",
     "output_type": "stream",
     "text": [
      "3/3 [==============================] - 0s 17ms/step - loss: 2446.7507 - binary_accuracy: 0.7703 - auc_3: 0.7773\n"
     ]
    },
    {
     "data": {
      "text/plain": [
       "[2446.750732421875, 0.7702702879905701, 0.7772893905639648]"
      ]
     },
     "execution_count": 34,
     "metadata": {},
     "output_type": "execute_result"
    }
   ],
   "source": [
    "#evaluate on the holdout data\n",
    "model.evaluate(x_val, y_val)"
   ]
  },
  {
   "cell_type": "code",
   "execution_count": 35,
   "metadata": {},
   "outputs": [
    {
     "name": "stdout",
     "output_type": "stream",
     "text": [
      "              precision    recall  f1-score   support\n",
      "\n",
      "           0       0.68      0.97      0.80        35\n",
      "           1       0.96      0.59      0.73        39\n",
      "\n",
      "    accuracy                           0.77        74\n",
      "   macro avg       0.82      0.78      0.77        74\n",
      "weighted avg       0.83      0.77      0.76        74\n",
      "\n"
     ]
    }
   ],
   "source": [
    "from sklearn.metrics import classification_report, confusion_matrix\n",
    "\n",
    "preds = model.predict(x_val)\n",
    "\n",
    "preds = np.where(preds > .5, 1,0)\n",
    "\n",
    "\n",
    "\n",
    "print(classification_report(y_val, preds))\n",
    "cm = confusion_matrix(y_val, preds)"
   ]
  },
  {
   "cell_type": "code",
   "execution_count": 36,
   "metadata": {},
   "outputs": [
    {
     "data": {
      "image/png": "[encoded data removed]",
      "text/plain": [
       "<Figure size 432x288 with 2 Axes>"
      ]
     },
     "metadata": {
      "needs_background": "light"
     },
     "output_type": "display_data"
    }
   ],
   "source": [
    "import seaborn as sns\n",
    "\n",
    "ax = sns.heatmap(cm, annot=True, cmap='Blues')\n",
    "\n",
    "ax.set_title('Confusion Matrix');\n",
    "ax.set_xlabel('\\nPredicted Values')\n",
    "ax.set_ylabel('Actual Values ');\n",
    "\n",
    "## Ticket labels - List must be in alphabetical order\n",
    "ax.xaxis.set_ticklabels(['False','True'])\n",
    "ax.yaxis.set_ticklabels(['False','True'])\n",
    "\n",
    "## Display the visualization of the Confusion Matrix.\n",
    "plt.show()"
   ]
  }
 ],
 "metadata": {
  "kernelspec": {
   "display_name": "Tensorflow 2.8.0/Keras Py3.9",
   "language": "python",
   "name": "tensorflow-2.8.0"
  },
  "language_info": {
   "codemirror_mode": {
    "name": "ipython",
    "version": 3
   },
   "file_extension": ".py",
   "mimetype": "text/x-python",
   "name": "python",
   "nbconvert_exporter": "python",
   "pygments_lexer": "ipython3",
   "version": "3.9.10"
  }
 },
 "nbformat": 4,
 "nbformat_minor": 4
}
