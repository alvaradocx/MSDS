{
 "cells": [
  {
   "cell_type": "markdown",
   "metadata": {},
   "source": [
    "# Final Project: Detecting Risk of Heart Disease\n",
    "\n",
    "##### Hayley Kisiel - hsk9ep\n",
    "##### Avinaash Pavuloori - Akp8vy\n",
    "##### Chelsea Alvarado - cxa6ky"
   ]
  },
  {
   "cell_type": "markdown",
   "metadata": {},
   "source": [
    "### Initial Imports and Reading in File"
   ]
  },
  {
   "cell_type": "code",
   "execution_count": 1,
   "metadata": {},
   "outputs": [],
   "source": [
    "from pyspark.sql import SparkSession\n",
    "import os\n",
    "import sys\n",
    "import pandas as pd\n",
    "import numpy as np\n",
    "import matplotlib.pyplot as plt\n",
    "import matplotlib.ticker as mtick\n",
    "import matplotlib\n",
    "from mpl_toolkits.mplot3d import Axes3D\n",
    "import math\n",
    "from IPython.core.interactiveshell import InteractiveShell\n",
    "from datetime import *\n",
    "import statistics as stats\n",
    "import seaborn as sns\n",
    "from pyspark.sql.functions import udf\n",
    "import pyspark.sql.functions as F\n",
    "from pyspark.sql.types import IntegerType, DoubleType"
   ]
  },
  {
   "cell_type": "code",
   "execution_count": 2,
   "metadata": {},
   "outputs": [],
   "source": [
    "infile = 'framingham.csv'\n",
    "\n",
    "spark = SparkSession \\\n",
    "    .builder \\\n",
    "    .appName(\"fram CHD\") \\\n",
    "    .getOrCreate()\n",
    "\n",
    "df = spark.read.csv(infile, inferSchema=True, header = True)"
   ]
  },
  {
   "cell_type": "markdown",
   "metadata": {},
   "source": [
    "# Data Exploration"
   ]
  },
  {
   "cell_type": "markdown",
   "metadata": {},
   "source": [
    "### Preview Data"
   ]
  },
  {
   "cell_type": "code",
   "execution_count": 3,
   "metadata": {},
   "outputs": [
    {
     "name": "stdout",
     "output_type": "stream",
     "text": [
      "+----+---+---------+-------------+----------+------+---------------+------------+--------+-------+-----+-----+-----+---------+-------+----------+\n",
      "|male|age|education|currentSmoker|cigsPerDay|BPMeds|prevalentStroke|prevalentHyp|diabetes|totChol|sysBP|diaBP|  BMI|heartRate|glucose|TenYearCHD|\n",
      "+----+---+---------+-------------+----------+------+---------------+------------+--------+-------+-----+-----+-----+---------+-------+----------+\n",
      "|   1| 39|        4|            0|         0|     0|              0|           0|       0|    195|106.0| 70.0|26.97|       80|     77|         0|\n",
      "|   0| 46|        2|            0|         0|     0|              0|           0|       0|    250|121.0| 81.0|28.73|       95|     76|         0|\n",
      "|   1| 48|        1|            1|        20|     0|              0|           0|       0|    245|127.5| 80.0|25.34|       75|     70|         0|\n",
      "|   0| 61|        3|            1|        30|     0|              0|           1|       0|    225|150.0| 95.0|28.58|       65|    103|         1|\n",
      "|   0| 46|        3|            1|        23|     0|              0|           0|       0|    285|130.0| 84.0| 23.1|       85|     85|         0|\n",
      "+----+---+---------+-------------+----------+------+---------------+------------+--------+-------+-----+-----+-----+---------+-------+----------+\n",
      "only showing top 5 rows\n",
      "\n"
     ]
    }
   ],
   "source": [
    "df.show(5)"
   ]
  },
  {
   "cell_type": "markdown",
   "metadata": {},
   "source": [
    "### Check number of entries and column types"
   ]
  },
  {
   "cell_type": "code",
   "execution_count": 4,
   "metadata": {},
   "outputs": [
    {
     "name": "stdout",
     "output_type": "stream",
     "text": [
      "Number of observations: 4238\n",
      "Number of columns: 16\n",
      "Number of features: 15\n"
     ]
    }
   ],
   "source": [
    "#count\n",
    "count = df.count()\n",
    "print(\"Number of observations: \" + str(count))\n",
    "\n",
    "#number of cols\n",
    "col_num = len(df.columns)\n",
    "print(\"Number of columns: \" + str(col_num))\n",
    "print(\"Number of features: \" + str(col_num-1))"
   ]
  },
  {
   "cell_type": "code",
   "execution_count": 5,
   "metadata": {},
   "outputs": [
    {
     "name": "stdout",
     "output_type": "stream",
     "text": [
      "Data overview\n",
      "root\n",
      " |-- male: integer (nullable = true)\n",
      " |-- age: integer (nullable = true)\n",
      " |-- education: string (nullable = true)\n",
      " |-- currentSmoker: integer (nullable = true)\n",
      " |-- cigsPerDay: string (nullable = true)\n",
      " |-- BPMeds: string (nullable = true)\n",
      " |-- prevalentStroke: integer (nullable = true)\n",
      " |-- prevalentHyp: integer (nullable = true)\n",
      " |-- diabetes: integer (nullable = true)\n",
      " |-- totChol: string (nullable = true)\n",
      " |-- sysBP: double (nullable = true)\n",
      " |-- diaBP: double (nullable = true)\n",
      " |-- BMI: string (nullable = true)\n",
      " |-- heartRate: string (nullable = true)\n",
      " |-- glucose: string (nullable = true)\n",
      " |-- TenYearCHD: integer (nullable = true)\n",
      "\n"
     ]
    }
   ],
   "source": [
    "#schema\n",
    "print('Data overview')\n",
    "df.printSchema()"
   ]
  },
  {
   "cell_type": "markdown",
   "metadata": {},
   "source": [
    "### Evaluate Statistics"
   ]
  },
  {
   "cell_type": "code",
   "execution_count": 6,
   "metadata": {},
   "outputs": [
    {
     "name": "stdout",
     "output_type": "stream",
     "text": [
      "Data frame describe:\n"
     ]
    },
    {
     "data": {
      "text/html": [
       "<div>\n",
       "<style scoped>\n",
       "    .dataframe tbody tr th:only-of-type {\n",
       "        vertical-align: middle;\n",
       "    }\n",
       "\n",
       "    .dataframe tbody tr th {\n",
       "        vertical-align: top;\n",
       "    }\n",
       "\n",
       "    .dataframe thead th {\n",
       "        text-align: right;\n",
       "    }\n",
       "</style>\n",
       "<table border=\"1\" class=\"dataframe\">\n",
       "  <thead>\n",
       "    <tr style=\"text-align: right;\">\n",
       "      <th></th>\n",
       "      <th>summary</th>\n",
       "      <th>male</th>\n",
       "      <th>age</th>\n",
       "      <th>education</th>\n",
       "      <th>currentSmoker</th>\n",
       "      <th>cigsPerDay</th>\n",
       "      <th>BPMeds</th>\n",
       "      <th>prevalentStroke</th>\n",
       "      <th>prevalentHyp</th>\n",
       "      <th>diabetes</th>\n",
       "      <th>totChol</th>\n",
       "      <th>sysBP</th>\n",
       "      <th>diaBP</th>\n",
       "      <th>BMI</th>\n",
       "      <th>heartRate</th>\n",
       "      <th>glucose</th>\n",
       "      <th>TenYearCHD</th>\n",
       "    </tr>\n",
       "  </thead>\n",
       "  <tbody>\n",
       "    <tr>\n",
       "      <th>0</th>\n",
       "      <td>count</td>\n",
       "      <td>4238</td>\n",
       "      <td>4238</td>\n",
       "      <td>4238</td>\n",
       "      <td>4238</td>\n",
       "      <td>4238</td>\n",
       "      <td>4238</td>\n",
       "      <td>4238</td>\n",
       "      <td>4238</td>\n",
       "      <td>4238</td>\n",
       "      <td>4238</td>\n",
       "      <td>4238</td>\n",
       "      <td>4238</td>\n",
       "      <td>4238</td>\n",
       "      <td>4238</td>\n",
       "      <td>4238</td>\n",
       "      <td>4238</td>\n",
       "    </tr>\n",
       "    <tr>\n",
       "      <th>1</th>\n",
       "      <td>mean</td>\n",
       "      <td>0.42921189240207647</td>\n",
       "      <td>49.58494572911751</td>\n",
       "      <td>1.9789499153157513</td>\n",
       "      <td>0.49410099103350635</td>\n",
       "      <td>9.003088619624615</td>\n",
       "      <td>0.02962962962962963</td>\n",
       "      <td>0.005899008966493629</td>\n",
       "      <td>0.31052383199622463</td>\n",
       "      <td>0.025719679093912224</td>\n",
       "      <td>236.72158548233045</td>\n",
       "      <td>132.35240679565834</td>\n",
       "      <td>82.89346389806512</td>\n",
       "      <td>25.80200758473571</td>\n",
       "      <td>75.87892376681614</td>\n",
       "      <td>81.96675324675324</td>\n",
       "      <td>0.1519584709768759</td>\n",
       "    </tr>\n",
       "    <tr>\n",
       "      <th>2</th>\n",
       "      <td>stddev</td>\n",
       "      <td>0.49502208553649146</td>\n",
       "      <td>8.572159925118484</td>\n",
       "      <td>1.0197906893122037</td>\n",
       "      <td>0.5000241969070374</td>\n",
       "      <td>11.920093587827756</td>\n",
       "      <td>0.16958356790200058</td>\n",
       "      <td>0.07658717064585814</td>\n",
       "      <td>0.46276269567370154</td>\n",
       "      <td>0.15831642786899564</td>\n",
       "      <td>44.590334318749456</td>\n",
       "      <td>22.038096643544563</td>\n",
       "      <td>11.910849600225525</td>\n",
       "      <td>4.080111062409031</td>\n",
       "      <td>12.026596351612579</td>\n",
       "      <td>23.959998189237467</td>\n",
       "      <td>0.3590229919902725</td>\n",
       "    </tr>\n",
       "    <tr>\n",
       "      <th>3</th>\n",
       "      <td>min</td>\n",
       "      <td>0</td>\n",
       "      <td>32</td>\n",
       "      <td>1</td>\n",
       "      <td>0</td>\n",
       "      <td>0</td>\n",
       "      <td>0</td>\n",
       "      <td>0</td>\n",
       "      <td>0</td>\n",
       "      <td>0</td>\n",
       "      <td>107</td>\n",
       "      <td>83.5</td>\n",
       "      <td>48.0</td>\n",
       "      <td>15.54</td>\n",
       "      <td>100</td>\n",
       "      <td>100</td>\n",
       "      <td>0</td>\n",
       "    </tr>\n",
       "    <tr>\n",
       "      <th>4</th>\n",
       "      <td>max</td>\n",
       "      <td>1</td>\n",
       "      <td>70</td>\n",
       "      <td>NA</td>\n",
       "      <td>1</td>\n",
       "      <td>NA</td>\n",
       "      <td>NA</td>\n",
       "      <td>1</td>\n",
       "      <td>1</td>\n",
       "      <td>1</td>\n",
       "      <td>NA</td>\n",
       "      <td>295.0</td>\n",
       "      <td>142.5</td>\n",
       "      <td>NA</td>\n",
       "      <td>NA</td>\n",
       "      <td>NA</td>\n",
       "      <td>1</td>\n",
       "    </tr>\n",
       "  </tbody>\n",
       "</table>\n",
       "</div>"
      ],
      "text/plain": [
       "  summary                 male                age           education  \\\n",
       "0   count                 4238               4238                4238   \n",
       "1    mean  0.42921189240207647  49.58494572911751  1.9789499153157513   \n",
       "2  stddev  0.49502208553649146  8.572159925118484  1.0197906893122037   \n",
       "3     min                    0                 32                   1   \n",
       "4     max                    1                 70                  NA   \n",
       "\n",
       "         currentSmoker          cigsPerDay               BPMeds  \\\n",
       "0                 4238                4238                 4238   \n",
       "1  0.49410099103350635   9.003088619624615  0.02962962962962963   \n",
       "2   0.5000241969070374  11.920093587827756  0.16958356790200058   \n",
       "3                    0                   0                    0   \n",
       "4                    1                  NA                   NA   \n",
       "\n",
       "        prevalentStroke         prevalentHyp              diabetes  \\\n",
       "0                  4238                 4238                  4238   \n",
       "1  0.005899008966493629  0.31052383199622463  0.025719679093912224   \n",
       "2   0.07658717064585814  0.46276269567370154   0.15831642786899564   \n",
       "3                     0                    0                     0   \n",
       "4                     1                    1                     1   \n",
       "\n",
       "              totChol               sysBP               diaBP  \\\n",
       "0                4238                4238                4238   \n",
       "1  236.72158548233045  132.35240679565834   82.89346389806512   \n",
       "2  44.590334318749456  22.038096643544563  11.910849600225525   \n",
       "3                 107                83.5                48.0   \n",
       "4                  NA               295.0               142.5   \n",
       "\n",
       "                 BMI           heartRate             glucose  \\\n",
       "0               4238                4238                4238   \n",
       "1  25.80200758473571   75.87892376681614   81.96675324675324   \n",
       "2  4.080111062409031  12.026596351612579  23.959998189237467   \n",
       "3              15.54                 100                 100   \n",
       "4                 NA                  NA                  NA   \n",
       "\n",
       "           TenYearCHD  \n",
       "0                4238  \n",
       "1  0.1519584709768759  \n",
       "2  0.3590229919902725  \n",
       "3                   0  \n",
       "4                   1  "
      ]
     },
     "execution_count": 6,
     "metadata": {},
     "output_type": "execute_result"
    }
   ],
   "source": [
    "#overall variable statistics\n",
    "print('Data frame describe:')\n",
    "df.describe().toPandas()"
   ]
  },
  {
   "cell_type": "code",
   "execution_count": 7,
   "metadata": {},
   "outputs": [
    {
     "name": "stdout",
     "output_type": "stream",
     "text": [
      "+-------+-------------------+\n",
      "|summary|               male|\n",
      "+-------+-------------------+\n",
      "|  count|               4238|\n",
      "|   mean|0.42921189240207647|\n",
      "| stddev|0.49502208553649146|\n",
      "|    min|                  0|\n",
      "|    max|                  1|\n",
      "+-------+-------------------+\n",
      "\n",
      "+-------+-----------------+\n",
      "|summary|              age|\n",
      "+-------+-----------------+\n",
      "|  count|             4238|\n",
      "|   mean|49.58494572911751|\n",
      "| stddev|8.572159925118484|\n",
      "|    min|               32|\n",
      "|    max|               70|\n",
      "+-------+-----------------+\n",
      "\n",
      "+-------+------------------+\n",
      "|summary|         education|\n",
      "+-------+------------------+\n",
      "|  count|              4238|\n",
      "|   mean|1.9789499153157513|\n",
      "| stddev|1.0197906893122037|\n",
      "|    min|                 1|\n",
      "|    max|                NA|\n",
      "+-------+------------------+\n",
      "\n",
      "+-------+-------------------+\n",
      "|summary|      currentSmoker|\n",
      "+-------+-------------------+\n",
      "|  count|               4238|\n",
      "|   mean|0.49410099103350635|\n",
      "| stddev| 0.5000241969070374|\n",
      "|    min|                  0|\n",
      "|    max|                  1|\n",
      "+-------+-------------------+\n",
      "\n",
      "+-------+------------------+\n",
      "|summary|        cigsPerDay|\n",
      "+-------+------------------+\n",
      "|  count|              4238|\n",
      "|   mean| 9.003088619624615|\n",
      "| stddev|11.920093587827756|\n",
      "|    min|                 0|\n",
      "|    max|                NA|\n",
      "+-------+------------------+\n",
      "\n",
      "+-------+-------------------+\n",
      "|summary|             BPMeds|\n",
      "+-------+-------------------+\n",
      "|  count|               4238|\n",
      "|   mean|0.02962962962962963|\n",
      "| stddev|0.16958356790200058|\n",
      "|    min|                  0|\n",
      "|    max|                 NA|\n",
      "+-------+-------------------+\n",
      "\n",
      "+-------+--------------------+\n",
      "|summary|     prevalentStroke|\n",
      "+-------+--------------------+\n",
      "|  count|                4238|\n",
      "|   mean|0.005899008966493629|\n",
      "| stddev| 0.07658717064585814|\n",
      "|    min|                   0|\n",
      "|    max|                   1|\n",
      "+-------+--------------------+\n",
      "\n",
      "+-------+-------------------+\n",
      "|summary|       prevalentHyp|\n",
      "+-------+-------------------+\n",
      "|  count|               4238|\n",
      "|   mean|0.31052383199622463|\n",
      "| stddev|0.46276269567370154|\n",
      "|    min|                  0|\n",
      "|    max|                  1|\n",
      "+-------+-------------------+\n",
      "\n",
      "+-------+--------------------+\n",
      "|summary|            diabetes|\n",
      "+-------+--------------------+\n",
      "|  count|                4238|\n",
      "|   mean|0.025719679093912224|\n",
      "| stddev| 0.15831642786899564|\n",
      "|    min|                   0|\n",
      "|    max|                   1|\n",
      "+-------+--------------------+\n",
      "\n",
      "+-------+------------------+\n",
      "|summary|           totChol|\n",
      "+-------+------------------+\n",
      "|  count|              4238|\n",
      "|   mean|236.72158548233045|\n",
      "| stddev|44.590334318749456|\n",
      "|    min|               107|\n",
      "|    max|                NA|\n",
      "+-------+------------------+\n",
      "\n",
      "+-------+------------------+\n",
      "|summary|             sysBP|\n",
      "+-------+------------------+\n",
      "|  count|              4238|\n",
      "|   mean|132.35240679565834|\n",
      "| stddev|22.038096643544563|\n",
      "|    min|              83.5|\n",
      "|    max|             295.0|\n",
      "+-------+------------------+\n",
      "\n",
      "+-------+------------------+\n",
      "|summary|             diaBP|\n",
      "+-------+------------------+\n",
      "|  count|              4238|\n",
      "|   mean| 82.89346389806512|\n",
      "| stddev|11.910849600225525|\n",
      "|    min|              48.0|\n",
      "|    max|             142.5|\n",
      "+-------+------------------+\n",
      "\n",
      "+-------+-----------------+\n",
      "|summary|              BMI|\n",
      "+-------+-----------------+\n",
      "|  count|             4238|\n",
      "|   mean|25.80200758473571|\n",
      "| stddev|4.080111062409031|\n",
      "|    min|            15.54|\n",
      "|    max|               NA|\n",
      "+-------+-----------------+\n",
      "\n",
      "+-------+------------------+\n",
      "|summary|         heartRate|\n",
      "+-------+------------------+\n",
      "|  count|              4238|\n",
      "|   mean| 75.87892376681614|\n",
      "| stddev|12.026596351612579|\n",
      "|    min|               100|\n",
      "|    max|                NA|\n",
      "+-------+------------------+\n",
      "\n",
      "+-------+------------------+\n",
      "|summary|           glucose|\n",
      "+-------+------------------+\n",
      "|  count|              4238|\n",
      "|   mean| 81.96675324675324|\n",
      "| stddev|23.959998189237467|\n",
      "|    min|               100|\n",
      "|    max|                NA|\n",
      "+-------+------------------+\n",
      "\n",
      "+-------+------------------+\n",
      "|summary|        TenYearCHD|\n",
      "+-------+------------------+\n",
      "|  count|              4238|\n",
      "|   mean|0.1519584709768759|\n",
      "| stddev|0.3590229919902725|\n",
      "|    min|                 0|\n",
      "|    max|                 1|\n",
      "+-------+------------------+\n",
      "\n"
     ]
    }
   ],
   "source": [
    "for col in df.columns:\n",
    "    df.describe([col]).show() "
   ]
  },
  {
   "cell_type": "markdown",
   "metadata": {},
   "source": [
    "### Feature Engineering"
   ]
  },
  {
   "cell_type": "code",
   "execution_count": 8,
   "metadata": {},
   "outputs": [],
   "source": [
    "df = df.withColumn('PulsePressure', df.sysBP - df.diaBP)\n",
    "df = df.select('male', 'age', 'education', 'currentSmoker', 'cigsPerDay', 'BPMeds', 'prevalentStroke', 'prevalentHyp', 'diabetes', 'totChol', 'sysBP', 'diaBP', 'BMI', 'heartRate', 'glucose','PulsePressure', 'TenYearCHD')"
   ]
  },
  {
   "cell_type": "markdown",
   "metadata": {},
   "source": [
    "### Missing Values"
   ]
  },
  {
   "cell_type": "code",
   "execution_count": 9,
   "metadata": {},
   "outputs": [],
   "source": [
    "# replacing non-recorded values to null\n",
    "df = df.na.replace({'NA': None})\n",
    "df = df.na.replace({' ': None})"
   ]
  },
  {
   "cell_type": "code",
   "execution_count": 10,
   "metadata": {},
   "outputs": [
    {
     "name": "stdout",
     "output_type": "stream",
     "text": [
      "+----+---+---------+-------------+----------+------+---------------+------------+--------+-------+-----+-----+---+---------+-------+-------------+----------+\n",
      "|male|age|education|currentSmoker|cigsPerDay|BPMeds|prevalentStroke|prevalentHyp|diabetes|totChol|sysBP|diaBP|BMI|heartRate|glucose|PulsePressure|TenYearCHD|\n",
      "+----+---+---------+-------------+----------+------+---------------+------------+--------+-------+-----+-----+---+---------+-------+-------------+----------+\n",
      "|   0|  0|      105|            0|        29|    53|              0|           0|       0|     50|    0|    0| 19|        1|    388|            0|         0|\n",
      "+----+---+---------+-------------+----------+------+---------------+------------+--------+-------+-----+-----+---+---------+-------+-------------+----------+\n",
      "\n"
     ]
    }
   ],
   "source": [
    "# compute number of missing values\n",
    "df.agg(*[(F.count('*') - F.count(c)).alias(c)\n",
    "for c in df.columns]).show()"
   ]
  },
  {
   "cell_type": "code",
   "execution_count": 11,
   "metadata": {},
   "outputs": [
    {
     "name": "stdout",
     "output_type": "stream",
     "text": [
      "+----+---+---------+-------------+----------+------+---------------+------------+--------+-------+-----+-----+----+---------+-------+-------------+----------+\n",
      "|male|age|education|currentSmoker|cigsPerDay|BPMeds|prevalentStroke|prevalentHyp|diabetes|totChol|sysBP|diaBP| BMI|heartRate|glucose|PulsePressure|TenYearCHD|\n",
      "+----+---+---------+-------------+----------+------+---------------+------------+--------+-------+-----+-----+----+---------+-------+-------------+----------+\n",
      "|   1| 43|        4|            1|      null|     0|              0|           0|       0|    222|109.5| 69.0|25.5|       75|   null|         40.5|         0|\n",
      "+----+---+---------+-------------+----------+------+---------------+------------+--------+-------+-----+-----+----+---------+-------+-------------+----------+\n",
      "only showing top 1 row\n",
      "\n"
     ]
    }
   ],
   "source": [
    "# explore cigsPerDay null data\n",
    "df.filter(df.cigsPerDay.isNull()).show(1) # all of the null cigsPerDay are current smokers"
   ]
  },
  {
   "cell_type": "code",
   "execution_count": 12,
   "metadata": {},
   "outputs": [],
   "source": [
    "# change nulls \n",
    "df = df.fillna('2', subset=['education']) # set at average education\n",
    "df = df.fillna('9', subset=['cigsPerDay']) # all null rows are current smokers so set at average cigsPerDay\n",
    "df = df.fillna('0', subset=['BPMeds'])  # set to 0 since not recorded and mean close to 0\n",
    "df = df.fillna('236', subset=['totChol']) # set at average totChol\n",
    "df = df.fillna('25', subset=['BMI'])  # set at average totChol\n",
    "df = df.fillna('75', subset=['heartRate']) # set at average heartRate\n",
    "df = df.fillna('81', subset=['glucose']) # set at average glucose"
   ]
  },
  {
   "cell_type": "code",
   "execution_count": 13,
   "metadata": {},
   "outputs": [],
   "source": [
    "#change column type back to int\n",
    "df = df.withColumn(\"cigsPerDay\", df[\"cigsPerDay\"].cast(IntegerType()))\n",
    "df = df.withColumn(\"BPMeds\", df[\"BPMeds\"].cast(IntegerType()))\n",
    "df = df.withColumn(\"education\", df[\"education\"].cast(IntegerType()))\n",
    "df = df.withColumn(\"totChol\", df[\"totChol\"].cast(IntegerType()))\n",
    "df = df.withColumn(\"BMI\", df[\"BMI\"].cast(IntegerType()))\n",
    "df = df.withColumn(\"heartRate\", df[\"heartRate\"].cast(IntegerType()))\n",
    "df = df.withColumn(\"glucose\", df[\"glucose\"].cast(IntegerType()))\n",
    "df = df.withColumn(\"TenYearCHD\", df[\"TenYearCHD\"].cast(DoubleType()))"
   ]
  },
  {
   "cell_type": "markdown",
   "metadata": {},
   "source": [
    "### Check for Duplicates"
   ]
  },
  {
   "cell_type": "code",
   "execution_count": 14,
   "metadata": {},
   "outputs": [
    {
     "name": "stdout",
     "output_type": "stream",
     "text": [
      "total rows = 4238\n",
      "distint rows = 4238\n"
     ]
    }
   ],
   "source": [
    "# row count\n",
    "print('total rows = {}'.format(df.count()))\n",
    "\n",
    "# distinct row count\n",
    "print('distint rows = {}'.format(df.distinct().count()))"
   ]
  },
  {
   "cell_type": "markdown",
   "metadata": {},
   "source": [
    " #### Check for Counts"
   ]
  },
  {
   "cell_type": "code",
   "execution_count": 15,
   "metadata": {},
   "outputs": [
    {
     "name": "stdout",
     "output_type": "stream",
     "text": [
      "No CHD  = 3594\n",
      "Yes CHD  = 644\n"
     ]
    }
   ],
   "source": [
    "# how many of each out come\n",
    "# how many 0\n",
    "print('No CHD  = {}'.format(df.filter(df.TenYearCHD == 0).count())) # 0 = no CHD\n",
    "print('Yes CHD  = {}'.format(df.filter(df.TenYearCHD == 1).count())) # 1 = yes CHD"
   ]
  },
  {
   "cell_type": "markdown",
   "metadata": {},
   "source": [
    "### Visualizations"
   ]
  },
  {
   "cell_type": "code",
   "execution_count": 16,
   "metadata": {},
   "outputs": [
    {
     "data": {
      "image/png": "[encoded data removed]",
      "text/plain": [
       "<Figure size 640x480 with 2 Axes>"
      ]
     },
     "metadata": {},
     "output_type": "display_data"
    }
   ],
   "source": [
    "# coorelation plot\n",
    "df_pd = df.toPandas() # using pandas for clear visualizations\n",
    "heat = sns.heatmap(df_pd.corr(),cmap=\"YlGnBu\")\n",
    "plt.show()"
   ]
  },
  {
   "cell_type": "code",
   "execution_count": 17,
   "metadata": {},
   "outputs": [
    {
     "data": {
      "image/png": "[encoded data removed]",
      "text/plain": [
       "<Figure size 2000x2000 with 17 Axes>"
      ]
     },
     "metadata": {},
     "output_type": "display_data"
    }
   ],
   "source": [
    "# distributions for each variable\n",
    "def draw_histograms(dataframe, features, rows, cols):\n",
    "    fig=plt.figure(figsize=(20,20))\n",
    "    for i, feature in enumerate(features):\n",
    "        ax=fig.add_subplot(rows,cols,i+1)\n",
    "        dataframe[feature].hist(bins=20,ax=ax,facecolor='midnightblue')\n",
    "        ax.set_title(feature+\" Distribution\",color='DarkRed')        \n",
    "    fig.tight_layout()  \n",
    "    plt.show()\n",
    "    \n",
    "draw_histograms(df_pd,df_pd.columns,6,4)"
   ]
  },
  {
   "cell_type": "code",
   "execution_count": 18,
   "metadata": {},
   "outputs": [
    {
     "data": {
      "text/html": [
       "<div>\n",
       "<style scoped>\n",
       "    .dataframe tbody tr th:only-of-type {\n",
       "        vertical-align: middle;\n",
       "    }\n",
       "\n",
       "    .dataframe tbody tr th {\n",
       "        vertical-align: top;\n",
       "    }\n",
       "\n",
       "    .dataframe thead th {\n",
       "        text-align: right;\n",
       "    }\n",
       "</style>\n",
       "<table border=\"1\" class=\"dataframe\">\n",
       "  <thead>\n",
       "    <tr style=\"text-align: right;\">\n",
       "      <th></th>\n",
       "      <th>Features</th>\n",
       "      <th>Score</th>\n",
       "    </tr>\n",
       "  </thead>\n",
       "  <tbody>\n",
       "    <tr>\n",
       "      <th>15</th>\n",
       "      <td>PulsePressure</td>\n",
       "      <td>791.204669</td>\n",
       "    </tr>\n",
       "    <tr>\n",
       "      <th>10</th>\n",
       "      <td>sysBP</td>\n",
       "      <td>728.292522</td>\n",
       "    </tr>\n",
       "    <tr>\n",
       "      <th>14</th>\n",
       "      <td>glucose</td>\n",
       "      <td>392.870029</td>\n",
       "    </tr>\n",
       "    <tr>\n",
       "      <th>1</th>\n",
       "      <td>age</td>\n",
       "      <td>318.597444</td>\n",
       "    </tr>\n",
       "    <tr>\n",
       "      <th>9</th>\n",
       "      <td>totChol</td>\n",
       "      <td>234.228268</td>\n",
       "    </tr>\n",
       "    <tr>\n",
       "      <th>4</th>\n",
       "      <td>cigsPerDay</td>\n",
       "      <td>221.680719</td>\n",
       "    </tr>\n",
       "    <tr>\n",
       "      <th>11</th>\n",
       "      <td>diaBP</td>\n",
       "      <td>153.090954</td>\n",
       "    </tr>\n",
       "    <tr>\n",
       "      <th>7</th>\n",
       "      <td>prevalentHyp</td>\n",
       "      <td>92.167857</td>\n",
       "    </tr>\n",
       "    <tr>\n",
       "      <th>8</th>\n",
       "      <td>diabetes</td>\n",
       "      <td>39.103710</td>\n",
       "    </tr>\n",
       "    <tr>\n",
       "      <th>5</th>\n",
       "      <td>BPMeds</td>\n",
       "      <td>30.723031</td>\n",
       "    </tr>\n",
       "    <tr>\n",
       "      <th>0</th>\n",
       "      <td>male</td>\n",
       "      <td>18.915212</td>\n",
       "    </tr>\n",
       "    <tr>\n",
       "      <th>6</th>\n",
       "      <td>prevalentStroke</td>\n",
       "      <td>16.095638</td>\n",
       "    </tr>\n",
       "    <tr>\n",
       "      <th>12</th>\n",
       "      <td>BMI</td>\n",
       "      <td>15.940447</td>\n",
       "    </tr>\n",
       "    <tr>\n",
       "      <th>2</th>\n",
       "      <td>education</td>\n",
       "      <td>6.186398</td>\n",
       "    </tr>\n",
       "    <tr>\n",
       "      <th>13</th>\n",
       "      <td>heartRate</td>\n",
       "      <td>4.218433</td>\n",
       "    </tr>\n",
       "    <tr>\n",
       "      <th>3</th>\n",
       "      <td>currentSmoker</td>\n",
       "      <td>0.811603</td>\n",
       "    </tr>\n",
       "  </tbody>\n",
       "</table>\n",
       "</div>"
      ],
      "text/plain": [
       "           Features       Score\n",
       "15    PulsePressure  791.204669\n",
       "10            sysBP  728.292522\n",
       "14          glucose  392.870029\n",
       "1               age  318.597444\n",
       "9           totChol  234.228268\n",
       "4        cigsPerDay  221.680719\n",
       "11            diaBP  153.090954\n",
       "7      prevalentHyp   92.167857\n",
       "8          diabetes   39.103710\n",
       "5            BPMeds   30.723031\n",
       "0              male   18.915212\n",
       "6   prevalentStroke   16.095638\n",
       "12              BMI   15.940447\n",
       "2         education    6.186398\n",
       "13        heartRate    4.218433\n",
       "3     currentSmoker    0.811603"
      ]
     },
     "execution_count": 18,
     "metadata": {},
     "output_type": "execute_result"
    }
   ],
   "source": [
    "###### measuring variable importance to TenYearCHD\n",
    "from sklearn.feature_selection import SelectKBest, f_classif, chi2\n",
    "X = df_pd.iloc[:,0:16]\n",
    "y = df_pd.iloc[:,-1]  \n",
    "\n",
    "bestfeatures = SelectKBest(score_func=chi2)\n",
    "best_fit = bestfeatures.fit(X,y)\n",
    "dfscores = pd.DataFrame(best_fit.scores_)\n",
    "dfcolumns = pd.DataFrame(X.columns)\n",
    "\n",
    "featureScores = pd.concat([dfcolumns,dfscores],axis=1)\n",
    "featureScores.columns = ['Features','Score']  \n",
    "featureScores.sort_values('Score', ascending=False)"
   ]
  },
  {
   "cell_type": "markdown",
   "metadata": {},
   "source": [
    "# Modeling"
   ]
  },
  {
   "cell_type": "markdown",
   "metadata": {},
   "source": [
    "### Benchmark Model: Logistic Regression (All Features)"
   ]
  },
  {
   "cell_type": "code",
   "execution_count": 19,
   "metadata": {},
   "outputs": [],
   "source": [
    "#define columns to keep/drop for baseline\n",
    "dont_want_bench = [\"TenYearCHD\"]\n",
    "vars_keep_bench = [x for x in df.columns if x not in dont_want_bench]\n",
    "train_test = [0.8, 0.2]\n",
    "\n",
    "train_data, test_data = df.randomSplit(train_test, seed=314)\n",
    "models_used1 = [\"Log Reg\"]\n",
    "metrics_cv_base= pd.DataFrame(index= models_used1, columns=['Accuracy','auroc', 'Precision', 'F1', 'Recall', 'Run Time'])"
   ]
  },
  {
   "cell_type": "code",
   "execution_count": 20,
   "metadata": {},
   "outputs": [
    {
     "name": "stdout",
     "output_type": "stream",
     "text": [
      "[[747.   3.]\n",
      " [104.  12.]]\n",
      "Accuracy : 87.64434180138568%\n",
      "train time: 7.463578939437866\n"
     ]
    }
   ],
   "source": [
    "from pyspark.ml.feature import VectorAssembler\n",
    "from pyspark.ml.feature import StandardScaler\n",
    "from pyspark.ml.classification import LogisticRegression\n",
    "from pyspark.ml import Pipeline  \n",
    "from pyspark.ml.feature import * \n",
    "from pyspark.ml.evaluation import BinaryClassificationEvaluator\n",
    "from pyspark.ml.evaluation import MulticlassClassificationEvaluator\n",
    "from pyspark.ml.tuning import CrossValidator, ParamGridBuilder\n",
    "from pyspark.mllib.evaluation import BinaryClassificationMetrics, MulticlassMetrics\n",
    "\n",
    "#logreg baseline model with top 3 variables\n",
    "#vector assembler\n",
    "va = VectorAssembler(inputCols=[x for x in df.columns if x in vars_keep_bench], outputCol=\"features\")\n",
    "\n",
    "# Initialize the `standardScaler`\n",
    "standardScaler = StandardScaler(inputCol=\"features\", outputCol=\"features_scaled\", withStd=True, withMean=False)\n",
    "\n",
    "#model\n",
    "lr = LogisticRegression(labelCol='TenYearCHD')\n",
    "\n",
    "#pipeline\n",
    "pipe1 = Pipeline(stages=[va,standardScaler,lr])\n",
    "\n",
    "# establish evaluator to use with cv\n",
    "evalbinary = BinaryClassificationEvaluator().setRawPredictionCol(\"prediction\")\\\n",
    "                        .setLabelCol(\"TenYearCHD\").setMetricName(\"areaUnderROC\")\n",
    "#time \n",
    "import time\n",
    "t0 = time.time()\n",
    "\n",
    "# Fit the pipeline\n",
    "model_bench = pipe1.fit(train_data)\n",
    "\n",
    "# Make predictions\n",
    "predictions_bench = model_bench.transform(test_data)\n",
    "\n",
    "#prepare to convert to RDD\n",
    "predict_RDD_bench = predictions_bench.select(['TenYearCHD', 'prediction'])\n",
    "\n",
    "#extract auroc from binary\n",
    "auroc_bench = evalbinary.setMetricName(\"areaUnderROC\").evaluate(predict_RDD_bench)\n",
    "\n",
    "#multiclass evaluator \n",
    "evaluatorm1 = MulticlassClassificationEvaluator(\n",
    "    labelCol=\"TenYearCHD\", predictionCol=\"prediction\")\n",
    "\n",
    "#multiclass metrics\n",
    "precision_bench = evaluatorm1.setMetricName(\"weightedPrecision\").evaluate(predict_RDD_bench)\n",
    "accuracy_bench = evaluatorm1.setMetricName(\"accuracy\").evaluate(predict_RDD_bench)\n",
    "f1_bench = evaluatorm1.setMetricName(\"f1\").evaluate(predict_RDD_bench)\n",
    "recall_bench = evaluatorm1.setMetricName(\"recallByLabel\").evaluate(predict_RDD_bench)\n",
    "\n",
    "#add to metrics df\n",
    "metrics_cv_base['auroc'].loc[\"Log Reg\"] =  auroc_bench\n",
    "metrics_cv_base['Accuracy'].loc[\"Log Reg\"] = accuracy_bench * 100\n",
    "metrics_cv_base['Precision'].loc[\"Log Reg\"] = precision_bench\n",
    "metrics_cv_base['F1'].loc[\"Log Reg\"] = f1_bench \n",
    "metrics_cv_base['Recall'].loc[\"Log Reg\"] = recall_bench\n",
    "\n",
    "#confusion matrix\n",
    "multi_bench = MulticlassMetrics(predict_RDD_bench.rdd.map(lambda line: (line[1], line[0])))\n",
    "print(multi_bench.confusionMatrix().toArray())\n",
    "\n",
    "#time\n",
    "time_bench = time.time() - t0\n",
    "metrics_cv_base['Run Time'].loc[\"Log Reg\"] = time_bench \n",
    "\n",
    "\n",
    "print(\"Accuracy : \" + str(accuracy_bench*100) + \"%\")\n",
    "print(\"train time:\", time_bench )"
   ]
  },
  {
   "cell_type": "markdown",
   "metadata": {},
   "source": [
    "### Benchmark Results"
   ]
  },
  {
   "cell_type": "code",
   "execution_count": 21,
   "metadata": {},
   "outputs": [
    {
     "data": {
      "text/html": [
       "<div>\n",
       "<style scoped>\n",
       "    .dataframe tbody tr th:only-of-type {\n",
       "        vertical-align: middle;\n",
       "    }\n",
       "\n",
       "    .dataframe tbody tr th {\n",
       "        vertical-align: top;\n",
       "    }\n",
       "\n",
       "    .dataframe thead th {\n",
       "        text-align: right;\n",
       "    }\n",
       "</style>\n",
       "<table border=\"1\" class=\"dataframe\">\n",
       "  <thead>\n",
       "    <tr style=\"text-align: right;\">\n",
       "      <th></th>\n",
       "      <th>Accuracy</th>\n",
       "      <th>auroc</th>\n",
       "      <th>Precision</th>\n",
       "      <th>F1</th>\n",
       "      <th>Recall</th>\n",
       "      <th>Run Time</th>\n",
       "    </tr>\n",
       "  </thead>\n",
       "  <tbody>\n",
       "    <tr>\n",
       "      <th>Log Reg</th>\n",
       "      <td>87.6443</td>\n",
       "      <td>0.549724</td>\n",
       "      <td>0.867371</td>\n",
       "      <td>0.83271</td>\n",
       "      <td>0.996</td>\n",
       "      <td>7.46358</td>\n",
       "    </tr>\n",
       "  </tbody>\n",
       "</table>\n",
       "</div>"
      ],
      "text/plain": [
       "        Accuracy     auroc Precision       F1 Recall Run Time\n",
       "Log Reg  87.6443  0.549724  0.867371  0.83271  0.996  7.46358"
      ]
     },
     "execution_count": 21,
     "metadata": {},
     "output_type": "execute_result"
    }
   ],
   "source": [
    "metrics_cv_base"
   ]
  },
  {
   "cell_type": "markdown",
   "metadata": {},
   "source": [
    "## All Features"
   ]
  },
  {
   "cell_type": "code",
   "execution_count": 22,
   "metadata": {},
   "outputs": [],
   "source": [
    "vars_keep = [x for x in df.columns if x != \"TenYearCHD\"]"
   ]
  },
  {
   "cell_type": "code",
   "execution_count": 23,
   "metadata": {},
   "outputs": [],
   "source": [
    "models_used = [\"Log Reg\",\"Random Forest\", \"Decision Tree\", \"Gradient Boosted\"]\n",
    "metrics_cv = pd.DataFrame(index= models_used,columns=['Accuracy','auroc', 'Precision', 'F1', 'Recall', 'Run Time'])"
   ]
  },
  {
   "cell_type": "markdown",
   "metadata": {},
   "source": [
    "### Logistic Regression"
   ]
  },
  {
   "cell_type": "code",
   "execution_count": 24,
   "metadata": {},
   "outputs": [
    {
     "name": "stdout",
     "output_type": "stream",
     "text": [
      "[[745.   5.]\n",
      " [109.   7.]]\n",
      "Accuracy : 86.83602771362587%\n"
     ]
    }
   ],
   "source": [
    "#vector assembler\n",
    "va = VectorAssembler(inputCols=[x for x in df.columns if x in vars_keep], outputCol=\"features\")\n",
    "\n",
    "# Initialize the `standardScaler`\n",
    "standardScaler = StandardScaler(inputCol=\"features\", outputCol=\"features_scaled\", withStd=True, withMean=False)\n",
    "\n",
    "#model\n",
    "lr = LogisticRegression(labelCol='TenYearCHD')\n",
    "\n",
    "#pipeline\n",
    "pipe1 = Pipeline(stages=[va,standardScaler,lr])\n",
    "\n",
    "# establish evaluator to use with cv\n",
    "evalbinary = BinaryClassificationEvaluator().setRawPredictionCol(\"prediction\")\\\n",
    "                        .setLabelCol(\"TenYearCHD\").setMetricName(\"areaUnderROC\")\n",
    "\n",
    "#create paramGrid\n",
    "paramGrid = ParamGridBuilder() \\\n",
    "    .addGrid(lr.regParam, [0.0001,0.001, 0.01, 0.1, 0.5, 1.0]) \\\n",
    "    .addGrid(lr.maxIter, [1, 5, 10, 15]) \\\n",
    "    .build()\n",
    "\n",
    "#time \n",
    "import time\n",
    "t0 = time.time()\n",
    "\n",
    "#cv\n",
    "cv_lr = CrossValidator(estimator=pipe1,\n",
    "                          estimatorParamMaps=paramGrid,\n",
    "                          evaluator=evalbinary,\n",
    "                          numFolds=5,\n",
    "                          seed = 314)\n",
    "# Fit the pipeline\n",
    "model_lr = cv_lr.setParallelism(4).fit(train_data)\n",
    "\n",
    "#bestmod\n",
    "bestmod_lr = model_lr.bestModel\n",
    "\n",
    "# Make predictions\n",
    "predictions_lr = bestmod_lr.transform(test_data)\n",
    "\n",
    "#prepare to convert to RDD\n",
    "predict_RDD_lr = predictions_lr.select(['TenYearCHD', 'prediction'])\n",
    "\n",
    "#extract auroc from binary\n",
    "auroc_lr = evalbinary.setMetricName(\"areaUnderROC\").evaluate(predict_RDD_lr)\n",
    "\n",
    "#multiclass evaluator \n",
    "evaluatorm = MulticlassClassificationEvaluator(\n",
    "    labelCol=\"TenYearCHD\", predictionCol=\"prediction\")\n",
    "\n",
    "#multiclass metri s\n",
    "precision_lr = evaluatorm.setMetricName(\"weightedPrecision\").evaluate(predict_RDD_lr)\n",
    "accuracy_lr = evaluatorm.setMetricName(\"accuracy\").evaluate(predict_RDD_lr)\n",
    "f1_lr = evaluatorm.setMetricName(\"f1\").evaluate(predict_RDD_lr)\n",
    "recall_lr = evaluatorm.setMetricName(\"recallByLabel\").evaluate(predict_RDD_lr)\n",
    "\n",
    "#add to metrics df\n",
    "metrics_cv['auroc'].loc[\"Log Reg\"] =  auroc_lr \n",
    "metrics_cv['Accuracy'].loc[\"Log Reg\"] = accuracy_lr * 100\n",
    "metrics_cv['Precision'].loc[\"Log Reg\"] = precision_lr \n",
    "metrics_cv['F1'].loc[\"Log Reg\"] = f1_lr \n",
    "metrics_cv['Recall'].loc[\"Log Reg\"] = recall_lr \n",
    "\n",
    "#time\n",
    "time_lr = time.time() - t0\n",
    "metrics_cv['Run Time'].loc[\"Log Reg\"] = time_lr \n",
    "\n",
    "#confusion matrix\n",
    "multi_lr = MulticlassMetrics(predict_RDD_lr.rdd.map(lambda line: (line[1], line[0])))\n",
    "print(multi_lr.confusionMatrix().toArray())\n",
    "\n",
    "print(\"Accuracy : \" + str(accuracy_lr*100) + \"%\")"
   ]
  },
  {
   "cell_type": "markdown",
   "metadata": {},
   "source": [
    "##### Best Model Parameters"
   ]
  },
  {
   "cell_type": "code",
   "execution_count": 25,
   "metadata": {},
   "outputs": [
    {
     "name": "stdout",
     "output_type": "stream",
     "text": [
      "Best Param - RegParam:  0.0001\n",
      "Best Param - MaxIter:  5\n"
     ]
    }
   ],
   "source": [
    "print('Best Param - RegParam: ', bestmod_lr.stages[-1]._java_obj.getRegParam())\n",
    "print('Best Param - MaxIter: ', bestmod_lr.stages[-1]._java_obj.getMaxIter())"
   ]
  },
  {
   "cell_type": "markdown",
   "metadata": {},
   "source": [
    "### Random Forest"
   ]
  },
  {
   "cell_type": "code",
   "execution_count": 26,
   "metadata": {},
   "outputs": [
    {
     "name": "stdout",
     "output_type": "stream",
     "text": [
      "[[749.   1.]\n",
      " [115.   1.]]\n",
      "Accuracy : 86.60508083140877%\n"
     ]
    }
   ],
   "source": [
    "from pyspark.ml.classification import RandomForestClassifier\n",
    "\n",
    "#vector assembler\n",
    "va = VectorAssembler(inputCols=[x for x in df.columns if x in vars_keep], outputCol=\"features\")\n",
    "\n",
    "# Initialize the `standardScaler`\n",
    "standardScaler = StandardScaler(inputCol=\"features\", outputCol=\"features_scaled\", withStd=True, withMean=False)\n",
    "\n",
    "#model\n",
    "rf = RandomForestClassifier(labelCol='TenYearCHD')\n",
    "\n",
    "#pipeline stages\n",
    "pipe2 = Pipeline(stages=[va, standardScaler,rf])\n",
    "\n",
    "# establish evaluator to use with cv\n",
    "evalbinary = BinaryClassificationEvaluator().setRawPredictionCol(\"prediction\")\\\n",
    "                        .setLabelCol(\"TenYearCHD\").setMetricName(\"areaUnderROC\")\n",
    "\n",
    "#create paramGrid\n",
    "paramGrid = ParamGridBuilder() \\\n",
    "    .addGrid(rf.numTrees, [5,10,15,20])  \\\n",
    "    .build()\n",
    "\n",
    "#time \n",
    "import time\n",
    "t0 = time.time()\n",
    "\n",
    "#cv\n",
    "cv_rf = CrossValidator(estimator=pipe2,\n",
    "                          estimatorParamMaps=paramGrid,\n",
    "                          evaluator=evalbinary,\n",
    "                          numFolds=5,\n",
    "                          seed = 314)\n",
    "\n",
    "# Fit the pipeline\n",
    "model_rf = cv_rf.setParallelism(4).fit(train_data)\n",
    "\n",
    "#bestmod\n",
    "bestmod_rf = model_rf.bestModel\n",
    "\n",
    "# Make predictions\n",
    "predictions_rf = bestmod_rf.transform(test_data)\n",
    "\n",
    "#prepare to convert to RDD\n",
    "predict_RDD_rf = predictions_rf.select(['TenYearCHD', 'prediction'])\n",
    "\n",
    "#extract auroc\n",
    "auroc_rf = evalbinary.setMetricName(\"areaUnderROC\").evaluate(predict_RDD_rf)\n",
    "\n",
    "#multiclass evaluator \n",
    "evaluatorm = MulticlassClassificationEvaluator(\n",
    "    labelCol=\"TenYearCHD\", predictionCol=\"prediction\")\n",
    "\n",
    "#multiclass metrics\n",
    "precision_rf = evaluatorm.setMetricName(\"weightedPrecision\").evaluate(predict_RDD_rf)\n",
    "accuracy_rf = evaluatorm.setMetricName(\"accuracy\").evaluate(predict_RDD_rf)\n",
    "f1_rf = evaluatorm.setMetricName(\"f1\").evaluate(predict_RDD_rf)\n",
    "recall_rf = evaluatorm.setMetricName(\"recallByLabel\").evaluate(predict_RDD_rf)\n",
    "\n",
    "#add to metrics df\n",
    "metrics_cv['auroc'].loc[\"Random Forest\"] = auroc_rf\n",
    "metrics_cv['Accuracy'].loc[\"Random Forest\"] = accuracy_rf*100\n",
    "metrics_cv['Precision'].loc[\"Random Forest\"] = precision_rf\n",
    "metrics_cv['F1'].loc[\"Random Forest\"] = f1_rf\n",
    "metrics_cv['Recall'].loc[\"Random Forest\"] = recall_rf\n",
    "\n",
    "#time\n",
    "time_rf = time.time() - t0\n",
    "metrics_cv['Run Time'].loc[\"Random Forest\"] = time_rf \n",
    "\n",
    "#confusion matrix\n",
    "multi_rf = MulticlassMetrics(predict_RDD_rf.rdd.map(lambda line: (line[1], line[0])))\n",
    "print(multi_rf.confusionMatrix().toArray())\n",
    "\n",
    "print(\"Accuracy : \" + str(accuracy_rf*100) + \"%\")"
   ]
  },
  {
   "cell_type": "markdown",
   "metadata": {},
   "source": [
    "#### Best Model Parameters"
   ]
  },
  {
   "cell_type": "code",
   "execution_count": 27,
   "metadata": {},
   "outputs": [
    {
     "name": "stdout",
     "output_type": "stream",
     "text": [
      "Best Param - Num Trees:  10\n"
     ]
    }
   ],
   "source": [
    "print('Best Param - Num Trees: ', bestmod_rf.stages[-1]._java_obj.getNumTrees())"
   ]
  },
  {
   "cell_type": "markdown",
   "metadata": {},
   "source": [
    "### Decision Tree"
   ]
  },
  {
   "cell_type": "code",
   "execution_count": 28,
   "metadata": {},
   "outputs": [
    {
     "name": "stdout",
     "output_type": "stream",
     "text": [
      "[[750.   0.]\n",
      " [116.   0.]]\n",
      "Accuracy : 86.60508083140877%\n"
     ]
    }
   ],
   "source": [
    "from pyspark.ml.classification import DecisionTreeClassifier\n",
    "#vector assembler\n",
    "va = VectorAssembler(inputCols=[x for x in df.columns if x in vars_keep], outputCol=\"features\")\n",
    "\n",
    "# Initialize the `standardScaler`\n",
    "standardScaler = StandardScaler(inputCol=\"features\", outputCol=\"features_scaled\", withStd=True, withMean=False)\n",
    "\n",
    "#model\n",
    "dt = DecisionTreeClassifier(labelCol='TenYearCHD')\n",
    "\n",
    "#pipeline stages\n",
    "pipe3 = Pipeline(stages=[va, standardScaler,dt])\n",
    "\n",
    "# establish evaluator to use with cv\n",
    "evalbinary = BinaryClassificationEvaluator().setRawPredictionCol(\"prediction\")\\\n",
    "                        .setLabelCol(\"TenYearCHD\").setMetricName(\"areaUnderROC\")\n",
    "\n",
    "#create paramGrid\n",
    "paramGrid = ParamGridBuilder().addGrid(dt.maxDepth, [2, 5, 10, 20, 30])\\\n",
    "             .build()\n",
    "\n",
    "#time \n",
    "import time\n",
    "t0 = time.time()\n",
    "\n",
    "#cv\n",
    "cv_dt = CrossValidator(estimator=pipe2,\n",
    "                          estimatorParamMaps=paramGrid,\n",
    "                          evaluator=evalbinary,\n",
    "                          numFolds=5,\n",
    "                          seed = 314)\n",
    "\n",
    "# Fit the pipeline\n",
    "model_dt = cv_dt.setParallelism(4).fit(train_data)\n",
    "\n",
    "#bestmod\n",
    "bestmod_dt = model_dt.bestModel\n",
    "\n",
    "# Make predictions\n",
    "predictions_dt = bestmod_dt.transform(test_data)\n",
    "\n",
    "#prepare to convert to RDD\n",
    "predict_RDD_dt = predictions_dt.select(['TenYearCHD', 'prediction'])\n",
    "\n",
    "#extract auroc\n",
    "auroc_dt = evalbinary.setMetricName(\"areaUnderROC\").evaluate(predict_RDD_dt)\n",
    "\n",
    "#multiclass evaluator \n",
    "evaluatorm = MulticlassClassificationEvaluator(\n",
    "    labelCol=\"TenYearCHD\", predictionCol=\"prediction\")\n",
    "\n",
    "#multiclass metrics\n",
    "precision_dt = evaluatorm.setMetricName(\"weightedPrecision\").evaluate(predict_RDD_dt)\n",
    "accuracy_dt = evaluatorm.setMetricName(\"accuracy\").evaluate(predict_RDD_dt)\n",
    "f1_dt = evaluatorm.setMetricName(\"f1\").evaluate(predict_RDD_dt)\n",
    "recall_dt = evaluatorm.setMetricName(\"recallByLabel\").evaluate(predict_RDD_dt)\n",
    "\n",
    "#add to metrics df\n",
    "metrics_cv['auroc'].loc[\"Decision Tree\"] = auroc_dt\n",
    "metrics_cv['Accuracy'].loc[\"Decision Tree\"] = accuracy_dt*100\n",
    "metrics_cv['Precision'].loc[\"Decision Tree\"] = precision_dt\n",
    "metrics_cv['F1'].loc[\"Decision Tree\"] = f1_dt\n",
    "metrics_cv['Recall'].loc[\"Decision Tree\"] = recall_dt\n",
    "\n",
    "\n",
    "#time\n",
    "time_dt = time.time() - t0\n",
    "metrics_cv['Run Time'].loc[\"Decision Tree\"] = time_dt\n",
    "\n",
    "\n",
    "#confusion matrix\n",
    "multi_dt = MulticlassMetrics(predict_RDD_dt.rdd.map(lambda line: (line[1], line[0])))\n",
    "print(multi_dt.confusionMatrix().toArray())\n",
    "\n",
    "print(\"Accuracy : \" + str(accuracy_dt*100) + \"%\")"
   ]
  },
  {
   "cell_type": "markdown",
   "metadata": {},
   "source": [
    "#### Best Model Parameters"
   ]
  },
  {
   "cell_type": "code",
   "execution_count": 29,
   "metadata": {},
   "outputs": [
    {
     "name": "stdout",
     "output_type": "stream",
     "text": [
      "Best Param - MaxDepth:  5\n"
     ]
    }
   ],
   "source": [
    "print('Best Param - MaxDepth: ', bestmod_dt.stages[-1]._java_obj.getMaxDepth())"
   ]
  },
  {
   "cell_type": "markdown",
   "metadata": {},
   "source": [
    "### Gradient Boost Tree"
   ]
  },
  {
   "cell_type": "code",
   "execution_count": 30,
   "metadata": {},
   "outputs": [
    {
     "name": "stdout",
     "output_type": "stream",
     "text": [
      "[[669.  81.]\n",
      " [ 94.  22.]]\n",
      "Accuracy : 79.79214780600462%\n"
     ]
    }
   ],
   "source": [
    "from pyspark.ml.classification import GBTClassifier\n",
    "\n",
    "#vector assembler\n",
    "va = VectorAssembler(inputCols=[x for x in df.columns if x in vars_keep], outputCol=\"features\")\n",
    "\n",
    "# Initialize the `standardScaler`\n",
    "standardScaler = StandardScaler(inputCol=\"features\", outputCol=\"features_scaled\", withStd=True, withMean=False)\n",
    "\n",
    "#model\n",
    "gb = GBTClassifier(labelCol='TenYearCHD')\n",
    "\n",
    "#pipeline stages\n",
    "pipe4 = Pipeline(stages=[va,standardScaler,gb])\n",
    "\n",
    "# establish evaluator to use with cv\n",
    "evalbinary = BinaryClassificationEvaluator().setRawPredictionCol(\"prediction\")\\\n",
    "                        .setLabelCol(\"TenYearCHD\").setMetricName(\"areaUnderROC\")\n",
    "\n",
    "#create paramGrid\n",
    "paramGrid = ParamGridBuilder().addGrid(gb.maxDepth, [2, 5, 10])\\\n",
    "             .addGrid(gb.maxBins, [10,15,20])\\\n",
    "             .addGrid(gb.maxIter, [1,5,10,15])\\\n",
    "             .build()\n",
    "\n",
    "#time \n",
    "import time\n",
    "t0 = time.time()\n",
    "\n",
    "#cv\n",
    "cv_gb = CrossValidator(estimator=pipe4,\n",
    "                          estimatorParamMaps=paramGrid,\n",
    "                          evaluator=evalbinary,\n",
    "                          numFolds=5,\n",
    "                          seed = 314)\n",
    "\n",
    "# Fit the pipeline\n",
    "model_gb = cv_gb.setParallelism(8).fit(train_data)\n",
    "\n",
    "#bestmod\n",
    "bestmod_gb = model_gb.bestModel\n",
    "\n",
    "# Make predictions\n",
    "predictions_gb = bestmod_gb.transform(test_data)\n",
    "\n",
    "#prepare to convert to RDD\n",
    "predict_RDD_gb = predictions_gb.select(['TenYearCHD', 'prediction'])\n",
    "\n",
    "#extract auroc\n",
    "auroc_gb = evalbinary.setMetricName(\"areaUnderROC\").evaluate(predict_RDD_gb)\n",
    "\n",
    "#multiclass evaluator \n",
    "evaluatorm = MulticlassClassificationEvaluator(\n",
    "    labelCol=\"TenYearCHD\", predictionCol=\"prediction\")\n",
    "\n",
    "#multiclass metrics\n",
    "precision_gb = evaluatorm.setMetricName(\"weightedPrecision\").evaluate(predict_RDD_gb)\n",
    "accuracy_gb = evaluatorm.setMetricName(\"accuracy\").evaluate(predict_RDD_gb)\n",
    "f1_gb = evaluatorm.setMetricName(\"f1\").evaluate(predict_RDD_gb)\n",
    "recall_gb = evaluatorm.setMetricName(\"recallByLabel\").evaluate(predict_RDD_gb)\n",
    "\n",
    "#add to metrics df\n",
    "metrics_cv['auroc'].loc[\"Gradient Boosted\"] = auroc_gb\n",
    "metrics_cv['Accuracy'].loc[\"Gradient Boosted\"] = accuracy_gb*100\n",
    "metrics_cv['Precision'].loc[\"Gradient Boosted\"] = precision_gb\n",
    "metrics_cv['F1'].loc[\"Gradient Boosted\"] = f1_gb\n",
    "metrics_cv['Recall'].loc[\"Gradient Boosted\"] = recall_gb\n",
    "\n",
    "#time\n",
    "time_gb = time.time() - t0\n",
    "metrics_cv['Run Time'].loc[\"Gradient Boosted\"] = time_gb\n",
    "\n",
    "#confusion matrix\n",
    "multi_gb = MulticlassMetrics(predict_RDD_gb.rdd.map(lambda line: (line[1], line[0])))\n",
    "print(multi_gb.confusionMatrix().toArray())\n",
    "\n",
    "print(\"Accuracy : \" + str(accuracy_gb*100) + \"%\")"
   ]
  },
  {
   "cell_type": "markdown",
   "metadata": {},
   "source": [
    "#### Best Model Parameters"
   ]
  },
  {
   "cell_type": "code",
   "execution_count": 31,
   "metadata": {},
   "outputs": [
    {
     "name": "stdout",
     "output_type": "stream",
     "text": [
      "Best Param - MaxDepth:  10\n",
      "Best Param - MaxBins:  10\n",
      "Best Param - MaxIter:  10\n"
     ]
    }
   ],
   "source": [
    "print('Best Param - MaxDepth: ', bestmod_gb.stages[-1]._java_obj.getMaxDepth())\n",
    "print('Best Param - MaxBins: ', bestmod_gb.stages[-1]._java_obj.getMaxBins())\n",
    "print('Best Param - MaxIter: ', bestmod_gb.stages[-1]._java_obj.getMaxIter())"
   ]
  },
  {
   "cell_type": "markdown",
   "metadata": {},
   "source": [
    "### Results using all variables"
   ]
  },
  {
   "cell_type": "code",
   "execution_count": 32,
   "metadata": {},
   "outputs": [
    {
     "data": {
      "text/html": [
       "<div>\n",
       "<style scoped>\n",
       "    .dataframe tbody tr th:only-of-type {\n",
       "        vertical-align: middle;\n",
       "    }\n",
       "\n",
       "    .dataframe tbody tr th {\n",
       "        vertical-align: top;\n",
       "    }\n",
       "\n",
       "    .dataframe thead th {\n",
       "        text-align: right;\n",
       "    }\n",
       "</style>\n",
       "<table border=\"1\" class=\"dataframe\">\n",
       "  <thead>\n",
       "    <tr style=\"text-align: right;\">\n",
       "      <th></th>\n",
       "      <th>Accuracy</th>\n",
       "      <th>auroc</th>\n",
       "      <th>Precision</th>\n",
       "      <th>F1</th>\n",
       "      <th>Recall</th>\n",
       "      <th>Run Time</th>\n",
       "    </tr>\n",
       "  </thead>\n",
       "  <tbody>\n",
       "    <tr>\n",
       "      <th>Log Reg</th>\n",
       "      <td>86.836</td>\n",
       "      <td>0.526839</td>\n",
       "      <td>0.83365</td>\n",
       "      <td>0.819149</td>\n",
       "      <td>0.993333</td>\n",
       "      <td>38.8987</td>\n",
       "    </tr>\n",
       "    <tr>\n",
       "      <th>Random Forest</th>\n",
       "      <td>86.6051</td>\n",
       "      <td>0.503644</td>\n",
       "      <td>0.817752</td>\n",
       "      <td>0.806077</td>\n",
       "      <td>0.998667</td>\n",
       "      <td>10.2891</td>\n",
       "    </tr>\n",
       "    <tr>\n",
       "      <th>Decision Tree</th>\n",
       "      <td>86.6051</td>\n",
       "      <td>0.5</td>\n",
       "      <td>0.750044</td>\n",
       "      <td>0.803884</td>\n",
       "      <td>1</td>\n",
       "      <td>14.4648</td>\n",
       "    </tr>\n",
       "    <tr>\n",
       "      <th>Gradient Boosted</th>\n",
       "      <td>79.7921</td>\n",
       "      <td>0.540828</td>\n",
       "      <td>0.787966</td>\n",
       "      <td>0.792792</td>\n",
       "      <td>0.892</td>\n",
       "      <td>134.904</td>\n",
       "    </tr>\n",
       "  </tbody>\n",
       "</table>\n",
       "</div>"
      ],
      "text/plain": [
       "                 Accuracy     auroc Precision        F1    Recall Run Time\n",
       "Log Reg            86.836  0.526839   0.83365  0.819149  0.993333  38.8987\n",
       "Random Forest     86.6051  0.503644  0.817752  0.806077  0.998667  10.2891\n",
       "Decision Tree     86.6051       0.5  0.750044  0.803884         1  14.4648\n",
       "Gradient Boosted  79.7921  0.540828  0.787966  0.792792     0.892  134.904"
      ]
     },
     "execution_count": 32,
     "metadata": {},
     "output_type": "execute_result"
    }
   ],
   "source": [
    "metrics_cv"
   ]
  },
  {
   "cell_type": "markdown",
   "metadata": {},
   "source": [
    "## Drop variables: All Features with Importance <100"
   ]
  },
  {
   "cell_type": "code",
   "execution_count": 33,
   "metadata": {},
   "outputs": [],
   "source": [
    "#define columns to keep\n",
    "dont_want = [\"TenYearCHD\", \"prevalentHyp\", \"heartrate\", \"education\", 'diabetes', 'BPMeds', 'male','prevalentStroke',\"BMI\",'currentSmoker']\n",
    "vars_keep2 = [x for x in df.columns if x not in dont_want]\n",
    "\n",
    "models_used = [\"Log Reg\",\"Random Forest\", \"Decision Tree\", \"Gradient Boosted\"]\n",
    "metrics_cv_drop = pd.DataFrame(index= models_used, columns=['Accuracy','auroc', 'Precision', 'F1', 'Recall', 'Run Time'])"
   ]
  },
  {
   "cell_type": "markdown",
   "metadata": {},
   "source": [
    "### Logistic Regression with dropped variables (set 1)"
   ]
  },
  {
   "cell_type": "code",
   "execution_count": 34,
   "metadata": {},
   "outputs": [
    {
     "name": "stdout",
     "output_type": "stream",
     "text": [
      "[[749.   1.]\n",
      " [115.   1.]]\n",
      "Accuracy : 86.60508083140877%\n"
     ]
    }
   ],
   "source": [
    "#logreg\n",
    "#vector assembler\n",
    "va = VectorAssembler(inputCols=[x for x in df.columns if x in vars_keep2], outputCol=\"features\")\n",
    "\n",
    "# Initialize the `standardScaler`\n",
    "standardScaler = StandardScaler(inputCol=\"features\", outputCol=\"features_scaled\", withStd=True, withMean=False)\n",
    "\n",
    "#model\n",
    "lr = LogisticRegression(labelCol='TenYearCHD')\n",
    "\n",
    "#pipeline\n",
    "pipe1 = Pipeline(stages=[va,standardScaler,lr])\n",
    "\n",
    "# establish evaluator to use with cv\n",
    "evalbinary = BinaryClassificationEvaluator().setRawPredictionCol(\"prediction\")\\\n",
    "                        .setLabelCol(\"TenYearCHD\").setMetricName(\"areaUnderROC\")\n",
    "\n",
    "#create paramGrid\n",
    "paramGrid = ParamGridBuilder() \\\n",
    "    .addGrid(lr.regParam, [0.0001,0.001, 0.01, 0.1, 0.5, 1.0]) \\\n",
    "    .addGrid(lr.maxIter, [1, 5, 10, 15]) \\\n",
    "    .build()\n",
    "\n",
    "#time \n",
    "import time\n",
    "t0 = time.time()\n",
    "\n",
    "#cv\n",
    "cv_lr_drop = CrossValidator(estimator=pipe1,\n",
    "                          estimatorParamMaps=paramGrid,\n",
    "                          evaluator=evalbinary,\n",
    "                          numFolds=5,\n",
    "                          seed = 314)\n",
    "# Fit the pipeline\n",
    "model_lr_drop = cv_lr_drop.setParallelism(4).fit(train_data)\n",
    "\n",
    "#bestmod\n",
    "bestmod_lr_drop = model_lr_drop.bestModel\n",
    "\n",
    "# Make predictions\n",
    "predictions_lr_drop = bestmod_lr_drop.transform(test_data)\n",
    "\n",
    "#prepare to convert to RDD\n",
    "predict_RDD_lr_drop = predictions_lr_drop.select(['TenYearCHD', 'prediction'])\n",
    "\n",
    "#extract auroc from binary\n",
    "auroc_lr_drop = evalbinary.setMetricName(\"areaUnderROC\").evaluate(predict_RDD_lr_drop)\n",
    "\n",
    "#multiclass evaluator \n",
    "evaluatorm = MulticlassClassificationEvaluator(\n",
    "    labelCol=\"TenYearCHD\", predictionCol=\"prediction\")\n",
    "\n",
    "#multiclass metrics\n",
    "precision_lr_drop = evaluatorm.setMetricName(\"weightedPrecision\").evaluate(predict_RDD_lr_drop)\n",
    "accuracy_lr_drop = evaluatorm.setMetricName(\"accuracy\").evaluate(predict_RDD_lr_drop)\n",
    "f1_lr_drop = evaluatorm.setMetricName(\"f1\").evaluate(predict_RDD_lr_drop)\n",
    "recall_lr_drop = evaluatorm.setMetricName(\"recallByLabel\").evaluate(predict_RDD_lr_drop)\n",
    "\n",
    "#add to metrics df\n",
    "metrics_cv_drop['auroc'].loc[\"Log Reg\"] =  auroc_lr_drop\n",
    "metrics_cv_drop['Accuracy'].loc[\"Log Reg\"] = accuracy_lr_drop * 100\n",
    "metrics_cv_drop['Precision'].loc[\"Log Reg\"] = precision_lr_drop \n",
    "metrics_cv_drop['F1'].loc[\"Log Reg\"] = f1_lr_drop \n",
    "metrics_cv_drop['Recall'].loc[\"Log Reg\"] = recall_lr_drop\n",
    "\n",
    "#time\n",
    "time_lr_drop = time.time() - t0\n",
    "metrics_cv_drop['Run Time'].loc[\"Log Reg\"] = time_lr_drop\n",
    "\n",
    "#confusion matrix\n",
    "multi_lr_drop = MulticlassMetrics(predict_RDD_lr_drop.rdd.map(lambda line: (line[1], line[0])))\n",
    "print(multi_lr_drop.confusionMatrix().toArray())\n",
    "\n",
    "print(\"Accuracy : \" + str(accuracy_lr_drop*100) + \"%\")"
   ]
  },
  {
   "cell_type": "markdown",
   "metadata": {},
   "source": [
    "##### Best Model Parameters "
   ]
  },
  {
   "cell_type": "code",
   "execution_count": 35,
   "metadata": {},
   "outputs": [
    {
     "name": "stdout",
     "output_type": "stream",
     "text": [
      "Best Param - RegParam:  0.0001\n",
      "Best Param - MaxIter:  15\n"
     ]
    }
   ],
   "source": [
    "print('Best Param - RegParam: ', bestmod_lr_drop.stages[-1]._java_obj.getRegParam())\n",
    "print('Best Param - MaxIter: ', bestmod_lr_drop.stages[-1]._java_obj.getMaxIter())"
   ]
  },
  {
   "cell_type": "markdown",
   "metadata": {},
   "source": [
    "### Random Forest with dropped variables (set 1)"
   ]
  },
  {
   "cell_type": "code",
   "execution_count": 36,
   "metadata": {},
   "outputs": [
    {
     "name": "stdout",
     "output_type": "stream",
     "text": [
      "[[745.   5.]\n",
      " [112.   4.]]\n",
      "Accuracy : 86.48960739030022%\n"
     ]
    }
   ],
   "source": [
    "#random forest\n",
    "from pyspark.ml.classification import RandomForestClassifier\n",
    "\n",
    "#vector assembler\n",
    "va = VectorAssembler(inputCols=[x for x in df.columns if x in vars_keep2], outputCol=\"features\")\n",
    "\n",
    "\n",
    "# Initialize the `standardScaler`\n",
    "standardScaler = StandardScaler(inputCol=\"features\", outputCol=\"features_scaled\", withStd=True, withMean=False)\n",
    "\n",
    "\n",
    "#model\n",
    "rf = RandomForestClassifier(labelCol='TenYearCHD')\n",
    "\n",
    "#pipeline stages\n",
    "pipe2 = Pipeline(stages=[va, standardScaler,rf])\n",
    "\n",
    "# establish evaluator to use with cv\n",
    "evalbinary = BinaryClassificationEvaluator().setRawPredictionCol(\"prediction\")\\\n",
    "                        .setLabelCol(\"TenYearCHD\").setMetricName(\"areaUnderROC\")\n",
    "\n",
    "#create paramGrid\n",
    "paramGrid = ParamGridBuilder() \\\n",
    "    .addGrid(rf.numTrees, [5,10,15,20])  \\\n",
    "    .build()\n",
    "\n",
    "#time \n",
    "import time\n",
    "t0 = time.time()\n",
    "\n",
    "#cv\n",
    "cv_rf_drop = CrossValidator(estimator=pipe2,\n",
    "                          estimatorParamMaps=paramGrid,\n",
    "                          evaluator=evalbinary,\n",
    "                          numFolds=5,\n",
    "                          seed = 314)\n",
    "\n",
    "# Fit the pipeline\n",
    "model_rf_drop = cv_rf_drop.setParallelism(4).fit(train_data)\n",
    "\n",
    "#bestmod\n",
    "bestmod_rf_drop = model_rf_drop.bestModel\n",
    "\n",
    "# Make predictions\n",
    "predictions_rf_drop = bestmod_rf_drop.transform(test_data)\n",
    "\n",
    "#prepare to convert to RDD\n",
    "predict_RDD_rf_drop = predictions_rf_drop.select(['TenYearCHD', 'prediction'])\n",
    "\n",
    "#extract auroc\n",
    "auroc_rf_drop = evalbinary.setMetricName(\"areaUnderROC\").evaluate(predict_RDD_rf_drop)\n",
    "\n",
    "#multiclass evaluator \n",
    "evaluatorm = MulticlassClassificationEvaluator(\n",
    "    labelCol=\"TenYearCHD\", predictionCol=\"prediction\")\n",
    "\n",
    "#multiclass metrics\n",
    "precision_rf_drop = evaluatorm.setMetricName(\"weightedPrecision\").evaluate(predict_RDD_rf_drop)\n",
    "accuracy_rf_drop = evaluatorm.setMetricName(\"accuracy\").evaluate(predict_RDD_rf_drop)\n",
    "f1_rf_drop = evaluatorm.setMetricName(\"f1\").evaluate(predict_RDD_rf_drop)\n",
    "recall_rf_drop = evaluatorm.setMetricName(\"recallByLabel\").evaluate(predict_RDD_rf_drop)\n",
    "\n",
    "#add metrics to metrics df\n",
    "metrics_cv_drop['auroc'].loc[\"Random Forest\"] = auroc_rf_drop\n",
    "metrics_cv_drop['Accuracy'].loc[\"Random Forest\"] = accuracy_rf_drop*100\n",
    "metrics_cv_drop['Precision'].loc[\"Random Forest\"] = precision_rf_drop\n",
    "metrics_cv_drop['F1'].loc[\"Random Forest\"] = f1_rf_drop \n",
    "metrics_cv_drop['Recall'].loc[\"Random Forest\"] = recall_rf_drop\n",
    "\n",
    "#time\n",
    "time_rf_drop = time.time() - t0\n",
    "metrics_cv_drop['Run Time'].loc[\"Random Forest\"] = time_rf_drop\n",
    "\n",
    "#confusion matrix\n",
    "multi_rf_drop = MulticlassMetrics(predict_RDD_rf_drop.rdd.map(lambda line: (line[1], line[0])))\n",
    "\n",
    "print(multi_rf_drop.confusionMatrix().toArray())\n",
    "\n",
    "print(\"Accuracy : \" + str(accuracy_rf_drop*100) + \"%\")"
   ]
  },
  {
   "cell_type": "markdown",
   "metadata": {},
   "source": [
    "#### Best Model Parameters"
   ]
  },
  {
   "cell_type": "code",
   "execution_count": 37,
   "metadata": {},
   "outputs": [
    {
     "name": "stdout",
     "output_type": "stream",
     "text": [
      "Best Param - Num Trees:  5\n"
     ]
    }
   ],
   "source": [
    "print('Best Param - Num Trees: ', bestmod_rf_drop.stages[-1]._java_obj.getNumTrees())"
   ]
  },
  {
   "cell_type": "markdown",
   "metadata": {},
   "source": [
    "### Decision Tree with dropped variables (set 1)"
   ]
  },
  {
   "cell_type": "code",
   "execution_count": 38,
   "metadata": {},
   "outputs": [
    {
     "name": "stdout",
     "output_type": "stream",
     "text": [
      "[[638. 112.]\n",
      " [ 87.  29.]]\n",
      "Accuracy : 77.02078521939953%\n"
     ]
    }
   ],
   "source": [
    "# decision tree\n",
    "#vector assembler\n",
    "va = VectorAssembler(inputCols=[x for x in df.columns if x in vars_keep2], outputCol=\"features\")\n",
    "\n",
    "# Initialize the `standardScaler`\n",
    "standardScaler = StandardScaler(inputCol=\"features\", outputCol=\"features_scaled\", withStd=True, withMean=False)\n",
    "\n",
    "#model\n",
    "dt = DecisionTreeClassifier(labelCol='TenYearCHD')\n",
    "\n",
    "#pipeline stages\n",
    "pipe3 = Pipeline(stages=[va, standardScaler,dt])\n",
    "\n",
    "# establish evaluator to use with cv\n",
    "evalbinary = BinaryClassificationEvaluator().setRawPredictionCol(\"prediction\")\\\n",
    "                        .setLabelCol(\"TenYearCHD\").setMetricName(\"areaUnderROC\")\n",
    "\n",
    "#create paramGrid\n",
    "paramGrid = ParamGridBuilder().addGrid(dt.maxDepth, [2, 5, 10, 20, 30])\\\n",
    "             .addGrid(dt.maxBins, [10, 20, 40, 80, 100])\\\n",
    "             .build()\n",
    "\n",
    "#time \n",
    "import time\n",
    "t0 = time.time()\n",
    "\n",
    "#cv\n",
    "cv_dt_drop = CrossValidator(estimator=pipe3,\n",
    "                          estimatorParamMaps=paramGrid,\n",
    "                          evaluator=evalbinary,\n",
    "                          numFolds=5,\n",
    "                          seed = 314)\n",
    "\n",
    "# Fit the pipeline\n",
    "model_dt_drop = cv_dt_drop.setParallelism(4).fit(train_data)\n",
    "\n",
    "#bestmod\n",
    "bestmod_dt_drop = model_dt_drop.bestModel\n",
    "\n",
    "\n",
    "# Make predictions\n",
    "predictions_dt_drop = bestmod_dt_drop.transform(test_data)\n",
    "\n",
    "#prepare to convert to RDD\n",
    "predict_RDD_dt_drop = predictions_dt_drop.select(['TenYearCHD', 'prediction'])\n",
    "\n",
    "#extract auroc\n",
    "auroc_dt_drop = evalbinary.setMetricName(\"areaUnderROC\").evaluate(predict_RDD_dt_drop)\n",
    "\n",
    "#multiclass evaluator \n",
    "evaluatorm = MulticlassClassificationEvaluator(\n",
    "    labelCol=\"TenYearCHD\", predictionCol=\"prediction\")\n",
    "\n",
    "#multiclass metrics\n",
    "precision_dt_drop = evaluatorm.setMetricName(\"weightedPrecision\").evaluate(predict_RDD_dt_drop)\n",
    "accuracy_dt_drop = evaluatorm.setMetricName(\"accuracy\").evaluate(predict_RDD_dt_drop)\n",
    "f1_dt_drop = evaluatorm.setMetricName(\"f1\").evaluate(predict_RDD_dt_drop)\n",
    "recall_dt_drop = evaluatorm.setMetricName(\"recallByLabel\").evaluate(predict_RDD_dt_drop)\n",
    "\n",
    "#add metrics to metrics df\n",
    "metrics_cv_drop['auroc'].loc[\"Decision Tree\"] = auroc_dt_drop\n",
    "metrics_cv_drop['Accuracy'].loc[\"Decision Tree\"] = accuracy_dt_drop*100\n",
    "metrics_cv_drop['Precision'].loc[\"Decision Tree\"] = precision_dt_drop\n",
    "metrics_cv_drop['F1'].loc[\"Decision Tree\"] = f1_dt_drop \n",
    "metrics_cv_drop['Recall'].loc[\"Decision Tree\"] = recall_dt_drop\n",
    "\n",
    "#time\n",
    "time_dt_drop = time.time() - t0\n",
    "metrics_cv_drop['Run Time'].loc[\"Decision Tree\"] = time_dt_drop\n",
    "\n",
    "#confusion matrix\n",
    "multi_dt_drop = MulticlassMetrics(predict_RDD_dt_drop.rdd.map(lambda line: (line[1], line[0])))\n",
    "\n",
    "print(multi_dt_drop.confusionMatrix().toArray())\n",
    "\n",
    "\n",
    "print(\"Accuracy : \" + str(accuracy_dt_drop*100) + \"%\")"
   ]
  },
  {
   "cell_type": "markdown",
   "metadata": {},
   "source": [
    "#### Best Model Parameters"
   ]
  },
  {
   "cell_type": "code",
   "execution_count": 39,
   "metadata": {},
   "outputs": [
    {
     "name": "stdout",
     "output_type": "stream",
     "text": [
      "Best Param - MaxDepth:  20\n"
     ]
    }
   ],
   "source": [
    "print('Best Param - MaxDepth: ', bestmod_dt_drop.stages[-1]._java_obj.getMaxDepth())"
   ]
  },
  {
   "cell_type": "markdown",
   "metadata": {},
   "source": [
    "### Gradient Boost with dropped variables (set 1)"
   ]
  },
  {
   "cell_type": "markdown",
   "metadata": {},
   "source": [
    "### "
   ]
  },
  {
   "cell_type": "code",
   "execution_count": 40,
   "metadata": {},
   "outputs": [
    {
     "name": "stdout",
     "output_type": "stream",
     "text": [
      "[[678.  72.]\n",
      " [ 83.  33.]]\n",
      "Accuracy : 82.10161662817552%\n"
     ]
    }
   ],
   "source": [
    "#gradient boost\n",
    "from pyspark.ml.classification import GBTClassifier\n",
    "\n",
    "#vector assembler\n",
    "va = VectorAssembler(inputCols=[x for x in df.columns if x in vars_keep2], outputCol=\"features\")\n",
    "\n",
    "# Initialize the `standardScaler`\n",
    "standardScaler = StandardScaler(inputCol=\"features\", outputCol=\"features_scaled\", withStd=True, withMean=False)\n",
    "\n",
    "#model\n",
    "gb = GBTClassifier(labelCol='TenYearCHD')\n",
    "\n",
    "#pipeline stages\n",
    "pipe4 = Pipeline(stages=[va,standardScaler,gb])\n",
    "\n",
    "# establish evaluator to use with cv\n",
    "evalbinary = BinaryClassificationEvaluator().setRawPredictionCol(\"prediction\")\\\n",
    "                        .setLabelCol(\"TenYearCHD\").setMetricName(\"areaUnderROC\")\n",
    "\n",
    "#create paramGrid\n",
    "paramGrid = ParamGridBuilder().addGrid(gb.maxDepth, [2, 5, 10])\\\n",
    "             .addGrid(gb.maxBins, [10, 20])\\\n",
    "             .addGrid(gb.maxIter, [1,5,10,15])\\\n",
    "             .build()\n",
    "\n",
    "#time \n",
    "import time\n",
    "t0 = time.time()\n",
    "\n",
    "#cv\n",
    "cv_gb_drop = CrossValidator(estimator=pipe4,\n",
    "                          estimatorParamMaps=paramGrid,\n",
    "                          evaluator=evalbinary,\n",
    "                          numFolds=5,\n",
    "                          seed = 314)\n",
    "\n",
    "# Fit the pipeline\n",
    "model_gb_drop = cv_gb_drop.setParallelism(4).fit(train_data)\n",
    "\n",
    "#bestmod\n",
    "bestmod_gb_drop = model_gb_drop.bestModel\n",
    "\n",
    "\n",
    "# Make predictions\n",
    "predictions_gb_drop = bestmod_gb_drop.transform(test_data)\n",
    "\n",
    "\n",
    "#prepare to convert to RDD\n",
    "predict_RDD_gb_drop = predictions_gb_drop.select(['TenYearCHD', 'prediction'])\n",
    "\n",
    "#extract auroc\n",
    "auroc_gb_drop = evalbinary.setMetricName(\"areaUnderROC\").evaluate(predict_RDD_gb_drop)\n",
    "\n",
    "#multiclass evaluator \n",
    "evaluatorm = MulticlassClassificationEvaluator(\n",
    "    labelCol=\"TenYearCHD\", predictionCol=\"prediction\")\n",
    "\n",
    "#multiclass metrics\n",
    "precision_gb_drop = evaluatorm.setMetricName(\"weightedPrecision\").evaluate(predict_RDD_gb_drop)\n",
    "accuracy_gb_drop = evaluatorm.setMetricName(\"accuracy\").evaluate(predict_RDD_gb_drop)\n",
    "f1_gb_drop = evaluatorm.setMetricName(\"f1\").evaluate(predict_RDD_gb_drop)\n",
    "recall_gb_drop = evaluatorm.setMetricName(\"recallByLabel\").evaluate(predict_RDD_gb_drop)\n",
    "\n",
    "\n",
    "metrics_cv_drop['auroc'].loc[\"Gradient Boosted\"] = auroc_gb_drop\n",
    "metrics_cv_drop['Accuracy'].loc[\"Gradient Boosted\"] = accuracy_gb_drop*100\n",
    "metrics_cv_drop['Precision'].loc[\"Gradient Boosted\"] = precision_gb_drop\n",
    "metrics_cv_drop['F1'].loc[\"Gradient Boosted\"] = f1_gb_drop \n",
    "metrics_cv_drop['Recall'].loc[\"Gradient Boosted\"] = recall_gb_drop\n",
    "\n",
    "\n",
    "#time\n",
    "time_gb_drop = time.time() - t0\n",
    "metrics_cv_drop['Run Time'].loc[\"Gradient Boosted\"] = time_gb_drop\n",
    "\n",
    "#confusion matrix\n",
    "multi_gb_drop = MulticlassMetrics(predict_RDD_gb_drop.rdd.map(lambda line: (line[1], line[0])))\n",
    "\n",
    "print(multi_gb_drop.confusionMatrix().toArray())\n",
    "\n",
    "\n",
    "print(\"Accuracy : \" + str(accuracy_gb_drop*100) + \"%\")"
   ]
  },
  {
   "cell_type": "code",
   "execution_count": 41,
   "metadata": {},
   "outputs": [
    {
     "name": "stdout",
     "output_type": "stream",
     "text": [
      "Best Param - MaxDepth:  10\n",
      "Best Param - MaxBins:  20\n",
      "Best Param - MaxIter:  5\n"
     ]
    }
   ],
   "source": [
    "print('Best Param - MaxDepth: ', bestmod_gb_drop.stages[-1]._java_obj.getMaxDepth())\n",
    "print('Best Param - MaxBins: ', bestmod_gb_drop.stages[-1]._java_obj.getMaxBins())\n",
    "print('Best Param - MaxIter: ', bestmod_gb_drop.stages[-1]._java_obj.getMaxIter())"
   ]
  },
  {
   "cell_type": "markdown",
   "metadata": {},
   "source": [
    "### Results with dropped variables (set 1)"
   ]
  },
  {
   "cell_type": "code",
   "execution_count": 42,
   "metadata": {},
   "outputs": [
    {
     "data": {
      "text/html": [
       "<div>\n",
       "<style scoped>\n",
       "    .dataframe tbody tr th:only-of-type {\n",
       "        vertical-align: middle;\n",
       "    }\n",
       "\n",
       "    .dataframe tbody tr th {\n",
       "        vertical-align: top;\n",
       "    }\n",
       "\n",
       "    .dataframe thead th {\n",
       "        text-align: right;\n",
       "    }\n",
       "</style>\n",
       "<table border=\"1\" class=\"dataframe\">\n",
       "  <thead>\n",
       "    <tr style=\"text-align: right;\">\n",
       "      <th></th>\n",
       "      <th>Accuracy</th>\n",
       "      <th>auroc</th>\n",
       "      <th>Precision</th>\n",
       "      <th>F1</th>\n",
       "      <th>Recall</th>\n",
       "      <th>Run Time</th>\n",
       "    </tr>\n",
       "  </thead>\n",
       "  <tbody>\n",
       "    <tr>\n",
       "      <th>Log Reg</th>\n",
       "      <td>86.6051</td>\n",
       "      <td>0.503644</td>\n",
       "      <td>0.817752</td>\n",
       "      <td>0.806077</td>\n",
       "      <td>0.998667</td>\n",
       "      <td>32.9892</td>\n",
       "    </tr>\n",
       "    <tr>\n",
       "      <th>Random Forest</th>\n",
       "      <td>86.4896</td>\n",
       "      <td>0.513908</td>\n",
       "      <td>0.812401</td>\n",
       "      <td>0.811569</td>\n",
       "      <td>0.993333</td>\n",
       "      <td>8.95139</td>\n",
       "    </tr>\n",
       "    <tr>\n",
       "      <th>Decision Tree</th>\n",
       "      <td>77.0208</td>\n",
       "      <td>0.550333</td>\n",
       "      <td>0.789675</td>\n",
       "      <td>0.779437</td>\n",
       "      <td>0.850667</td>\n",
       "      <td>44.6713</td>\n",
       "    </tr>\n",
       "    <tr>\n",
       "      <th>Gradient Boosted</th>\n",
       "      <td>82.1016</td>\n",
       "      <td>0.594241</td>\n",
       "      <td>0.813692</td>\n",
       "      <td>0.817213</td>\n",
       "      <td>0.904</td>\n",
       "      <td>118.625</td>\n",
       "    </tr>\n",
       "  </tbody>\n",
       "</table>\n",
       "</div>"
      ],
      "text/plain": [
       "                 Accuracy     auroc Precision        F1    Recall Run Time\n",
       "Log Reg           86.6051  0.503644  0.817752  0.806077  0.998667  32.9892\n",
       "Random Forest     86.4896  0.513908  0.812401  0.811569  0.993333  8.95139\n",
       "Decision Tree     77.0208  0.550333  0.789675  0.779437  0.850667  44.6713\n",
       "Gradient Boosted  82.1016  0.594241  0.813692  0.817213     0.904  118.625"
      ]
     },
     "execution_count": 42,
     "metadata": {},
     "output_type": "execute_result"
    }
   ],
   "source": [
    "metrics_cv_drop"
   ]
  },
  {
   "cell_type": "markdown",
   "metadata": {},
   "source": [
    "## Drop variables: current smoker, heart rate, education, BMI, prevalent smoke (set 2)"
   ]
  },
  {
   "cell_type": "code",
   "execution_count": 43,
   "metadata": {},
   "outputs": [],
   "source": [
    "#define columns to keep/drop \n",
    "dont_want2 = [\"TenYearCHD\", \"currentSmoker\", \"heartRate\", \"education\", \"BMI\",\"prevalentStroke\"]\n",
    "vars_keep4 = [x for x in df.columns if x not in dont_want2]\n",
    "\n",
    "models_used2 = [\"Log Reg\",\"Random Forest\", \"Decision Tree\", \"Gradient Boosted\"]\n",
    "metrics_cv_drop2 = pd.DataFrame(index= models_used2, columns=['Accuracy','auroc', 'Precision', 'F1', 'Recall','Run Time'])"
   ]
  },
  {
   "cell_type": "markdown",
   "metadata": {},
   "source": [
    "### Logistic Regression with dropped variables (set 2)"
   ]
  },
  {
   "cell_type": "code",
   "execution_count": 44,
   "metadata": {},
   "outputs": [
    {
     "name": "stdout",
     "output_type": "stream",
     "text": [
      "[[745.   5.]\n",
      " [113.   3.]]\n",
      "Accuracy : 86.37413394919169%\n"
     ]
    }
   ],
   "source": [
    "#vector assembler\n",
    "va = VectorAssembler(inputCols=[x for x in df.columns if x in vars_keep4], outputCol=\"features\")\n",
    "\n",
    "# Initialize the `standardScaler`\n",
    "standardScaler = StandardScaler(inputCol=\"features\", outputCol=\"features_scaled\", withStd=True, withMean=False)\n",
    "\n",
    "#model\n",
    "lr = LogisticRegression(labelCol='TenYearCHD')\n",
    "\n",
    "#pipeline\n",
    "pipe1 = Pipeline(stages=[va,standardScaler,lr])\n",
    "\n",
    "# establish evaluator to use with cv\n",
    "evalbinary = BinaryClassificationEvaluator().setRawPredictionCol(\"prediction\")\\\n",
    "                        .setLabelCol(\"TenYearCHD\").setMetricName(\"areaUnderROC\")\n",
    "\n",
    "#create paramGrid\n",
    "paramGrid = ParamGridBuilder() \\\n",
    "    .addGrid(lr.regParam, [0.0001,0.001, 0.01, 0.1, 0.5, 1.0]) \\\n",
    "    .addGrid(lr.maxIter, [1, 5, 10, 15]) \\\n",
    "    .build()\n",
    "\n",
    "#time \n",
    "import time\n",
    "t0 = time.time()\n",
    "\n",
    "#cv\n",
    "cv_lr_drop2 = CrossValidator(estimator=pipe1,\n",
    "                          estimatorParamMaps=paramGrid,\n",
    "                          evaluator=evalbinary,\n",
    "                          numFolds=5,\n",
    "                          seed = 314)\n",
    "# Fit the pipeline\n",
    "model_lr_drop2 = cv_lr_drop2.setParallelism(4).fit(train_data)\n",
    "\n",
    "#bestmod\n",
    "bestmod_lr_drop2 = model_lr_drop2.bestModel\n",
    "\n",
    "# Make predictions\n",
    "predictions_lr_drop2 = bestmod_lr_drop2.transform(test_data)\n",
    "\n",
    "#prepare to convert to RDD\n",
    "predict_RDD_lr_drop2 = predictions_lr_drop2.select(['TenYearCHD', 'prediction'])\n",
    "\n",
    "#extract auroc from binary\n",
    "auroc_lr_drop2 = evalbinary.setMetricName(\"areaUnderROC\").evaluate(predict_RDD_lr_drop2)\n",
    "\n",
    "#multiclass evaluator \n",
    "evaluatorm2 = MulticlassClassificationEvaluator(\n",
    "    labelCol=\"TenYearCHD\", predictionCol=\"prediction\")\n",
    "\n",
    "#multiclass metrics\n",
    "precision_lr_drop2 = evaluatorm2.setMetricName(\"weightedPrecision\").evaluate(predict_RDD_lr_drop2)\n",
    "accuracy_lr_drop2 = evaluatorm2.setMetricName(\"accuracy\").evaluate(predict_RDD_lr_drop2)\n",
    "f1_lr_drop2 = evaluatorm2.setMetricName(\"f1\").evaluate(predict_RDD_lr_drop2)\n",
    "recall_lr_drop2 = evaluatorm2.setMetricName(\"recallByLabel\").evaluate(predict_RDD_lr_drop2)\n",
    "\n",
    "#add to metrics df\n",
    "metrics_cv_drop2['auroc'].loc[\"Log Reg\"] =  auroc_lr_drop2\n",
    "metrics_cv_drop2['Accuracy'].loc[\"Log Reg\"] = accuracy_lr_drop2 * 100\n",
    "metrics_cv_drop2['Precision'].loc[\"Log Reg\"] = precision_lr_drop2 \n",
    "metrics_cv_drop2['F1'].loc[\"Log Reg\"] = f1_lr_drop2 \n",
    "metrics_cv_drop2['Recall'].loc[\"Log Reg\"] = recall_lr_drop2\n",
    "\n",
    "#time\n",
    "time_lr_drop1 = time.time() - t0\n",
    "metrics_cv_drop2['Run Time'].loc[\"Log Reg\"] = time_lr_drop1\n",
    "#confusion matrix\n",
    "multi_lr_drop2 = MulticlassMetrics(predict_RDD_lr_drop2.rdd.map(lambda line: (line[1], line[0])))\n",
    "print(multi_lr_drop2.confusionMatrix().toArray())\n",
    "\n",
    "print(\"Accuracy : \" + str(accuracy_lr_drop2*100) + \"%\")"
   ]
  },
  {
   "cell_type": "markdown",
   "metadata": {},
   "source": [
    "#### Best Model Parameters"
   ]
  },
  {
   "cell_type": "code",
   "execution_count": 45,
   "metadata": {},
   "outputs": [
    {
     "name": "stdout",
     "output_type": "stream",
     "text": [
      "Best Param - RegParam:  0.0001\n",
      "Best Param - MaxIter:  10\n"
     ]
    }
   ],
   "source": [
    "print('Best Param - RegParam: ', bestmod_lr_drop2.stages[-1]._java_obj.getRegParam())\n",
    "print('Best Param - MaxIter: ', bestmod_lr_drop2.stages[-1]._java_obj.getMaxIter())"
   ]
  },
  {
   "cell_type": "markdown",
   "metadata": {},
   "source": [
    "### Random Forest with dropped variables (set 2)"
   ]
  },
  {
   "cell_type": "code",
   "execution_count": 46,
   "metadata": {},
   "outputs": [
    {
     "name": "stdout",
     "output_type": "stream",
     "text": [
      "[[748.   2.]\n",
      " [113.   3.]]\n",
      "Accuracy : 86.72055427251732%\n"
     ]
    }
   ],
   "source": [
    "#random forest\n",
    "from pyspark.ml.classification import RandomForestClassifier\n",
    "\n",
    "#vector assembler\n",
    "va = VectorAssembler(inputCols=[x for x in df.columns if x in vars_keep4], outputCol=\"features\")\n",
    "\n",
    "\n",
    "# Initialize the `standardScaler`\n",
    "standardScaler = StandardScaler(inputCol=\"features\", outputCol=\"features_scaled\", withStd=True, withMean=False)\n",
    "\n",
    "\n",
    "#model\n",
    "rf = RandomForestClassifier(labelCol='TenYearCHD')\n",
    "\n",
    "#pipeline stages\n",
    "pipe2 = Pipeline(stages=[va, standardScaler,rf])\n",
    "\n",
    "# establish evaluator to use with cv\n",
    "evalbinary = BinaryClassificationEvaluator().setRawPredictionCol(\"prediction\")\\\n",
    "                        .setLabelCol(\"TenYearCHD\").setMetricName(\"areaUnderROC\")\n",
    "\n",
    "#create paramGrid\n",
    "paramGrid = ParamGridBuilder() \\\n",
    "    .addGrid(rf.numTrees, [5,10,15,20])  \\\n",
    "    .build()\n",
    "\n",
    "#time \n",
    "import time\n",
    "t0 = time.time()\n",
    "\n",
    "#cv\n",
    "cv_rf_drop1 = CrossValidator(estimator=pipe2,\n",
    "                          estimatorParamMaps=paramGrid,\n",
    "                          evaluator=evalbinary,\n",
    "                          numFolds=5,\n",
    "                          seed = 314)\n",
    "\n",
    "# Fit the pipeline\n",
    "model_rf_drop1 = cv_rf_drop1.setParallelism(4).fit(train_data)\n",
    "\n",
    "#bestmod\n",
    "bestmod_rf_drop1 = model_rf_drop1.bestModel\n",
    "\n",
    "# Make predictions\n",
    "predictions_rf_drop1 = bestmod_rf_drop1.transform(test_data)\n",
    "\n",
    "#prepare to convert to RDD\n",
    "predict_RDD_rf_drop1 = predictions_rf_drop1.select(['TenYearCHD', 'prediction'])\n",
    "\n",
    "#extract auroc\n",
    "auroc_rf_drop1 = evalbinary.setMetricName(\"areaUnderROC\").evaluate(predict_RDD_rf_drop1)\n",
    "\n",
    "#multiclass evaluator \n",
    "evaluatorm3 = MulticlassClassificationEvaluator(\n",
    "    labelCol=\"TenYearCHD\", predictionCol=\"prediction\")\n",
    "\n",
    "#multiclass metrics\n",
    "precision_rf_drop1 = evaluatorm3.setMetricName(\"weightedPrecision\").evaluate(predict_RDD_rf_drop1)\n",
    "accuracy_rf_drop1 = evaluatorm3.setMetricName(\"accuracy\").evaluate(predict_RDD_rf_drop1)\n",
    "f1_rf_drop1 = evaluatorm3.setMetricName(\"f1\").evaluate(predict_RDD_rf_drop1)\n",
    "recall_rf_drop1 = evaluatorm3.setMetricName(\"recallByLabel\").evaluate(predict_RDD_rf_drop1)\n",
    "\n",
    "#add metrics to metrics df\n",
    "metrics_cv_drop2['auroc'].loc[\"Random Forest\"] = auroc_rf_drop1\n",
    "metrics_cv_drop2['Accuracy'].loc[\"Random Forest\"] = accuracy_rf_drop1*100\n",
    "metrics_cv_drop2['Precision'].loc[\"Random Forest\"] = precision_rf_drop1\n",
    "metrics_cv_drop2['F1'].loc[\"Random Forest\"] = f1_rf_drop1\n",
    "metrics_cv_drop2['Recall'].loc[\"Random Forest\"] = recall_rf_drop1\n",
    "\n",
    "#time\n",
    "time_rf_drop1 = time.time() - t0\n",
    "metrics_cv_drop2['Run Time'].loc[\"Random Forest\"] = time_rf_drop1\n",
    "\n",
    "#confusion matrix\n",
    "multi_rf_drop1 = MulticlassMetrics(predict_RDD_rf_drop1.rdd.map(lambda line: (line[1], line[0])))\n",
    "\n",
    "print(multi_rf_drop1.confusionMatrix().toArray())\n",
    "\n",
    "print(\"Accuracy : \" + str(accuracy_rf_drop1*100) + \"%\")"
   ]
  },
  {
   "cell_type": "markdown",
   "metadata": {},
   "source": [
    "#### Best Model Parameters"
   ]
  },
  {
   "cell_type": "code",
   "execution_count": 47,
   "metadata": {},
   "outputs": [
    {
     "name": "stdout",
     "output_type": "stream",
     "text": [
      "Best Param - Num Trees:  15\n"
     ]
    }
   ],
   "source": [
    "print('Best Param - Num Trees: ', bestmod_rf_drop1.stages[-1]._java_obj.getNumTrees())"
   ]
  },
  {
   "cell_type": "markdown",
   "metadata": {},
   "source": [
    "### Decision Tree with dropped variables (set 2)"
   ]
  },
  {
   "cell_type": "code",
   "execution_count": 48,
   "metadata": {},
   "outputs": [
    {
     "name": "stdout",
     "output_type": "stream",
     "text": [
      "[[622. 128.]\n",
      " [ 83.  33.]]\n",
      "Accuracy : 75.635103926097%\n"
     ]
    }
   ],
   "source": [
    "# decision tree\n",
    "#vector assembler\n",
    "va = VectorAssembler(inputCols=[x for x in df.columns if x in vars_keep4], outputCol=\"features\")\n",
    "\n",
    "# Initialize the `standardScaler`\n",
    "standardScaler = StandardScaler(inputCol=\"features\", outputCol=\"features_scaled\", withStd=True, withMean=False)\n",
    "\n",
    "#model\n",
    "dt = DecisionTreeClassifier(labelCol='TenYearCHD')\n",
    "\n",
    "#pipeline stages\n",
    "pipe3 = Pipeline(stages=[va, standardScaler,dt])\n",
    "\n",
    "# establish evaluator to use with cv\n",
    "evalbinary = BinaryClassificationEvaluator().setRawPredictionCol(\"prediction\")\\\n",
    "                        .setLabelCol(\"TenYearCHD\").setMetricName(\"areaUnderROC\")\n",
    "\n",
    "#create paramGrid\n",
    "paramGrid = ParamGridBuilder().addGrid(dt.maxDepth, [2, 5, 10, 20, 30])\\\n",
    "             .addGrid(dt.maxBins, [10, 20, 40, 80, 100])\\\n",
    "             .build()\n",
    "\n",
    "#time \n",
    "import time\n",
    "t0 = time.time()\n",
    "\n",
    "#cv\n",
    "cv_dt_drop1 = CrossValidator(estimator=pipe3,\n",
    "                          estimatorParamMaps=paramGrid,\n",
    "                          evaluator=evalbinary,\n",
    "                          numFolds=5,\n",
    "                          seed = 314)\n",
    "\n",
    "# Fit the pipeline\n",
    "model_dt_drop1 = cv_dt_drop1.setParallelism(4).fit(train_data)\n",
    "\n",
    "#bestmod\n",
    "bestmod_dt_drop1 = model_dt_drop1.bestModel\n",
    "\n",
    "\n",
    "# Make predictions\n",
    "predictions_dt_drop1 = bestmod_dt_drop1.transform(test_data)\n",
    "\n",
    "#prepare to convert to RDD\n",
    "predict_RDD_dt_drop1 = predictions_dt_drop1.select(['TenYearCHD', 'prediction'])\n",
    "\n",
    "#extract auroc\n",
    "auroc_dt_drop1 = evalbinary.setMetricName(\"areaUnderROC\").evaluate(predict_RDD_dt_drop1)\n",
    "\n",
    "#multiclass evaluator \n",
    "evaluatorm3 = MulticlassClassificationEvaluator(\n",
    "    labelCol=\"TenYearCHD\", predictionCol=\"prediction\")\n",
    "\n",
    "#multiclass metrics\n",
    "precision_dt_drop1 = evaluatorm3.setMetricName(\"weightedPrecision\").evaluate(predict_RDD_dt_drop1)\n",
    "accuracy_dt_drop1 = evaluatorm3.setMetricName(\"accuracy\").evaluate(predict_RDD_dt_drop1)\n",
    "f1_dt_drop1 = evaluatorm3.setMetricName(\"f1\").evaluate(predict_RDD_dt_drop1)\n",
    "recall_dt_drop1 = evaluatorm3.setMetricName(\"recallByLabel\").evaluate(predict_RDD_dt_drop1)\n",
    "\n",
    "#add metrics to metrics df\n",
    "metrics_cv_drop2['auroc'].loc[\"Decision Tree\"] = auroc_dt_drop1\n",
    "metrics_cv_drop2['Accuracy'].loc[\"Decision Tree\"] = accuracy_dt_drop1*100\n",
    "metrics_cv_drop2['Precision'].loc[\"Decision Tree\"] = precision_dt_drop1\n",
    "metrics_cv_drop2['F1'].loc[\"Decision Tree\"] = f1_dt_drop1\n",
    "metrics_cv_drop2['Recall'].loc[\"Decision Tree\"] = recall_dt_drop1\n",
    "\n",
    "#time\n",
    "time_dt_drop1 = time.time() - t0\n",
    "metrics_cv_drop2['Run Time'].loc[\"Decision Tree\"] = time_dt_drop1\n",
    "\n",
    "#confusion matrix\n",
    "multi_dt_drop1 = MulticlassMetrics(predict_RDD_dt_drop1.rdd.map(lambda line: (line[1], line[0])))\n",
    "\n",
    "print(multi_dt_drop1.confusionMatrix().toArray())\n",
    "\n",
    "\n",
    "print(\"Accuracy : \" + str(accuracy_dt_drop1*100) + \"%\")"
   ]
  },
  {
   "cell_type": "markdown",
   "metadata": {},
   "source": [
    "#### Best Model Parameters"
   ]
  },
  {
   "cell_type": "code",
   "execution_count": 49,
   "metadata": {},
   "outputs": [
    {
     "name": "stdout",
     "output_type": "stream",
     "text": [
      "Best Param - MaxDepth:  30\n"
     ]
    }
   ],
   "source": [
    "print('Best Param - MaxDepth: ', bestmod_dt_drop1.stages[-1]._java_obj.getMaxDepth())"
   ]
  },
  {
   "cell_type": "markdown",
   "metadata": {},
   "source": [
    "### Gradient Boost with dropped variables (set 2)"
   ]
  },
  {
   "cell_type": "code",
   "execution_count": 50,
   "metadata": {},
   "outputs": [
    {
     "name": "stdout",
     "output_type": "stream",
     "text": [
      "[[680.  70.]\n",
      " [ 86.  30.]]\n",
      "Accuracy : 81.98614318706697%\n"
     ]
    }
   ],
   "source": [
    "#gradient boost\n",
    "from pyspark.ml.classification import GBTClassifier\n",
    "\n",
    "#vector assembler\n",
    "va = VectorAssembler(inputCols=[x for x in df.columns if x in vars_keep4], outputCol=\"features\")\n",
    "\n",
    "# Initialize the `standardScaler`\n",
    "standardScaler = StandardScaler(inputCol=\"features\", outputCol=\"features_scaled\", withStd=True, withMean=False)\n",
    "\n",
    "#model\n",
    "gb = GBTClassifier(labelCol='TenYearCHD')\n",
    "\n",
    "#pipeline stages\n",
    "pipe4 = Pipeline(stages=[va,standardScaler,gb])\n",
    "\n",
    "# establish evaluator to use with cv\n",
    "evalbinary = BinaryClassificationEvaluator().setRawPredictionCol(\"prediction\")\\\n",
    "                        .setLabelCol(\"TenYearCHD\").setMetricName(\"areaUnderROC\")\n",
    "\n",
    "#create paramGrid\n",
    "paramGrid = ParamGridBuilder().addGrid(gb.maxDepth, [2, 5, 10])\\\n",
    "             .addGrid(gb.maxBins, [10, 20])\\\n",
    "             .addGrid(gb.maxIter, [1,5,10,15])\\\n",
    "             .build()\n",
    "\n",
    "#time \n",
    "import time\n",
    "t0 = time.time()\n",
    "\n",
    "#cv\n",
    "cv_gb_drop1 = CrossValidator(estimator=pipe4,\n",
    "                          estimatorParamMaps=paramGrid,\n",
    "                          evaluator=evalbinary,\n",
    "                          numFolds=5,\n",
    "                          seed = 314)\n",
    "\n",
    "# Fit the pipeline\n",
    "model_gb_drop1 = cv_gb_drop1.setParallelism(4).fit(train_data)\n",
    "\n",
    "#bestmod\n",
    "bestmod_gb_drop1 = model_gb_drop1.bestModel\n",
    "\n",
    "# Make predictions\n",
    "predictions_gb_drop1 = bestmod_gb_drop1.transform(test_data)\n",
    "\n",
    "#prepare to convert to RDD\n",
    "predict_RDD_gb_drop1 = predictions_gb_drop1.select(['TenYearCHD', 'prediction'])\n",
    "\n",
    "#extract auroc\n",
    "auroc_gb_drop1 = evalbinary.setMetricName(\"areaUnderROC\").evaluate(predict_RDD_gb_drop1)\n",
    "\n",
    "#multiclass evaluator \n",
    "evaluatorm4 = MulticlassClassificationEvaluator(\n",
    "    labelCol=\"TenYearCHD\", predictionCol=\"prediction\")\n",
    "\n",
    "#multiclass metrics\n",
    "precision_gb_drop1 = evaluatorm4.setMetricName(\"weightedPrecision\").evaluate(predict_RDD_gb_drop1)\n",
    "accuracy_gb_drop1 = evaluatorm4.setMetricName(\"accuracy\").evaluate(predict_RDD_gb_drop1)\n",
    "f1_gb_drop1 = evaluatorm4.setMetricName(\"f1\").evaluate(predict_RDD_gb_drop1)\n",
    "recall_gb_drop1 = evaluatorm4.setMetricName(\"recallByLabel\").evaluate(predict_RDD_gb_drop1)\n",
    "\n",
    "\n",
    "metrics_cv_drop2['auroc'].loc[\"Gradient Boosted\"] = auroc_gb_drop1\n",
    "metrics_cv_drop2['Accuracy'].loc[\"Gradient Boosted\"] = accuracy_gb_drop1*100\n",
    "metrics_cv_drop2['Precision'].loc[\"Gradient Boosted\"] = precision_gb_drop1\n",
    "metrics_cv_drop2['F1'].loc[\"Gradient Boosted\"] = f1_gb_drop1 \n",
    "metrics_cv_drop2['Recall'].loc[\"Gradient Boosted\"] = recall_gb_drop1\n",
    "\n",
    "#time\n",
    "time_gb_drop1 = time.time() - t0\n",
    "metrics_cv_drop2['Run Time'].loc[\"Gradient Boosted\"] = time_gb_drop1\n",
    "\n",
    "#confusion matrix\n",
    "multi_gb_drop1 = MulticlassMetrics(predict_RDD_gb_drop1.rdd.map(lambda line: (line[1], line[0])))\n",
    "\n",
    "print(multi_gb_drop1.confusionMatrix().toArray())\n",
    "\n",
    "\n",
    "print(\"Accuracy : \" + str(accuracy_gb_drop1*100) + \"%\")"
   ]
  },
  {
   "cell_type": "markdown",
   "metadata": {},
   "source": [
    "#### Best Model Parameters"
   ]
  },
  {
   "cell_type": "code",
   "execution_count": 51,
   "metadata": {},
   "outputs": [
    {
     "name": "stdout",
     "output_type": "stream",
     "text": [
      "Best Param - MaxDepth:  10\n",
      "Best Param - MaxBins:  10\n",
      "Best Param - MaxIter:  15\n"
     ]
    }
   ],
   "source": [
    "print('Best Param - MaxDepth: ', bestmod_gb_drop1.stages[-1]._java_obj.getMaxDepth())\n",
    "print('Best Param - MaxBins: ', bestmod_gb_drop1.stages[-1]._java_obj.getMaxBins())\n",
    "print('Best Param - MaxIter: ', bestmod_gb_drop1.stages[-1]._java_obj.getMaxIter())"
   ]
  },
  {
   "cell_type": "markdown",
   "metadata": {},
   "source": [
    "### Results for dropped variables (set 2)"
   ]
  },
  {
   "cell_type": "code",
   "execution_count": 52,
   "metadata": {},
   "outputs": [
    {
     "data": {
      "text/html": [
       "<div>\n",
       "<style scoped>\n",
       "    .dataframe tbody tr th:only-of-type {\n",
       "        vertical-align: middle;\n",
       "    }\n",
       "\n",
       "    .dataframe tbody tr th {\n",
       "        vertical-align: top;\n",
       "    }\n",
       "\n",
       "    .dataframe thead th {\n",
       "        text-align: right;\n",
       "    }\n",
       "</style>\n",
       "<table border=\"1\" class=\"dataframe\">\n",
       "  <thead>\n",
       "    <tr style=\"text-align: right;\">\n",
       "      <th></th>\n",
       "      <th>Accuracy</th>\n",
       "      <th>auroc</th>\n",
       "      <th>Precision</th>\n",
       "      <th>F1</th>\n",
       "      <th>Recall</th>\n",
       "      <th>Run Time</th>\n",
       "    </tr>\n",
       "  </thead>\n",
       "  <tbody>\n",
       "    <tr>\n",
       "      <th>Log Reg</th>\n",
       "      <td>86.3741</td>\n",
       "      <td>0.509598</td>\n",
       "      <td>0.802221</td>\n",
       "      <td>0.808979</td>\n",
       "      <td>0.993333</td>\n",
       "      <td>35.3152</td>\n",
       "    </tr>\n",
       "    <tr>\n",
       "      <th>Random Forest</th>\n",
       "      <td>86.7206</td>\n",
       "      <td>0.511598</td>\n",
       "      <td>0.832757</td>\n",
       "      <td>0.810871</td>\n",
       "      <td>0.997333</td>\n",
       "      <td>9.24619</td>\n",
       "    </tr>\n",
       "    <tr>\n",
       "      <th>Decision Tree</th>\n",
       "      <td>75.6351</td>\n",
       "      <td>0.556908</td>\n",
       "      <td>0.791546</td>\n",
       "      <td>0.772374</td>\n",
       "      <td>0.829333</td>\n",
       "      <td>45.1498</td>\n",
       "    </tr>\n",
       "    <tr>\n",
       "      <th>Gradient Boosted</th>\n",
       "      <td>81.9861</td>\n",
       "      <td>0.582644</td>\n",
       "      <td>0.809003</td>\n",
       "      <td>0.81414</td>\n",
       "      <td>0.906667</td>\n",
       "      <td>123.874</td>\n",
       "    </tr>\n",
       "  </tbody>\n",
       "</table>\n",
       "</div>"
      ],
      "text/plain": [
       "                 Accuracy     auroc Precision        F1    Recall Run Time\n",
       "Log Reg           86.3741  0.509598  0.802221  0.808979  0.993333  35.3152\n",
       "Random Forest     86.7206  0.511598  0.832757  0.810871  0.997333  9.24619\n",
       "Decision Tree     75.6351  0.556908  0.791546  0.772374  0.829333  45.1498\n",
       "Gradient Boosted  81.9861  0.582644  0.809003   0.81414  0.906667  123.874"
      ]
     },
     "execution_count": 52,
     "metadata": {},
     "output_type": "execute_result"
    }
   ],
   "source": [
    "metrics_cv_drop2"
   ]
  },
  {
   "cell_type": "markdown",
   "metadata": {},
   "source": [
    "### Comparing all results "
   ]
  },
  {
   "cell_type": "markdown",
   "metadata": {},
   "source": [
    "Benchmark: "
   ]
  },
  {
   "cell_type": "code",
   "execution_count": 53,
   "metadata": {},
   "outputs": [
    {
     "data": {
      "text/html": [
       "<div>\n",
       "<style scoped>\n",
       "    .dataframe tbody tr th:only-of-type {\n",
       "        vertical-align: middle;\n",
       "    }\n",
       "\n",
       "    .dataframe tbody tr th {\n",
       "        vertical-align: top;\n",
       "    }\n",
       "\n",
       "    .dataframe thead th {\n",
       "        text-align: right;\n",
       "    }\n",
       "</style>\n",
       "<table border=\"1\" class=\"dataframe\">\n",
       "  <thead>\n",
       "    <tr style=\"text-align: right;\">\n",
       "      <th></th>\n",
       "      <th>Accuracy</th>\n",
       "      <th>auroc</th>\n",
       "      <th>Precision</th>\n",
       "      <th>F1</th>\n",
       "      <th>Recall</th>\n",
       "      <th>Run Time</th>\n",
       "    </tr>\n",
       "  </thead>\n",
       "  <tbody>\n",
       "    <tr>\n",
       "      <th>Log Reg</th>\n",
       "      <td>87.6443</td>\n",
       "      <td>0.549724</td>\n",
       "      <td>0.867371</td>\n",
       "      <td>0.83271</td>\n",
       "      <td>0.996</td>\n",
       "      <td>7.46358</td>\n",
       "    </tr>\n",
       "  </tbody>\n",
       "</table>\n",
       "</div>"
      ],
      "text/plain": [
       "        Accuracy     auroc Precision       F1 Recall Run Time\n",
       "Log Reg  87.6443  0.549724  0.867371  0.83271  0.996  7.46358"
      ]
     },
     "execution_count": 53,
     "metadata": {},
     "output_type": "execute_result"
    }
   ],
   "source": [
    "metrics_cv_base"
   ]
  },
  {
   "cell_type": "markdown",
   "metadata": {},
   "source": [
    "All variables: "
   ]
  },
  {
   "cell_type": "code",
   "execution_count": 54,
   "metadata": {},
   "outputs": [
    {
     "data": {
      "text/html": [
       "<div>\n",
       "<style scoped>\n",
       "    .dataframe tbody tr th:only-of-type {\n",
       "        vertical-align: middle;\n",
       "    }\n",
       "\n",
       "    .dataframe tbody tr th {\n",
       "        vertical-align: top;\n",
       "    }\n",
       "\n",
       "    .dataframe thead th {\n",
       "        text-align: right;\n",
       "    }\n",
       "</style>\n",
       "<table border=\"1\" class=\"dataframe\">\n",
       "  <thead>\n",
       "    <tr style=\"text-align: right;\">\n",
       "      <th></th>\n",
       "      <th>Accuracy</th>\n",
       "      <th>auroc</th>\n",
       "      <th>Precision</th>\n",
       "      <th>F1</th>\n",
       "      <th>Recall</th>\n",
       "      <th>Run Time</th>\n",
       "    </tr>\n",
       "  </thead>\n",
       "  <tbody>\n",
       "    <tr>\n",
       "      <th>Log Reg</th>\n",
       "      <td>86.836</td>\n",
       "      <td>0.526839</td>\n",
       "      <td>0.83365</td>\n",
       "      <td>0.819149</td>\n",
       "      <td>0.993333</td>\n",
       "      <td>38.8987</td>\n",
       "    </tr>\n",
       "    <tr>\n",
       "      <th>Random Forest</th>\n",
       "      <td>86.6051</td>\n",
       "      <td>0.503644</td>\n",
       "      <td>0.817752</td>\n",
       "      <td>0.806077</td>\n",
       "      <td>0.998667</td>\n",
       "      <td>10.2891</td>\n",
       "    </tr>\n",
       "    <tr>\n",
       "      <th>Decision Tree</th>\n",
       "      <td>86.6051</td>\n",
       "      <td>0.5</td>\n",
       "      <td>0.750044</td>\n",
       "      <td>0.803884</td>\n",
       "      <td>1</td>\n",
       "      <td>14.4648</td>\n",
       "    </tr>\n",
       "    <tr>\n",
       "      <th>Gradient Boosted</th>\n",
       "      <td>79.7921</td>\n",
       "      <td>0.540828</td>\n",
       "      <td>0.787966</td>\n",
       "      <td>0.792792</td>\n",
       "      <td>0.892</td>\n",
       "      <td>134.904</td>\n",
       "    </tr>\n",
       "  </tbody>\n",
       "</table>\n",
       "</div>"
      ],
      "text/plain": [
       "                 Accuracy     auroc Precision        F1    Recall Run Time\n",
       "Log Reg            86.836  0.526839   0.83365  0.819149  0.993333  38.8987\n",
       "Random Forest     86.6051  0.503644  0.817752  0.806077  0.998667  10.2891\n",
       "Decision Tree     86.6051       0.5  0.750044  0.803884         1  14.4648\n",
       "Gradient Boosted  79.7921  0.540828  0.787966  0.792792     0.892  134.904"
      ]
     },
     "execution_count": 54,
     "metadata": {},
     "output_type": "execute_result"
    }
   ],
   "source": [
    "metrics_cv"
   ]
  },
  {
   "cell_type": "markdown",
   "metadata": {},
   "source": [
    "Dropped set 1: "
   ]
  },
  {
   "cell_type": "code",
   "execution_count": 55,
   "metadata": {},
   "outputs": [
    {
     "data": {
      "text/html": [
       "<div>\n",
       "<style scoped>\n",
       "    .dataframe tbody tr th:only-of-type {\n",
       "        vertical-align: middle;\n",
       "    }\n",
       "\n",
       "    .dataframe tbody tr th {\n",
       "        vertical-align: top;\n",
       "    }\n",
       "\n",
       "    .dataframe thead th {\n",
       "        text-align: right;\n",
       "    }\n",
       "</style>\n",
       "<table border=\"1\" class=\"dataframe\">\n",
       "  <thead>\n",
       "    <tr style=\"text-align: right;\">\n",
       "      <th></th>\n",
       "      <th>Accuracy</th>\n",
       "      <th>auroc</th>\n",
       "      <th>Precision</th>\n",
       "      <th>F1</th>\n",
       "      <th>Recall</th>\n",
       "      <th>Run Time</th>\n",
       "    </tr>\n",
       "  </thead>\n",
       "  <tbody>\n",
       "    <tr>\n",
       "      <th>Log Reg</th>\n",
       "      <td>86.6051</td>\n",
       "      <td>0.503644</td>\n",
       "      <td>0.817752</td>\n",
       "      <td>0.806077</td>\n",
       "      <td>0.998667</td>\n",
       "      <td>32.9892</td>\n",
       "    </tr>\n",
       "    <tr>\n",
       "      <th>Random Forest</th>\n",
       "      <td>86.4896</td>\n",
       "      <td>0.513908</td>\n",
       "      <td>0.812401</td>\n",
       "      <td>0.811569</td>\n",
       "      <td>0.993333</td>\n",
       "      <td>8.95139</td>\n",
       "    </tr>\n",
       "    <tr>\n",
       "      <th>Decision Tree</th>\n",
       "      <td>77.0208</td>\n",
       "      <td>0.550333</td>\n",
       "      <td>0.789675</td>\n",
       "      <td>0.779437</td>\n",
       "      <td>0.850667</td>\n",
       "      <td>44.6713</td>\n",
       "    </tr>\n",
       "    <tr>\n",
       "      <th>Gradient Boosted</th>\n",
       "      <td>82.1016</td>\n",
       "      <td>0.594241</td>\n",
       "      <td>0.813692</td>\n",
       "      <td>0.817213</td>\n",
       "      <td>0.904</td>\n",
       "      <td>118.625</td>\n",
       "    </tr>\n",
       "  </tbody>\n",
       "</table>\n",
       "</div>"
      ],
      "text/plain": [
       "                 Accuracy     auroc Precision        F1    Recall Run Time\n",
       "Log Reg           86.6051  0.503644  0.817752  0.806077  0.998667  32.9892\n",
       "Random Forest     86.4896  0.513908  0.812401  0.811569  0.993333  8.95139\n",
       "Decision Tree     77.0208  0.550333  0.789675  0.779437  0.850667  44.6713\n",
       "Gradient Boosted  82.1016  0.594241  0.813692  0.817213     0.904  118.625"
      ]
     },
     "execution_count": 55,
     "metadata": {},
     "output_type": "execute_result"
    }
   ],
   "source": [
    "metrics_cv_drop"
   ]
  },
  {
   "cell_type": "markdown",
   "metadata": {},
   "source": [
    "Dropped set 2:"
   ]
  },
  {
   "cell_type": "code",
   "execution_count": 56,
   "metadata": {},
   "outputs": [
    {
     "data": {
      "text/html": [
       "<div>\n",
       "<style scoped>\n",
       "    .dataframe tbody tr th:only-of-type {\n",
       "        vertical-align: middle;\n",
       "    }\n",
       "\n",
       "    .dataframe tbody tr th {\n",
       "        vertical-align: top;\n",
       "    }\n",
       "\n",
       "    .dataframe thead th {\n",
       "        text-align: right;\n",
       "    }\n",
       "</style>\n",
       "<table border=\"1\" class=\"dataframe\">\n",
       "  <thead>\n",
       "    <tr style=\"text-align: right;\">\n",
       "      <th></th>\n",
       "      <th>Accuracy</th>\n",
       "      <th>auroc</th>\n",
       "      <th>Precision</th>\n",
       "      <th>F1</th>\n",
       "      <th>Recall</th>\n",
       "      <th>Run Time</th>\n",
       "    </tr>\n",
       "  </thead>\n",
       "  <tbody>\n",
       "    <tr>\n",
       "      <th>Log Reg</th>\n",
       "      <td>86.3741</td>\n",
       "      <td>0.509598</td>\n",
       "      <td>0.802221</td>\n",
       "      <td>0.808979</td>\n",
       "      <td>0.993333</td>\n",
       "      <td>35.3152</td>\n",
       "    </tr>\n",
       "    <tr>\n",
       "      <th>Random Forest</th>\n",
       "      <td>86.7206</td>\n",
       "      <td>0.511598</td>\n",
       "      <td>0.832757</td>\n",
       "      <td>0.810871</td>\n",
       "      <td>0.997333</td>\n",
       "      <td>9.24619</td>\n",
       "    </tr>\n",
       "    <tr>\n",
       "      <th>Decision Tree</th>\n",
       "      <td>75.6351</td>\n",
       "      <td>0.556908</td>\n",
       "      <td>0.791546</td>\n",
       "      <td>0.772374</td>\n",
       "      <td>0.829333</td>\n",
       "      <td>45.1498</td>\n",
       "    </tr>\n",
       "    <tr>\n",
       "      <th>Gradient Boosted</th>\n",
       "      <td>81.9861</td>\n",
       "      <td>0.582644</td>\n",
       "      <td>0.809003</td>\n",
       "      <td>0.81414</td>\n",
       "      <td>0.906667</td>\n",
       "      <td>123.874</td>\n",
       "    </tr>\n",
       "  </tbody>\n",
       "</table>\n",
       "</div>"
      ],
      "text/plain": [
       "                 Accuracy     auroc Precision        F1    Recall Run Time\n",
       "Log Reg           86.3741  0.509598  0.802221  0.808979  0.993333  35.3152\n",
       "Random Forest     86.7206  0.511598  0.832757  0.810871  0.997333  9.24619\n",
       "Decision Tree     75.6351  0.556908  0.791546  0.772374  0.829333  45.1498\n",
       "Gradient Boosted  81.9861  0.582644  0.809003   0.81414  0.906667  123.874"
      ]
     },
     "execution_count": 56,
     "metadata": {},
     "output_type": "execute_result"
    }
   ],
   "source": [
    "metrics_cv_drop2"
   ]
  },
  {
   "cell_type": "markdown",
   "metadata": {},
   "source": [
    "### Confusions Metrices for Top Models"
   ]
  },
  {
   "cell_type": "markdown",
   "metadata": {},
   "source": [
    "#### Confusion Matrix for Benchmark"
   ]
  },
  {
   "cell_type": "code",
   "execution_count": 60,
   "metadata": {},
   "outputs": [
    {
     "name": "stdout",
     "output_type": "stream",
     "text": [
      "[[747.   3.]\n",
      " [104.  12.]]\n"
     ]
    }
   ],
   "source": [
    "print(multi_bench.confusionMatrix().toArray())"
   ]
  },
  {
   "cell_type": "markdown",
   "metadata": {},
   "source": [
    "#### Confusion Matrix for all Features"
   ]
  },
  {
   "cell_type": "code",
   "execution_count": 59,
   "metadata": {},
   "outputs": [
    {
     "name": "stdout",
     "output_type": "stream",
     "text": [
      "[[669.  81.]\n",
      " [ 94.  22.]]\n"
     ]
    }
   ],
   "source": [
    "print(multi_gb.confusionMatrix().toArray())"
   ]
  },
  {
   "cell_type": "markdown",
   "metadata": {},
   "source": [
    "#### Confusion Matrix for Features with importance > 100"
   ]
  },
  {
   "cell_type": "code",
   "execution_count": 58,
   "metadata": {},
   "outputs": [
    {
     "name": "stdout",
     "output_type": "stream",
     "text": [
      "[[678.  72.]\n",
      " [ 83.  33.]]\n"
     ]
    }
   ],
   "source": [
    "print(multi_gb_drop.confusionMatrix().toArray())"
   ]
  },
  {
   "cell_type": "markdown",
   "metadata": {},
   "source": [
    "#### Confusions Matrix for all Features except Bottom 5"
   ]
  },
  {
   "cell_type": "code",
   "execution_count": 57,
   "metadata": {},
   "outputs": [
    {
     "name": "stdout",
     "output_type": "stream",
     "text": [
      "[[680.  70.]\n",
      " [ 86.  30.]]\n"
     ]
    }
   ],
   "source": [
    "print(multi_gb_drop1.confusionMatrix().toArray())"
   ]
  }
 ],
 "metadata": {
  "kernelspec": {
   "display_name": "DS 5110",
   "language": "python",
   "name": "ds5110"
  },
  "language_info": {
   "codemirror_mode": {
    "name": "ipython",
    "version": 3
   },
   "file_extension": ".py",
   "mimetype": "text/x-python",
   "name": "python",
   "nbconvert_exporter": "python",
   "pygments_lexer": "ipython3",
   "version": "3.7.10"
  }
 },
 "nbformat": 4,
 "nbformat_minor": 4
}
